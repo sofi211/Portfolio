{
 "cells": [
  {
   "cell_type": "markdown",
   "id": "0421122b",
   "metadata": {},
   "source": [
    "# Прогнозирование оттока клиентов для оператора связи\n",
    "\n",
    "Построим модель машинного обучения для бинарной классификации для прогнозирования оттока клиентов.\n",
    "\n",
    "Оператор предоставляет два типа услуг:\n",
    "- Стационарную телефонную связь.Возможно подключение телефонного аппарата к нескольким линиям одновременно.\n",
    "- Интернет. Подключение может быть двух типов: \n",
    "    - через телефонную линию (DSL, от англ. digital subscriber line, «цифровая абонентская линия»)\n",
    "    - оптоволоконный кабель(Fiber optic).\n",
    "    \n",
    "    \n",
    "Также доступны такие услуги:\n",
    "- Интернет-безопасность: антивирус (DeviceProtection)\n",
    "- Блокировка небезопасных сайтов (OnlineSecurity)\n",
    "- Выделенная линия технической поддержки (TechSupport)\n",
    "- Облачное хранилище файлов для резервного копирования данных (OnlineBackup)\n",
    "- Стриминговое телевидение (StreamingTV) и каталог фильмов (StreamingMovies)\n",
    "\n",
    "За услуги клиенты могут платить каждый месяц или заключить договор на 1–2 года. Доступны различные способы расчёта и возможность получения электронного чека."
   ]
  },
  {
   "cell_type": "code",
   "execution_count": 1,
   "id": "4adfb45c",
   "metadata": {},
   "outputs": [],
   "source": [
    "import pandas as pd\n",
    "import numpy as np\n",
    "import matplotlib.pyplot as plt\n",
    "import seaborn as sns\n",
    "import textwrap\n",
    "\n",
    "import time\n",
    "\n",
    "from sklearn.model_selection import train_test_split\n",
    "from sklearn.model_selection import cross_val_score\n",
    "from sklearn.model_selection import GridSearchCV\n",
    "from sklearn.preprocessing import OneHotEncoder\n",
    "from sklearn.metrics import confusion_matrix, accuracy_score, recall_score, precision_score, f1_score, roc_auc_score, roc_curve\n",
    "from sklearn.ensemble import RandomForestClassifier\n",
    "from sklearn.linear_model import LogisticRegression\n",
    "from sklearn.utils import shuffle\n",
    "\n",
    "from catboost import CatBoostClassifier, Pool\n",
    "\n",
    "RS = 42\n",
    "\n",
    "import warnings\n",
    "warnings.filterwarnings(\"ignore\")"
   ]
  },
  {
   "cell_type": "code",
   "execution_count": 2,
   "id": "7d50fb7f",
   "metadata": {},
   "outputs": [],
   "source": [
    "pd.set_option('display.max_columns', None)   # видны все столбцы\n",
    "pd.set_option('display.max_rows', None)      # и строки"
   ]
  },
  {
   "cell_type": "markdown",
   "id": "9225ff43",
   "metadata": {},
   "source": [
    "## Знакомство с данными"
   ]
  },
  {
   "cell_type": "code",
   "execution_count": 3,
   "id": "9f5ba925",
   "metadata": {},
   "outputs": [],
   "source": [
    "# Загрузка данных\n",
    "\n",
    "contract = pd.read_csv('/datasets/final_provider/contract.csv')\n",
    "personal = pd.read_csv('/datasets/final_provider/personal.csv')\n",
    "internet = pd.read_csv('/datasets/final_provider/internet.csv')\n",
    "phone = pd.read_csv('/datasets/final_provider/phone.csv')\n",
    "\n",
    "data = [contract, personal, internet, phone]\n",
    "data_name = ['contract', 'personal', 'internet', 'phone']"
   ]
  },
  {
   "cell_type": "markdown",
   "id": "6a9c3055",
   "metadata": {},
   "source": [
    "Описание файлов:\n",
    "\n",
    "Данные состоят из файлов, полученных из разных источников. Во всех файлах столбец customerID содержит код клиента.\n",
    "\n",
    "- contract_new.csv — информация о договоре\n",
    "    - BeginDate - дата, с которой клиент начал пользоваться услугами компании\n",
    "    - EndDate - дата, с которой клиент перестал пользоваться услугами компании (No - клиент на данный момент пользуется услугами компании)\n",
    "    - Type - периодичность оплаты\n",
    "    - PaperlessBilling - выставление бумажного счета\n",
    "    - PaymentMethod - способ оплаты\n",
    "    - MonthlyCharges - сумма ежемесячного платежа\n",
    "    - TotalCharges - итоговая сумма, которую заплатил клиент, пользуясь услугами компании  \n",
    "    \n",
    "    \n",
    "- personal_new.csv — персональные данные клиента\n",
    "    - gender - пол клиента\n",
    "    - SeniorCitizen - наличие пенсионного статуса\n",
    "    - Partner - наличие партнера\n",
    "    - Dependents - наличие иждевенцев\n",
    "    \n",
    "    \n",
    "- internet_new.csv — информация об интернет-услугах\n",
    "    - InternetService - тип подключения интернета\n",
    "    - OnlineSecurity - наличие услуги по блокировкае небезопасных сайтов\n",
    "    - OnlineBackup - наличие услуги облачного хранилища файлов для резервного копирования данных\n",
    "    - DeviceProtection - наличие услуги антивируса\n",
    "    - TechSupport - наличие выделенной линии технической поддержки\n",
    "    - StreamingTV - наличие услуги стримингового телефидения\n",
    "    - StreamingMovies - наличие услуги каталога фильмов\n",
    "    \n",
    "    \n",
    "- phone_new.csv — информация об услугах телефонии\n",
    "    - MultipleLines - наличие параллельных линий (телефонная связь)\n",
    "\n",
    "\n",
    "Информация о договорах актуальна на 1 февраля 2020."
   ]
  },
  {
   "cell_type": "code",
   "execution_count": 4,
   "id": "a9ee867e",
   "metadata": {
    "scrolled": false
   },
   "outputs": [
    {
     "name": "stdout",
     "output_type": "stream",
     "text": [
      "\u001b[1mcontract\u001b[0m\n"
     ]
    },
    {
     "data": {
      "text/html": [
       "<div>\n",
       "<style scoped>\n",
       "    .dataframe tbody tr th:only-of-type {\n",
       "        vertical-align: middle;\n",
       "    }\n",
       "\n",
       "    .dataframe tbody tr th {\n",
       "        vertical-align: top;\n",
       "    }\n",
       "\n",
       "    .dataframe thead th {\n",
       "        text-align: right;\n",
       "    }\n",
       "</style>\n",
       "<table border=\"1\" class=\"dataframe\">\n",
       "  <thead>\n",
       "    <tr style=\"text-align: right;\">\n",
       "      <th></th>\n",
       "      <th>customerID</th>\n",
       "      <th>BeginDate</th>\n",
       "      <th>EndDate</th>\n",
       "      <th>Type</th>\n",
       "      <th>PaperlessBilling</th>\n",
       "      <th>PaymentMethod</th>\n",
       "      <th>MonthlyCharges</th>\n",
       "      <th>TotalCharges</th>\n",
       "    </tr>\n",
       "  </thead>\n",
       "  <tbody>\n",
       "    <tr>\n",
       "      <th>0</th>\n",
       "      <td>7590-VHVEG</td>\n",
       "      <td>2020-01-01</td>\n",
       "      <td>No</td>\n",
       "      <td>Month-to-month</td>\n",
       "      <td>Yes</td>\n",
       "      <td>Electronic check</td>\n",
       "      <td>29.85</td>\n",
       "      <td>29.85</td>\n",
       "    </tr>\n",
       "    <tr>\n",
       "      <th>1</th>\n",
       "      <td>5575-GNVDE</td>\n",
       "      <td>2017-04-01</td>\n",
       "      <td>No</td>\n",
       "      <td>One year</td>\n",
       "      <td>No</td>\n",
       "      <td>Mailed check</td>\n",
       "      <td>56.95</td>\n",
       "      <td>1889.5</td>\n",
       "    </tr>\n",
       "    <tr>\n",
       "      <th>2</th>\n",
       "      <td>3668-QPYBK</td>\n",
       "      <td>2019-10-01</td>\n",
       "      <td>2019-12-01 00:00:00</td>\n",
       "      <td>Month-to-month</td>\n",
       "      <td>Yes</td>\n",
       "      <td>Mailed check</td>\n",
       "      <td>53.85</td>\n",
       "      <td>108.15</td>\n",
       "    </tr>\n",
       "    <tr>\n",
       "      <th>3</th>\n",
       "      <td>7795-CFOCW</td>\n",
       "      <td>2016-05-01</td>\n",
       "      <td>No</td>\n",
       "      <td>One year</td>\n",
       "      <td>No</td>\n",
       "      <td>Bank transfer (automatic)</td>\n",
       "      <td>42.30</td>\n",
       "      <td>1840.75</td>\n",
       "    </tr>\n",
       "    <tr>\n",
       "      <th>4</th>\n",
       "      <td>9237-HQITU</td>\n",
       "      <td>2019-09-01</td>\n",
       "      <td>2019-11-01 00:00:00</td>\n",
       "      <td>Month-to-month</td>\n",
       "      <td>Yes</td>\n",
       "      <td>Electronic check</td>\n",
       "      <td>70.70</td>\n",
       "      <td>151.65</td>\n",
       "    </tr>\n",
       "  </tbody>\n",
       "</table>\n",
       "</div>"
      ],
      "text/plain": [
       "   customerID   BeginDate              EndDate            Type  \\\n",
       "0  7590-VHVEG  2020-01-01                   No  Month-to-month   \n",
       "1  5575-GNVDE  2017-04-01                   No        One year   \n",
       "2  3668-QPYBK  2019-10-01  2019-12-01 00:00:00  Month-to-month   \n",
       "3  7795-CFOCW  2016-05-01                   No        One year   \n",
       "4  9237-HQITU  2019-09-01  2019-11-01 00:00:00  Month-to-month   \n",
       "\n",
       "  PaperlessBilling              PaymentMethod  MonthlyCharges TotalCharges  \n",
       "0              Yes           Electronic check           29.85        29.85  \n",
       "1               No               Mailed check           56.95       1889.5  \n",
       "2              Yes               Mailed check           53.85       108.15  \n",
       "3               No  Bank transfer (automatic)           42.30      1840.75  \n",
       "4              Yes           Electronic check           70.70       151.65  "
      ]
     },
     "metadata": {},
     "output_type": "display_data"
    },
    {
     "name": "stdout",
     "output_type": "stream",
     "text": [
      "<class 'pandas.core.frame.DataFrame'>\n",
      "RangeIndex: 7043 entries, 0 to 7042\n",
      "Data columns (total 8 columns):\n",
      " #   Column            Non-Null Count  Dtype  \n",
      "---  ------            --------------  -----  \n",
      " 0   customerID        7043 non-null   object \n",
      " 1   BeginDate         7043 non-null   object \n",
      " 2   EndDate           7043 non-null   object \n",
      " 3   Type              7043 non-null   object \n",
      " 4   PaperlessBilling  7043 non-null   object \n",
      " 5   PaymentMethod     7043 non-null   object \n",
      " 6   MonthlyCharges    7043 non-null   float64\n",
      " 7   TotalCharges      7043 non-null   object \n",
      "dtypes: float64(1), object(7)\n",
      "memory usage: 440.3+ KB\n",
      "\n",
      "\u001b[1mpersonal\u001b[0m\n"
     ]
    },
    {
     "data": {
      "text/html": [
       "<div>\n",
       "<style scoped>\n",
       "    .dataframe tbody tr th:only-of-type {\n",
       "        vertical-align: middle;\n",
       "    }\n",
       "\n",
       "    .dataframe tbody tr th {\n",
       "        vertical-align: top;\n",
       "    }\n",
       "\n",
       "    .dataframe thead th {\n",
       "        text-align: right;\n",
       "    }\n",
       "</style>\n",
       "<table border=\"1\" class=\"dataframe\">\n",
       "  <thead>\n",
       "    <tr style=\"text-align: right;\">\n",
       "      <th></th>\n",
       "      <th>customerID</th>\n",
       "      <th>gender</th>\n",
       "      <th>SeniorCitizen</th>\n",
       "      <th>Partner</th>\n",
       "      <th>Dependents</th>\n",
       "    </tr>\n",
       "  </thead>\n",
       "  <tbody>\n",
       "    <tr>\n",
       "      <th>0</th>\n",
       "      <td>7590-VHVEG</td>\n",
       "      <td>Female</td>\n",
       "      <td>0</td>\n",
       "      <td>Yes</td>\n",
       "      <td>No</td>\n",
       "    </tr>\n",
       "    <tr>\n",
       "      <th>1</th>\n",
       "      <td>5575-GNVDE</td>\n",
       "      <td>Male</td>\n",
       "      <td>0</td>\n",
       "      <td>No</td>\n",
       "      <td>No</td>\n",
       "    </tr>\n",
       "    <tr>\n",
       "      <th>2</th>\n",
       "      <td>3668-QPYBK</td>\n",
       "      <td>Male</td>\n",
       "      <td>0</td>\n",
       "      <td>No</td>\n",
       "      <td>No</td>\n",
       "    </tr>\n",
       "    <tr>\n",
       "      <th>3</th>\n",
       "      <td>7795-CFOCW</td>\n",
       "      <td>Male</td>\n",
       "      <td>0</td>\n",
       "      <td>No</td>\n",
       "      <td>No</td>\n",
       "    </tr>\n",
       "    <tr>\n",
       "      <th>4</th>\n",
       "      <td>9237-HQITU</td>\n",
       "      <td>Female</td>\n",
       "      <td>0</td>\n",
       "      <td>No</td>\n",
       "      <td>No</td>\n",
       "    </tr>\n",
       "  </tbody>\n",
       "</table>\n",
       "</div>"
      ],
      "text/plain": [
       "   customerID  gender  SeniorCitizen Partner Dependents\n",
       "0  7590-VHVEG  Female              0     Yes         No\n",
       "1  5575-GNVDE    Male              0      No         No\n",
       "2  3668-QPYBK    Male              0      No         No\n",
       "3  7795-CFOCW    Male              0      No         No\n",
       "4  9237-HQITU  Female              0      No         No"
      ]
     },
     "metadata": {},
     "output_type": "display_data"
    },
    {
     "name": "stdout",
     "output_type": "stream",
     "text": [
      "<class 'pandas.core.frame.DataFrame'>\n",
      "RangeIndex: 7043 entries, 0 to 7042\n",
      "Data columns (total 5 columns):\n",
      " #   Column         Non-Null Count  Dtype \n",
      "---  ------         --------------  ----- \n",
      " 0   customerID     7043 non-null   object\n",
      " 1   gender         7043 non-null   object\n",
      " 2   SeniorCitizen  7043 non-null   int64 \n",
      " 3   Partner        7043 non-null   object\n",
      " 4   Dependents     7043 non-null   object\n",
      "dtypes: int64(1), object(4)\n",
      "memory usage: 275.2+ KB\n",
      "\n",
      "\u001b[1minternet\u001b[0m\n"
     ]
    },
    {
     "data": {
      "text/html": [
       "<div>\n",
       "<style scoped>\n",
       "    .dataframe tbody tr th:only-of-type {\n",
       "        vertical-align: middle;\n",
       "    }\n",
       "\n",
       "    .dataframe tbody tr th {\n",
       "        vertical-align: top;\n",
       "    }\n",
       "\n",
       "    .dataframe thead th {\n",
       "        text-align: right;\n",
       "    }\n",
       "</style>\n",
       "<table border=\"1\" class=\"dataframe\">\n",
       "  <thead>\n",
       "    <tr style=\"text-align: right;\">\n",
       "      <th></th>\n",
       "      <th>customerID</th>\n",
       "      <th>InternetService</th>\n",
       "      <th>OnlineSecurity</th>\n",
       "      <th>OnlineBackup</th>\n",
       "      <th>DeviceProtection</th>\n",
       "      <th>TechSupport</th>\n",
       "      <th>StreamingTV</th>\n",
       "      <th>StreamingMovies</th>\n",
       "    </tr>\n",
       "  </thead>\n",
       "  <tbody>\n",
       "    <tr>\n",
       "      <th>0</th>\n",
       "      <td>7590-VHVEG</td>\n",
       "      <td>DSL</td>\n",
       "      <td>No</td>\n",
       "      <td>Yes</td>\n",
       "      <td>No</td>\n",
       "      <td>No</td>\n",
       "      <td>No</td>\n",
       "      <td>No</td>\n",
       "    </tr>\n",
       "    <tr>\n",
       "      <th>1</th>\n",
       "      <td>5575-GNVDE</td>\n",
       "      <td>DSL</td>\n",
       "      <td>Yes</td>\n",
       "      <td>No</td>\n",
       "      <td>Yes</td>\n",
       "      <td>No</td>\n",
       "      <td>No</td>\n",
       "      <td>No</td>\n",
       "    </tr>\n",
       "    <tr>\n",
       "      <th>2</th>\n",
       "      <td>3668-QPYBK</td>\n",
       "      <td>DSL</td>\n",
       "      <td>Yes</td>\n",
       "      <td>Yes</td>\n",
       "      <td>No</td>\n",
       "      <td>No</td>\n",
       "      <td>No</td>\n",
       "      <td>No</td>\n",
       "    </tr>\n",
       "    <tr>\n",
       "      <th>3</th>\n",
       "      <td>7795-CFOCW</td>\n",
       "      <td>DSL</td>\n",
       "      <td>Yes</td>\n",
       "      <td>No</td>\n",
       "      <td>Yes</td>\n",
       "      <td>Yes</td>\n",
       "      <td>No</td>\n",
       "      <td>No</td>\n",
       "    </tr>\n",
       "    <tr>\n",
       "      <th>4</th>\n",
       "      <td>9237-HQITU</td>\n",
       "      <td>Fiber optic</td>\n",
       "      <td>No</td>\n",
       "      <td>No</td>\n",
       "      <td>No</td>\n",
       "      <td>No</td>\n",
       "      <td>No</td>\n",
       "      <td>No</td>\n",
       "    </tr>\n",
       "  </tbody>\n",
       "</table>\n",
       "</div>"
      ],
      "text/plain": [
       "   customerID InternetService OnlineSecurity OnlineBackup DeviceProtection  \\\n",
       "0  7590-VHVEG             DSL             No          Yes               No   \n",
       "1  5575-GNVDE             DSL            Yes           No              Yes   \n",
       "2  3668-QPYBK             DSL            Yes          Yes               No   \n",
       "3  7795-CFOCW             DSL            Yes           No              Yes   \n",
       "4  9237-HQITU     Fiber optic             No           No               No   \n",
       "\n",
       "  TechSupport StreamingTV StreamingMovies  \n",
       "0          No          No              No  \n",
       "1          No          No              No  \n",
       "2          No          No              No  \n",
       "3         Yes          No              No  \n",
       "4          No          No              No  "
      ]
     },
     "metadata": {},
     "output_type": "display_data"
    },
    {
     "name": "stdout",
     "output_type": "stream",
     "text": [
      "<class 'pandas.core.frame.DataFrame'>\n",
      "RangeIndex: 5517 entries, 0 to 5516\n",
      "Data columns (total 8 columns):\n",
      " #   Column            Non-Null Count  Dtype \n",
      "---  ------            --------------  ----- \n",
      " 0   customerID        5517 non-null   object\n",
      " 1   InternetService   5517 non-null   object\n",
      " 2   OnlineSecurity    5517 non-null   object\n",
      " 3   OnlineBackup      5517 non-null   object\n",
      " 4   DeviceProtection  5517 non-null   object\n",
      " 5   TechSupport       5517 non-null   object\n",
      " 6   StreamingTV       5517 non-null   object\n",
      " 7   StreamingMovies   5517 non-null   object\n",
      "dtypes: object(8)\n",
      "memory usage: 344.9+ KB\n",
      "\n",
      "\u001b[1mphone\u001b[0m\n"
     ]
    },
    {
     "data": {
      "text/html": [
       "<div>\n",
       "<style scoped>\n",
       "    .dataframe tbody tr th:only-of-type {\n",
       "        vertical-align: middle;\n",
       "    }\n",
       "\n",
       "    .dataframe tbody tr th {\n",
       "        vertical-align: top;\n",
       "    }\n",
       "\n",
       "    .dataframe thead th {\n",
       "        text-align: right;\n",
       "    }\n",
       "</style>\n",
       "<table border=\"1\" class=\"dataframe\">\n",
       "  <thead>\n",
       "    <tr style=\"text-align: right;\">\n",
       "      <th></th>\n",
       "      <th>customerID</th>\n",
       "      <th>MultipleLines</th>\n",
       "    </tr>\n",
       "  </thead>\n",
       "  <tbody>\n",
       "    <tr>\n",
       "      <th>0</th>\n",
       "      <td>5575-GNVDE</td>\n",
       "      <td>No</td>\n",
       "    </tr>\n",
       "    <tr>\n",
       "      <th>1</th>\n",
       "      <td>3668-QPYBK</td>\n",
       "      <td>No</td>\n",
       "    </tr>\n",
       "    <tr>\n",
       "      <th>2</th>\n",
       "      <td>9237-HQITU</td>\n",
       "      <td>No</td>\n",
       "    </tr>\n",
       "    <tr>\n",
       "      <th>3</th>\n",
       "      <td>9305-CDSKC</td>\n",
       "      <td>Yes</td>\n",
       "    </tr>\n",
       "    <tr>\n",
       "      <th>4</th>\n",
       "      <td>1452-KIOVK</td>\n",
       "      <td>Yes</td>\n",
       "    </tr>\n",
       "  </tbody>\n",
       "</table>\n",
       "</div>"
      ],
      "text/plain": [
       "   customerID MultipleLines\n",
       "0  5575-GNVDE            No\n",
       "1  3668-QPYBK            No\n",
       "2  9237-HQITU            No\n",
       "3  9305-CDSKC           Yes\n",
       "4  1452-KIOVK           Yes"
      ]
     },
     "metadata": {},
     "output_type": "display_data"
    },
    {
     "name": "stdout",
     "output_type": "stream",
     "text": [
      "<class 'pandas.core.frame.DataFrame'>\n",
      "RangeIndex: 6361 entries, 0 to 6360\n",
      "Data columns (total 2 columns):\n",
      " #   Column         Non-Null Count  Dtype \n",
      "---  ------         --------------  ----- \n",
      " 0   customerID     6361 non-null   object\n",
      " 1   MultipleLines  6361 non-null   object\n",
      "dtypes: object(2)\n",
      "memory usage: 99.5+ KB\n",
      "\n"
     ]
    }
   ],
   "source": [
    "for i in range(len(data)):\n",
    "    print('\\033[1m' + data_name[i] + '\\033[0m')\n",
    "    display(data[i].head())\n",
    "    data[i].info()\n",
    "    print()"
   ]
  },
  {
   "cell_type": "code",
   "execution_count": 5,
   "id": "effe73c8",
   "metadata": {},
   "outputs": [
    {
     "name": "stdout",
     "output_type": "stream",
     "text": [
      "\u001b[1mBeginDate\u001b[0m\n",
      "['2020-01-01' '2017-04-01' '2019-10-01' '2016-05-01' '2019-09-01'\n",
      " '2019-03-01' '2018-04-01' '2019-04-01' '2017-07-01' '2014-12-01'\n",
      " '2019-01-01' '2018-10-01' '2015-04-01' '2015-09-01' '2018-01-01'\n",
      " '2014-05-01' '2015-10-01' '2014-03-01' '2018-05-01' '2019-11-01'\n",
      " '2019-02-01' '2016-01-01' '2017-08-01' '2015-12-01' '2014-02-01'\n",
      " '2018-06-01' '2019-12-01' '2017-11-01' '2019-06-01' '2016-04-01'\n",
      " '2017-02-01' '2018-12-01' '2014-04-01' '2018-09-01' '2014-11-01'\n",
      " '2016-07-01' '2015-02-01' '2018-07-01' '2014-08-01' '2016-03-01'\n",
      " '2018-08-01' '2014-10-01' '2015-06-01' '2016-08-01' '2019-05-01'\n",
      " '2017-03-01' '2016-02-01' '2017-09-01' '2014-09-01' '2017-12-01'\n",
      " '2016-12-01' '2017-06-01' '2015-05-01' '2016-10-01' '2016-09-01'\n",
      " '2019-08-01' '2019-07-01' '2017-05-01' '2017-10-01' '2014-07-01'\n",
      " '2018-03-01' '2015-01-01' '2018-11-01' '2015-03-01' '2018-02-01'\n",
      " '2016-06-01' '2015-08-01' '2015-11-01' '2014-06-01' '2017-01-01'\n",
      " '2015-07-01' '2020-02-01' '2016-11-01' '2013-11-01' '2014-01-01'\n",
      " '2013-10-01' '2013-12-01']\n",
      "\n",
      "\u001b[1mEndDate\u001b[0m\n",
      "['No' '2019-12-01 00:00:00' '2019-11-01 00:00:00' '2019-10-01 00:00:00'\n",
      " '2020-01-01 00:00:00']\n",
      "\n",
      "\u001b[1mType\u001b[0m\n",
      "['Month-to-month' 'One year' 'Two year']\n",
      "\n",
      "\u001b[1mPaperlessBilling\u001b[0m\n",
      "['Yes' 'No']\n",
      "\n",
      "\u001b[1mPaymentMethod\u001b[0m\n",
      "['Electronic check' 'Mailed check' 'Bank transfer (automatic)'\n",
      " 'Credit card (automatic)']\n",
      "\n",
      "\u001b[1mMonthlyCharges\u001b[0m\n",
      "[29.85 56.95 53.85 ... 63.1  44.2  78.7 ]\n",
      "\n",
      "\u001b[1mTotalCharges\u001b[0m\n",
      "['29.85' '1889.5' '108.15' ... '346.45' '306.6' '6844.5']\n",
      "\n",
      "\u001b[1mgender\u001b[0m\n",
      "['Female' 'Male']\n",
      "\n",
      "\u001b[1mSeniorCitizen\u001b[0m\n",
      "[0 1]\n",
      "\n",
      "\u001b[1mPartner\u001b[0m\n",
      "['Yes' 'No']\n",
      "\n",
      "\u001b[1mDependents\u001b[0m\n",
      "['No' 'Yes']\n",
      "\n",
      "\u001b[1mInternetService\u001b[0m\n",
      "['DSL' 'Fiber optic']\n",
      "\n",
      "\u001b[1mOnlineSecurity\u001b[0m\n",
      "['No' 'Yes']\n",
      "\n",
      "\u001b[1mOnlineBackup\u001b[0m\n",
      "['Yes' 'No']\n",
      "\n",
      "\u001b[1mDeviceProtection\u001b[0m\n",
      "['No' 'Yes']\n",
      "\n",
      "\u001b[1mTechSupport\u001b[0m\n",
      "['No' 'Yes']\n",
      "\n",
      "\u001b[1mStreamingTV\u001b[0m\n",
      "['No' 'Yes']\n",
      "\n",
      "\u001b[1mStreamingMovies\u001b[0m\n",
      "['No' 'Yes']\n",
      "\n",
      "\u001b[1mMultipleLines\u001b[0m\n",
      "['No' 'Yes']\n",
      "\n"
     ]
    }
   ],
   "source": [
    "# Изучение уникальных значений в каждом из столбцов\n",
    "\n",
    "for i in range(len(data)):\n",
    "    for index in data[i].columns:\n",
    "        if index != 'customerID':\n",
    "            print('\\033[1m' + index + '\\033[0m')\n",
    "            print(data[i][str(index)].unique())\n",
    "            print()"
   ]
  },
  {
   "cell_type": "code",
   "execution_count": 6,
   "id": "18f46c07",
   "metadata": {},
   "outputs": [
    {
     "name": "stdout",
     "output_type": "stream",
     "text": [
      "\u001b[1mcontract\u001b[0m\n",
      "customerID          0\n",
      "BeginDate           0\n",
      "EndDate             0\n",
      "Type                0\n",
      "PaperlessBilling    0\n",
      "PaymentMethod       0\n",
      "MonthlyCharges      0\n",
      "TotalCharges        0\n",
      "dtype: int64\n",
      "\n",
      "\u001b[1mpersonal\u001b[0m\n",
      "customerID       0\n",
      "gender           0\n",
      "SeniorCitizen    0\n",
      "Partner          0\n",
      "Dependents       0\n",
      "dtype: int64\n",
      "\n",
      "\u001b[1minternet\u001b[0m\n",
      "customerID          0\n",
      "InternetService     0\n",
      "OnlineSecurity      0\n",
      "OnlineBackup        0\n",
      "DeviceProtection    0\n",
      "TechSupport         0\n",
      "StreamingTV         0\n",
      "StreamingMovies     0\n",
      "dtype: int64\n",
      "\n",
      "\u001b[1mphone\u001b[0m\n",
      "customerID       0\n",
      "MultipleLines    0\n",
      "dtype: int64\n",
      "\n"
     ]
    }
   ],
   "source": [
    "# Изучение явных пропущенных значений\n",
    "\n",
    "for i in range(len(data)):\n",
    "    print('\\033[1m' + data_name[i] + '\\033[0m')\n",
    "    print(data[i].isna().sum())\n",
    "    print()"
   ]
  },
  {
   "cell_type": "code",
   "execution_count": 7,
   "id": "2f226192",
   "metadata": {},
   "outputs": [
    {
     "name": "stdout",
     "output_type": "stream",
     "text": [
      "\u001b[1mcontract\u001b[0m\n"
     ]
    },
    {
     "data": {
      "text/plain": [
       "customerID\n",
       "0002-ORFBO    1\n",
       "6616-AALSR    1\n",
       "6625-UTXEW    1\n",
       "6625-IUTTT    1\n",
       "6625-FLENO    1\n",
       "Name: BeginDate, dtype: int64"
      ]
     },
     "metadata": {},
     "output_type": "display_data"
    },
    {
     "name": "stdout",
     "output_type": "stream",
     "text": [
      "\u001b[1mpersonal\u001b[0m\n"
     ]
    },
    {
     "data": {
      "text/plain": [
       "customerID\n",
       "0002-ORFBO    1\n",
       "6616-AALSR    1\n",
       "6625-UTXEW    1\n",
       "6625-IUTTT    1\n",
       "6625-FLENO    1\n",
       "Name: gender, dtype: int64"
      ]
     },
     "metadata": {},
     "output_type": "display_data"
    },
    {
     "name": "stdout",
     "output_type": "stream",
     "text": [
      "\u001b[1minternet\u001b[0m\n"
     ]
    },
    {
     "data": {
      "text/plain": [
       "customerID\n",
       "0002-ORFBO    1\n",
       "6620-JDYNW    1\n",
       "6631-HMANX    1\n",
       "6630-UJZMY    1\n",
       "6629-LADHQ    1\n",
       "Name: InternetService, dtype: int64"
      ]
     },
     "metadata": {},
     "output_type": "display_data"
    },
    {
     "name": "stdout",
     "output_type": "stream",
     "text": [
      "\u001b[1mphone\u001b[0m\n"
     ]
    },
    {
     "data": {
      "text/plain": [
       "customerID\n",
       "0002-ORFBO    1\n",
       "6625-IUTTT    1\n",
       "6621-YOBKI    1\n",
       "6621-NRZAK    1\n",
       "6620-JDYNW    1\n",
       "Name: MultipleLines, dtype: int64"
      ]
     },
     "metadata": {},
     "output_type": "display_data"
    }
   ],
   "source": [
    "# Изучение дубликатов\n",
    "\n",
    "for i in range(len(data)):\n",
    "    print('\\033[1m' + data_name[i] + '\\033[0m')\n",
    "    display(data[i].groupby('customerID').count().iloc[:,0].sort_values(ascending=False).head())"
   ]
  },
  {
   "cell_type": "markdown",
   "id": "49ef30a5",
   "metadata": {},
   "source": [
    "Объединим все таблицы в одну (data_total) для построения модели машинного обучения. Объединять будем через тип объединения 'outer', чтобы не упустить ни одного пользователя.\n",
    "\n",
    "В дальнейшем будем работать с ней."
   ]
  },
  {
   "cell_type": "code",
   "execution_count": 8,
   "id": "2ae586f9",
   "metadata": {},
   "outputs": [
    {
     "data": {
      "text/html": [
       "<div>\n",
       "<style scoped>\n",
       "    .dataframe tbody tr th:only-of-type {\n",
       "        vertical-align: middle;\n",
       "    }\n",
       "\n",
       "    .dataframe tbody tr th {\n",
       "        vertical-align: top;\n",
       "    }\n",
       "\n",
       "    .dataframe thead th {\n",
       "        text-align: right;\n",
       "    }\n",
       "</style>\n",
       "<table border=\"1\" class=\"dataframe\">\n",
       "  <thead>\n",
       "    <tr style=\"text-align: right;\">\n",
       "      <th></th>\n",
       "      <th>customerID</th>\n",
       "      <th>BeginDate</th>\n",
       "      <th>EndDate</th>\n",
       "      <th>Type</th>\n",
       "      <th>PaperlessBilling</th>\n",
       "      <th>PaymentMethod</th>\n",
       "      <th>MonthlyCharges</th>\n",
       "      <th>TotalCharges</th>\n",
       "      <th>gender</th>\n",
       "      <th>SeniorCitizen</th>\n",
       "      <th>Partner</th>\n",
       "      <th>Dependents</th>\n",
       "      <th>InternetService</th>\n",
       "      <th>OnlineSecurity</th>\n",
       "      <th>OnlineBackup</th>\n",
       "      <th>DeviceProtection</th>\n",
       "      <th>TechSupport</th>\n",
       "      <th>StreamingTV</th>\n",
       "      <th>StreamingMovies</th>\n",
       "      <th>MultipleLines</th>\n",
       "    </tr>\n",
       "  </thead>\n",
       "  <tbody>\n",
       "    <tr>\n",
       "      <th>0</th>\n",
       "      <td>7590-VHVEG</td>\n",
       "      <td>2020-01-01</td>\n",
       "      <td>No</td>\n",
       "      <td>Month-to-month</td>\n",
       "      <td>Yes</td>\n",
       "      <td>Electronic check</td>\n",
       "      <td>29.85</td>\n",
       "      <td>29.85</td>\n",
       "      <td>Female</td>\n",
       "      <td>0</td>\n",
       "      <td>Yes</td>\n",
       "      <td>No</td>\n",
       "      <td>DSL</td>\n",
       "      <td>No</td>\n",
       "      <td>Yes</td>\n",
       "      <td>No</td>\n",
       "      <td>No</td>\n",
       "      <td>No</td>\n",
       "      <td>No</td>\n",
       "      <td>NaN</td>\n",
       "    </tr>\n",
       "    <tr>\n",
       "      <th>1</th>\n",
       "      <td>5575-GNVDE</td>\n",
       "      <td>2017-04-01</td>\n",
       "      <td>No</td>\n",
       "      <td>One year</td>\n",
       "      <td>No</td>\n",
       "      <td>Mailed check</td>\n",
       "      <td>56.95</td>\n",
       "      <td>1889.5</td>\n",
       "      <td>Male</td>\n",
       "      <td>0</td>\n",
       "      <td>No</td>\n",
       "      <td>No</td>\n",
       "      <td>DSL</td>\n",
       "      <td>Yes</td>\n",
       "      <td>No</td>\n",
       "      <td>Yes</td>\n",
       "      <td>No</td>\n",
       "      <td>No</td>\n",
       "      <td>No</td>\n",
       "      <td>No</td>\n",
       "    </tr>\n",
       "    <tr>\n",
       "      <th>2</th>\n",
       "      <td>3668-QPYBK</td>\n",
       "      <td>2019-10-01</td>\n",
       "      <td>2019-12-01 00:00:00</td>\n",
       "      <td>Month-to-month</td>\n",
       "      <td>Yes</td>\n",
       "      <td>Mailed check</td>\n",
       "      <td>53.85</td>\n",
       "      <td>108.15</td>\n",
       "      <td>Male</td>\n",
       "      <td>0</td>\n",
       "      <td>No</td>\n",
       "      <td>No</td>\n",
       "      <td>DSL</td>\n",
       "      <td>Yes</td>\n",
       "      <td>Yes</td>\n",
       "      <td>No</td>\n",
       "      <td>No</td>\n",
       "      <td>No</td>\n",
       "      <td>No</td>\n",
       "      <td>No</td>\n",
       "    </tr>\n",
       "    <tr>\n",
       "      <th>3</th>\n",
       "      <td>7795-CFOCW</td>\n",
       "      <td>2016-05-01</td>\n",
       "      <td>No</td>\n",
       "      <td>One year</td>\n",
       "      <td>No</td>\n",
       "      <td>Bank transfer (automatic)</td>\n",
       "      <td>42.30</td>\n",
       "      <td>1840.75</td>\n",
       "      <td>Male</td>\n",
       "      <td>0</td>\n",
       "      <td>No</td>\n",
       "      <td>No</td>\n",
       "      <td>DSL</td>\n",
       "      <td>Yes</td>\n",
       "      <td>No</td>\n",
       "      <td>Yes</td>\n",
       "      <td>Yes</td>\n",
       "      <td>No</td>\n",
       "      <td>No</td>\n",
       "      <td>NaN</td>\n",
       "    </tr>\n",
       "    <tr>\n",
       "      <th>4</th>\n",
       "      <td>9237-HQITU</td>\n",
       "      <td>2019-09-01</td>\n",
       "      <td>2019-11-01 00:00:00</td>\n",
       "      <td>Month-to-month</td>\n",
       "      <td>Yes</td>\n",
       "      <td>Electronic check</td>\n",
       "      <td>70.70</td>\n",
       "      <td>151.65</td>\n",
       "      <td>Female</td>\n",
       "      <td>0</td>\n",
       "      <td>No</td>\n",
       "      <td>No</td>\n",
       "      <td>Fiber optic</td>\n",
       "      <td>No</td>\n",
       "      <td>No</td>\n",
       "      <td>No</td>\n",
       "      <td>No</td>\n",
       "      <td>No</td>\n",
       "      <td>No</td>\n",
       "      <td>No</td>\n",
       "    </tr>\n",
       "  </tbody>\n",
       "</table>\n",
       "</div>"
      ],
      "text/plain": [
       "   customerID   BeginDate              EndDate            Type  \\\n",
       "0  7590-VHVEG  2020-01-01                   No  Month-to-month   \n",
       "1  5575-GNVDE  2017-04-01                   No        One year   \n",
       "2  3668-QPYBK  2019-10-01  2019-12-01 00:00:00  Month-to-month   \n",
       "3  7795-CFOCW  2016-05-01                   No        One year   \n",
       "4  9237-HQITU  2019-09-01  2019-11-01 00:00:00  Month-to-month   \n",
       "\n",
       "  PaperlessBilling              PaymentMethod  MonthlyCharges TotalCharges  \\\n",
       "0              Yes           Electronic check           29.85        29.85   \n",
       "1               No               Mailed check           56.95       1889.5   \n",
       "2              Yes               Mailed check           53.85       108.15   \n",
       "3               No  Bank transfer (automatic)           42.30      1840.75   \n",
       "4              Yes           Electronic check           70.70       151.65   \n",
       "\n",
       "   gender  SeniorCitizen Partner Dependents InternetService OnlineSecurity  \\\n",
       "0  Female              0     Yes         No             DSL             No   \n",
       "1    Male              0      No         No             DSL            Yes   \n",
       "2    Male              0      No         No             DSL            Yes   \n",
       "3    Male              0      No         No             DSL            Yes   \n",
       "4  Female              0      No         No     Fiber optic             No   \n",
       "\n",
       "  OnlineBackup DeviceProtection TechSupport StreamingTV StreamingMovies  \\\n",
       "0          Yes               No          No          No              No   \n",
       "1           No              Yes          No          No              No   \n",
       "2          Yes               No          No          No              No   \n",
       "3           No              Yes         Yes          No              No   \n",
       "4           No               No          No          No              No   \n",
       "\n",
       "  MultipleLines  \n",
       "0           NaN  \n",
       "1            No  \n",
       "2            No  \n",
       "3           NaN  \n",
       "4            No  "
      ]
     },
     "metadata": {},
     "output_type": "display_data"
    },
    {
     "name": "stdout",
     "output_type": "stream",
     "text": [
      "<class 'pandas.core.frame.DataFrame'>\n",
      "Int64Index: 7043 entries, 0 to 7042\n",
      "Data columns (total 20 columns):\n",
      " #   Column            Non-Null Count  Dtype  \n",
      "---  ------            --------------  -----  \n",
      " 0   customerID        7043 non-null   object \n",
      " 1   BeginDate         7043 non-null   object \n",
      " 2   EndDate           7043 non-null   object \n",
      " 3   Type              7043 non-null   object \n",
      " 4   PaperlessBilling  7043 non-null   object \n",
      " 5   PaymentMethod     7043 non-null   object \n",
      " 6   MonthlyCharges    7043 non-null   float64\n",
      " 7   TotalCharges      7043 non-null   object \n",
      " 8   gender            7043 non-null   object \n",
      " 9   SeniorCitizen     7043 non-null   int64  \n",
      " 10  Partner           7043 non-null   object \n",
      " 11  Dependents        7043 non-null   object \n",
      " 12  InternetService   5517 non-null   object \n",
      " 13  OnlineSecurity    5517 non-null   object \n",
      " 14  OnlineBackup      5517 non-null   object \n",
      " 15  DeviceProtection  5517 non-null   object \n",
      " 16  TechSupport       5517 non-null   object \n",
      " 17  StreamingTV       5517 non-null   object \n",
      " 18  StreamingMovies   5517 non-null   object \n",
      " 19  MultipleLines     6361 non-null   object \n",
      "dtypes: float64(1), int64(1), object(18)\n",
      "memory usage: 1.1+ MB\n"
     ]
    }
   ],
   "source": [
    "data_total = contract.merge(personal, on='customerID', how='outer')\n",
    "data_total = data_total.merge(internet, on='customerID', how='outer')\n",
    "data_total = data_total.merge(phone, on='customerID', how='outer')\n",
    "    \n",
    "display(data_total.head())\n",
    "data_total.info()"
   ]
  },
  {
   "cell_type": "markdown",
   "id": "29658a5f",
   "metadata": {},
   "source": [
    "Посмотрим на количество пропусков в итоговой таблице."
   ]
  },
  {
   "cell_type": "code",
   "execution_count": 9,
   "id": "3afb214a",
   "metadata": {},
   "outputs": [
    {
     "data": {
      "text/plain": [
       "customerID             0\n",
       "BeginDate              0\n",
       "EndDate                0\n",
       "Type                   0\n",
       "PaperlessBilling       0\n",
       "PaymentMethod          0\n",
       "MonthlyCharges         0\n",
       "TotalCharges           0\n",
       "gender                 0\n",
       "SeniorCitizen          0\n",
       "Partner                0\n",
       "Dependents             0\n",
       "InternetService     1526\n",
       "OnlineSecurity      1526\n",
       "OnlineBackup        1526\n",
       "DeviceProtection    1526\n",
       "TechSupport         1526\n",
       "StreamingTV         1526\n",
       "StreamingMovies     1526\n",
       "MultipleLines        682\n",
       "dtype: int64"
      ]
     },
     "execution_count": 9,
     "metadata": {},
     "output_type": "execute_result"
    }
   ],
   "source": [
    "data_total.isna().sum()"
   ]
  },
  {
   "cell_type": "markdown",
   "id": "dfc39ecb",
   "metadata": {},
   "source": [
    "## Подготовка и исследовательский анализ данных"
   ]
  },
  {
   "cell_type": "markdown",
   "id": "8d3c94ee",
   "metadata": {},
   "source": [
    "Изменим тип данных в столбце BeginDate с object на datetime:"
   ]
  },
  {
   "cell_type": "code",
   "execution_count": 10,
   "id": "afb72648",
   "metadata": {},
   "outputs": [
    {
     "data": {
      "image/png": "[encoded data removed]",
      "text/plain": [
       "<Figure size 576x360 with 1 Axes>"
      ]
     },
     "metadata": {},
     "output_type": "display_data"
    }
   ],
   "source": [
    "data_total['BeginDate'] = pd.to_datetime(data_total['BeginDate'], format='%Y-%m-%d')\n",
    "\n",
    "sns.set_theme(style=\"ticks\")\n",
    "\n",
    "plt.figure(figsize=(8,5))\n",
    "ax = sns.histplot(data_total['BeginDate'].dt.year)\n",
    "ax.set_title('Распределение количества пользователей по году начала пользования услугами компании', fontsize=14)\n",
    "ax.set(xlabel='Год',\n",
    "       ylabel='Количество новых пользователей')\n",
    "plt.grid()"
   ]
  },
  {
   "cell_type": "markdown",
   "id": "cbc022f5",
   "metadata": {},
   "source": [
    "Данные компании начинаются с 2013 года, далее каждый год количество клиентов понемногу растет. Большой скачок наблюдается в 2019 году."
   ]
  },
  {
   "cell_type": "code",
   "execution_count": 11,
   "id": "3b01ca95",
   "metadata": {},
   "outputs": [
    {
     "name": "stdout",
     "output_type": "stream",
     "text": [
      "Количество клиентов компании =  5174\n"
     ]
    },
    {
     "data": {
      "image/png": "[encoded data removed]",
      "text/plain": [
       "<Figure size 864x360 with 1 Axes>"
      ]
     },
     "metadata": {},
     "output_type": "display_data"
    }
   ],
   "source": [
    "plt.figure(figsize=(12,5))\n",
    "ax = sns.histplot(pd.to_datetime(data_total.loc[data_total['EndDate'] != 'No', 'EndDate'], format='%Y-%m-%d'))\n",
    "ax.set_title('Распределение количества пользователей по дате окончания пользования услугами компании', fontsize=15)\n",
    "ax.set(xlabel='Дата(год-месяц-число)',\n",
    "       ylabel='Количество ушедших пользователей')\n",
    "plt.grid()\n",
    "\n",
    "print('Количество клиентов компании = ', data_total.loc[data_total['EndDate'] == 'No', 'EndDate'].count())"
   ]
  },
  {
   "cell_type": "markdown",
   "id": "55fc7cbd",
   "metadata": {},
   "source": [
    "C октября 2019 года каждый месяц начали уходить пользователи (400-500 человек). На дату выгрузки клиентами компании остаются 5174 человека. Будем делать предсказания для этой группы людей на дату выгрузки данных - 1 февраля 2020."
   ]
  },
  {
   "cell_type": "code",
   "execution_count": 12,
   "id": "2315c11b",
   "metadata": {},
   "outputs": [
    {
     "name": "stdout",
     "output_type": "stream",
     "text": [
      "Минимальное значение ежемесячного платежа (за все время) = 18.25\n",
      "Максимальное значение ежемесячного платежа (за все время) = 118.75\n"
     ]
    },
    {
     "data": {
      "image/png": "[encoded data removed]",
      "text/plain": [
       "<Figure size 1440x360 with 1 Axes>"
      ]
     },
     "metadata": {},
     "output_type": "display_data"
    }
   ],
   "source": [
    "plt.figure(figsize=(20,5))\n",
    "ax = sns.histplot(data_total['MonthlyCharges'], bins=100)\n",
    "ax.set(xlim=(15,120))\n",
    "ax.set_title('Распределение количества пользователей по размеру ежемесячного платежа', fontsize=17)\n",
    "ax.set(xlabel='Сумма платежа',\n",
    "       ylabel='Количество пользователей')\n",
    "plt.grid()\n",
    "\n",
    "print('Минимальное значение ежемесячного платежа (за все время) =', data_total['MonthlyCharges'].min())\n",
    "print('Максимальное значение ежемесячного платежа (за все время) =', data_total['MonthlyCharges'].max())"
   ]
  },
  {
   "cell_type": "markdown",
   "id": "4cb32736",
   "metadata": {},
   "source": [
    "Больше всего клиентов ежемесячно приносят компании по 20-25 денежных единиц.  "
   ]
  },
  {
   "cell_type": "code",
   "execution_count": 13,
   "id": "fe104d4c",
   "metadata": {},
   "outputs": [
    {
     "data": {
      "text/html": [
       "<div>\n",
       "<style scoped>\n",
       "    .dataframe tbody tr th:only-of-type {\n",
       "        vertical-align: middle;\n",
       "    }\n",
       "\n",
       "    .dataframe tbody tr th {\n",
       "        vertical-align: top;\n",
       "    }\n",
       "\n",
       "    .dataframe thead th {\n",
       "        text-align: right;\n",
       "    }\n",
       "</style>\n",
       "<table border=\"1\" class=\"dataframe\">\n",
       "  <thead>\n",
       "    <tr style=\"text-align: right;\">\n",
       "      <th></th>\n",
       "      <th>customerID</th>\n",
       "      <th>BeginDate</th>\n",
       "      <th>EndDate</th>\n",
       "      <th>Type</th>\n",
       "      <th>PaperlessBilling</th>\n",
       "      <th>PaymentMethod</th>\n",
       "      <th>MonthlyCharges</th>\n",
       "      <th>TotalCharges</th>\n",
       "      <th>gender</th>\n",
       "      <th>SeniorCitizen</th>\n",
       "      <th>Partner</th>\n",
       "      <th>Dependents</th>\n",
       "      <th>InternetService</th>\n",
       "      <th>OnlineSecurity</th>\n",
       "      <th>OnlineBackup</th>\n",
       "      <th>DeviceProtection</th>\n",
       "      <th>TechSupport</th>\n",
       "      <th>StreamingTV</th>\n",
       "      <th>StreamingMovies</th>\n",
       "      <th>MultipleLines</th>\n",
       "    </tr>\n",
       "  </thead>\n",
       "  <tbody>\n",
       "    <tr>\n",
       "      <th>488</th>\n",
       "      <td>4472-LVYGI</td>\n",
       "      <td>2020-02-01</td>\n",
       "      <td>No</td>\n",
       "      <td>Two year</td>\n",
       "      <td>Yes</td>\n",
       "      <td>Bank transfer (automatic)</td>\n",
       "      <td>52.55</td>\n",
       "      <td></td>\n",
       "      <td>Female</td>\n",
       "      <td>0</td>\n",
       "      <td>Yes</td>\n",
       "      <td>Yes</td>\n",
       "      <td>DSL</td>\n",
       "      <td>Yes</td>\n",
       "      <td>No</td>\n",
       "      <td>Yes</td>\n",
       "      <td>Yes</td>\n",
       "      <td>Yes</td>\n",
       "      <td>No</td>\n",
       "      <td>NaN</td>\n",
       "    </tr>\n",
       "    <tr>\n",
       "      <th>753</th>\n",
       "      <td>3115-CZMZD</td>\n",
       "      <td>2020-02-01</td>\n",
       "      <td>No</td>\n",
       "      <td>Two year</td>\n",
       "      <td>No</td>\n",
       "      <td>Mailed check</td>\n",
       "      <td>20.25</td>\n",
       "      <td></td>\n",
       "      <td>Male</td>\n",
       "      <td>0</td>\n",
       "      <td>No</td>\n",
       "      <td>Yes</td>\n",
       "      <td>NaN</td>\n",
       "      <td>NaN</td>\n",
       "      <td>NaN</td>\n",
       "      <td>NaN</td>\n",
       "      <td>NaN</td>\n",
       "      <td>NaN</td>\n",
       "      <td>NaN</td>\n",
       "      <td>No</td>\n",
       "    </tr>\n",
       "    <tr>\n",
       "      <th>936</th>\n",
       "      <td>5709-LVOEQ</td>\n",
       "      <td>2020-02-01</td>\n",
       "      <td>No</td>\n",
       "      <td>Two year</td>\n",
       "      <td>No</td>\n",
       "      <td>Mailed check</td>\n",
       "      <td>80.85</td>\n",
       "      <td></td>\n",
       "      <td>Female</td>\n",
       "      <td>0</td>\n",
       "      <td>Yes</td>\n",
       "      <td>Yes</td>\n",
       "      <td>DSL</td>\n",
       "      <td>Yes</td>\n",
       "      <td>Yes</td>\n",
       "      <td>Yes</td>\n",
       "      <td>No</td>\n",
       "      <td>Yes</td>\n",
       "      <td>Yes</td>\n",
       "      <td>No</td>\n",
       "    </tr>\n",
       "    <tr>\n",
       "      <th>1082</th>\n",
       "      <td>4367-NUYAO</td>\n",
       "      <td>2020-02-01</td>\n",
       "      <td>No</td>\n",
       "      <td>Two year</td>\n",
       "      <td>No</td>\n",
       "      <td>Mailed check</td>\n",
       "      <td>25.75</td>\n",
       "      <td></td>\n",
       "      <td>Male</td>\n",
       "      <td>0</td>\n",
       "      <td>Yes</td>\n",
       "      <td>Yes</td>\n",
       "      <td>NaN</td>\n",
       "      <td>NaN</td>\n",
       "      <td>NaN</td>\n",
       "      <td>NaN</td>\n",
       "      <td>NaN</td>\n",
       "      <td>NaN</td>\n",
       "      <td>NaN</td>\n",
       "      <td>Yes</td>\n",
       "    </tr>\n",
       "    <tr>\n",
       "      <th>1340</th>\n",
       "      <td>1371-DWPAZ</td>\n",
       "      <td>2020-02-01</td>\n",
       "      <td>No</td>\n",
       "      <td>Two year</td>\n",
       "      <td>No</td>\n",
       "      <td>Credit card (automatic)</td>\n",
       "      <td>56.05</td>\n",
       "      <td></td>\n",
       "      <td>Female</td>\n",
       "      <td>0</td>\n",
       "      <td>Yes</td>\n",
       "      <td>Yes</td>\n",
       "      <td>DSL</td>\n",
       "      <td>Yes</td>\n",
       "      <td>Yes</td>\n",
       "      <td>Yes</td>\n",
       "      <td>Yes</td>\n",
       "      <td>Yes</td>\n",
       "      <td>No</td>\n",
       "      <td>NaN</td>\n",
       "    </tr>\n",
       "    <tr>\n",
       "      <th>3331</th>\n",
       "      <td>7644-OMVMY</td>\n",
       "      <td>2020-02-01</td>\n",
       "      <td>No</td>\n",
       "      <td>Two year</td>\n",
       "      <td>No</td>\n",
       "      <td>Mailed check</td>\n",
       "      <td>19.85</td>\n",
       "      <td></td>\n",
       "      <td>Male</td>\n",
       "      <td>0</td>\n",
       "      <td>Yes</td>\n",
       "      <td>Yes</td>\n",
       "      <td>NaN</td>\n",
       "      <td>NaN</td>\n",
       "      <td>NaN</td>\n",
       "      <td>NaN</td>\n",
       "      <td>NaN</td>\n",
       "      <td>NaN</td>\n",
       "      <td>NaN</td>\n",
       "      <td>No</td>\n",
       "    </tr>\n",
       "    <tr>\n",
       "      <th>3826</th>\n",
       "      <td>3213-VVOLG</td>\n",
       "      <td>2020-02-01</td>\n",
       "      <td>No</td>\n",
       "      <td>Two year</td>\n",
       "      <td>No</td>\n",
       "      <td>Mailed check</td>\n",
       "      <td>25.35</td>\n",
       "      <td></td>\n",
       "      <td>Male</td>\n",
       "      <td>0</td>\n",
       "      <td>Yes</td>\n",
       "      <td>Yes</td>\n",
       "      <td>NaN</td>\n",
       "      <td>NaN</td>\n",
       "      <td>NaN</td>\n",
       "      <td>NaN</td>\n",
       "      <td>NaN</td>\n",
       "      <td>NaN</td>\n",
       "      <td>NaN</td>\n",
       "      <td>Yes</td>\n",
       "    </tr>\n",
       "    <tr>\n",
       "      <th>4380</th>\n",
       "      <td>2520-SGTTA</td>\n",
       "      <td>2020-02-01</td>\n",
       "      <td>No</td>\n",
       "      <td>Two year</td>\n",
       "      <td>No</td>\n",
       "      <td>Mailed check</td>\n",
       "      <td>20.00</td>\n",
       "      <td></td>\n",
       "      <td>Female</td>\n",
       "      <td>0</td>\n",
       "      <td>Yes</td>\n",
       "      <td>Yes</td>\n",
       "      <td>NaN</td>\n",
       "      <td>NaN</td>\n",
       "      <td>NaN</td>\n",
       "      <td>NaN</td>\n",
       "      <td>NaN</td>\n",
       "      <td>NaN</td>\n",
       "      <td>NaN</td>\n",
       "      <td>No</td>\n",
       "    </tr>\n",
       "    <tr>\n",
       "      <th>5218</th>\n",
       "      <td>2923-ARZLG</td>\n",
       "      <td>2020-02-01</td>\n",
       "      <td>No</td>\n",
       "      <td>One year</td>\n",
       "      <td>Yes</td>\n",
       "      <td>Mailed check</td>\n",
       "      <td>19.70</td>\n",
       "      <td></td>\n",
       "      <td>Male</td>\n",
       "      <td>0</td>\n",
       "      <td>Yes</td>\n",
       "      <td>Yes</td>\n",
       "      <td>NaN</td>\n",
       "      <td>NaN</td>\n",
       "      <td>NaN</td>\n",
       "      <td>NaN</td>\n",
       "      <td>NaN</td>\n",
       "      <td>NaN</td>\n",
       "      <td>NaN</td>\n",
       "      <td>No</td>\n",
       "    </tr>\n",
       "    <tr>\n",
       "      <th>6670</th>\n",
       "      <td>4075-WKNIU</td>\n",
       "      <td>2020-02-01</td>\n",
       "      <td>No</td>\n",
       "      <td>Two year</td>\n",
       "      <td>No</td>\n",
       "      <td>Mailed check</td>\n",
       "      <td>73.35</td>\n",
       "      <td></td>\n",
       "      <td>Female</td>\n",
       "      <td>0</td>\n",
       "      <td>Yes</td>\n",
       "      <td>Yes</td>\n",
       "      <td>DSL</td>\n",
       "      <td>No</td>\n",
       "      <td>Yes</td>\n",
       "      <td>Yes</td>\n",
       "      <td>Yes</td>\n",
       "      <td>Yes</td>\n",
       "      <td>No</td>\n",
       "      <td>Yes</td>\n",
       "    </tr>\n",
       "    <tr>\n",
       "      <th>6754</th>\n",
       "      <td>2775-SEFEE</td>\n",
       "      <td>2020-02-01</td>\n",
       "      <td>No</td>\n",
       "      <td>Two year</td>\n",
       "      <td>Yes</td>\n",
       "      <td>Bank transfer (automatic)</td>\n",
       "      <td>61.90</td>\n",
       "      <td></td>\n",
       "      <td>Male</td>\n",
       "      <td>0</td>\n",
       "      <td>No</td>\n",
       "      <td>Yes</td>\n",
       "      <td>DSL</td>\n",
       "      <td>Yes</td>\n",
       "      <td>Yes</td>\n",
       "      <td>No</td>\n",
       "      <td>Yes</td>\n",
       "      <td>No</td>\n",
       "      <td>No</td>\n",
       "      <td>Yes</td>\n",
       "    </tr>\n",
       "  </tbody>\n",
       "</table>\n",
       "</div>"
      ],
      "text/plain": [
       "      customerID  BeginDate EndDate      Type PaperlessBilling  \\\n",
       "488   4472-LVYGI 2020-02-01      No  Two year              Yes   \n",
       "753   3115-CZMZD 2020-02-01      No  Two year               No   \n",
       "936   5709-LVOEQ 2020-02-01      No  Two year               No   \n",
       "1082  4367-NUYAO 2020-02-01      No  Two year               No   \n",
       "1340  1371-DWPAZ 2020-02-01      No  Two year               No   \n",
       "3331  7644-OMVMY 2020-02-01      No  Two year               No   \n",
       "3826  3213-VVOLG 2020-02-01      No  Two year               No   \n",
       "4380  2520-SGTTA 2020-02-01      No  Two year               No   \n",
       "5218  2923-ARZLG 2020-02-01      No  One year              Yes   \n",
       "6670  4075-WKNIU 2020-02-01      No  Two year               No   \n",
       "6754  2775-SEFEE 2020-02-01      No  Two year              Yes   \n",
       "\n",
       "                  PaymentMethod  MonthlyCharges TotalCharges  gender  \\\n",
       "488   Bank transfer (automatic)           52.55               Female   \n",
       "753                Mailed check           20.25                 Male   \n",
       "936                Mailed check           80.85               Female   \n",
       "1082               Mailed check           25.75                 Male   \n",
       "1340    Credit card (automatic)           56.05               Female   \n",
       "3331               Mailed check           19.85                 Male   \n",
       "3826               Mailed check           25.35                 Male   \n",
       "4380               Mailed check           20.00               Female   \n",
       "5218               Mailed check           19.70                 Male   \n",
       "6670               Mailed check           73.35               Female   \n",
       "6754  Bank transfer (automatic)           61.90                 Male   \n",
       "\n",
       "      SeniorCitizen Partner Dependents InternetService OnlineSecurity  \\\n",
       "488               0     Yes        Yes             DSL            Yes   \n",
       "753               0      No        Yes             NaN            NaN   \n",
       "936               0     Yes        Yes             DSL            Yes   \n",
       "1082              0     Yes        Yes             NaN            NaN   \n",
       "1340              0     Yes        Yes             DSL            Yes   \n",
       "3331              0     Yes        Yes             NaN            NaN   \n",
       "3826              0     Yes        Yes             NaN            NaN   \n",
       "4380              0     Yes        Yes             NaN            NaN   \n",
       "5218              0     Yes        Yes             NaN            NaN   \n",
       "6670              0     Yes        Yes             DSL             No   \n",
       "6754              0      No        Yes             DSL            Yes   \n",
       "\n",
       "     OnlineBackup DeviceProtection TechSupport StreamingTV StreamingMovies  \\\n",
       "488            No              Yes         Yes         Yes              No   \n",
       "753           NaN              NaN         NaN         NaN             NaN   \n",
       "936           Yes              Yes          No         Yes             Yes   \n",
       "1082          NaN              NaN         NaN         NaN             NaN   \n",
       "1340          Yes              Yes         Yes         Yes              No   \n",
       "3331          NaN              NaN         NaN         NaN             NaN   \n",
       "3826          NaN              NaN         NaN         NaN             NaN   \n",
       "4380          NaN              NaN         NaN         NaN             NaN   \n",
       "5218          NaN              NaN         NaN         NaN             NaN   \n",
       "6670          Yes              Yes         Yes         Yes              No   \n",
       "6754          Yes               No         Yes          No              No   \n",
       "\n",
       "     MultipleLines  \n",
       "488            NaN  \n",
       "753             No  \n",
       "936             No  \n",
       "1082           Yes  \n",
       "1340           NaN  \n",
       "3331            No  \n",
       "3826           Yes  \n",
       "4380            No  \n",
       "5218            No  \n",
       "6670           Yes  \n",
       "6754           Yes  "
      ]
     },
     "execution_count": 13,
     "metadata": {},
     "output_type": "execute_result"
    }
   ],
   "source": [
    "data_total.query('TotalCharges == \" \" ')"
   ]
  },
  {
   "cell_type": "markdown",
   "id": "e4b567ac",
   "metadata": {},
   "source": [
    "В столбце есть несколько значений, где нет итоговой суммы. Это связано с тем, что пользователи стали клиентами компании в день выгрузки данных. Заполним столбец 'TotalCharges' значением ежемесячного платежа."
   ]
  },
  {
   "cell_type": "code",
   "execution_count": 14,
   "id": "4a99690c",
   "metadata": {},
   "outputs": [],
   "source": [
    "data_total.loc[data_total['TotalCharges'] == \" \", 'TotalCharges'] = data_total['MonthlyCharges']"
   ]
  },
  {
   "cell_type": "markdown",
   "id": "a956978e",
   "metadata": {},
   "source": [
    "Изменим тип данных в столбце 'TotalCharges' с object на float и построим гистрограмму."
   ]
  },
  {
   "cell_type": "code",
   "execution_count": 15,
   "id": "6ffce41d",
   "metadata": {},
   "outputs": [
    {
     "name": "stdout",
     "output_type": "stream",
     "text": [
      "Минимальное значение трат (за все время) = 18.8\n",
      "Максимальное значение трат (за все время) = 8684.8\n"
     ]
    },
    {
     "data": {
      "image/png": "[encoded data removed]",
      "text/plain": [
       "<Figure size 1440x360 with 1 Axes>"
      ]
     },
     "metadata": {},
     "output_type": "display_data"
    }
   ],
   "source": [
    "data_total['TotalCharges'] = data_total['TotalCharges'].astype('float')\n",
    "\n",
    "plt.figure(figsize=(20,5))\n",
    "ax = sns.histplot(data_total['TotalCharges'], bins=100)\n",
    "ax.set(xlim=(0,8500))\n",
    "ax.set_title('Распределение количества пользователей по размеру суммарного (за все время) платежа', fontsize=17)\n",
    "ax.set(xlabel='Сумма платежа',\n",
    "       ylabel='Количество пользователей')\n",
    "plt.grid()\n",
    "print('Минимальное значение трат (за все время) =', data_total['TotalCharges'].min())\n",
    "print('Максимальное значение трат (за все время) =', data_total['TotalCharges'].max())"
   ]
  },
  {
   "cell_type": "markdown",
   "id": "a44dba0a",
   "metadata": {},
   "source": [
    "Здесь также большое количество пользователей с небольшими годовыми платежами. Что логично - им соответствуют небольшие ежемесячные платежи."
   ]
  },
  {
   "cell_type": "code",
   "execution_count": 16,
   "id": "1787eb5d",
   "metadata": {
    "scrolled": false
   },
   "outputs": [
    {
     "data": {
      "image/png": "[encoded data removed]",
      "text/plain": [
       "<Figure size 1440x720 with 6 Axes>"
      ]
     },
     "metadata": {},
     "output_type": "display_data"
    },
    {
     "data": {
      "image/png": "[encoded data removed]",
      "text/plain": [
       "<Figure size 864x288 with 1 Axes>"
      ]
     },
     "metadata": {},
     "output_type": "display_data"
    }
   ],
   "source": [
    "fig, axes = plt.subplots(2,3, figsize=(20,10))\n",
    "fig.suptitle('Распределения количества пользователей', fontsize=20)\n",
    "\n",
    "ax1 = sns.histplot(data_total['Type'], ax=axes[0,0])\n",
    "ax1.set(xlabel='Тип платежа (ежемесячный, ежегодный, раз в два года)',\n",
    "       ylabel='Количество пользователей')\n",
    "\n",
    "ax2 = sns.histplot(data_total['PaperlessBilling'], ax=axes[0,1])\n",
    "ax2.set(xlabel='Выставление бумажного счета',\n",
    "        ylabel='Количество пользователей')\n",
    "\n",
    "ax3 = sns.histplot(data_total['gender'], ax=axes[0,2])\n",
    "ax3.set(xlabel='Пол',\n",
    "        ylabel='Количество пользователей')\n",
    "\n",
    "ax4 = sns.histplot(data_total['SeniorCitizen'], ax=axes[1,0])\n",
    "ax4.set(xlabel='Наличие пенсионного статуса',\n",
    "        ylabel='Количество пользователей')\n",
    "\n",
    "ax5 = sns.histplot(data_total['Partner'], ax=axes[1,1])\n",
    "ax5.set(xlabel='Наличие партнера',\n",
    "        ylabel='Количество пользователей')\n",
    "\n",
    "ax6 = sns.histplot(data_total['Dependents'], ax=axes[1,2])\n",
    "ax6.set(xlabel='Наличие иждевенцев',\n",
    "        ylabel='Количество пользователей');\n",
    "\n",
    "plt.figure(figsize=(12,4))\n",
    "ax7 = sns.histplot(data_total['PaymentMethod'])\n",
    "ax7.set(xlabel='Способ оплаты',\n",
    "        ylabel='Количество пользователей');"
   ]
  },
  {
   "cell_type": "markdown",
   "id": "269ac25e",
   "metadata": {},
   "source": [
    "Иходя из графиков, можно заключить, что около половины людей платят за услуги каждый месяц, четверть ежегодно и еще четверть каждые два года. \n",
    "\n",
    "Мужчин и женщин примерно одинаковое кол-во. Также примерно поровну тех, кто имеет и не имеею партнера. \n",
    "\n",
    "Большинство клиентов (>80%) не имеют пенсионного статуса, кроме того у ~70% клиентов нет иждевенцев."
   ]
  },
  {
   "cell_type": "markdown",
   "id": "bd99ce77",
   "metadata": {},
   "source": [
    "\n",
    "\n",
    "Далее рассмотрим столбец MultipleLines.\n",
    "Здесь есть пропуски. Выведем все строки, где этот столбец не заполнен."
   ]
  },
  {
   "cell_type": "code",
   "execution_count": 17,
   "id": "6fa3a564",
   "metadata": {},
   "outputs": [
    {
     "data": {
      "text/html": [
       "<div>\n",
       "<style scoped>\n",
       "    .dataframe tbody tr th:only-of-type {\n",
       "        vertical-align: middle;\n",
       "    }\n",
       "\n",
       "    .dataframe tbody tr th {\n",
       "        vertical-align: top;\n",
       "    }\n",
       "\n",
       "    .dataframe thead th {\n",
       "        text-align: right;\n",
       "    }\n",
       "</style>\n",
       "<table border=\"1\" class=\"dataframe\">\n",
       "  <thead>\n",
       "    <tr style=\"text-align: right;\">\n",
       "      <th></th>\n",
       "      <th>customerID</th>\n",
       "      <th>BeginDate</th>\n",
       "      <th>EndDate</th>\n",
       "      <th>Type</th>\n",
       "      <th>PaperlessBilling</th>\n",
       "      <th>PaymentMethod</th>\n",
       "      <th>MonthlyCharges</th>\n",
       "      <th>TotalCharges</th>\n",
       "      <th>gender</th>\n",
       "      <th>SeniorCitizen</th>\n",
       "      <th>Partner</th>\n",
       "      <th>Dependents</th>\n",
       "      <th>InternetService</th>\n",
       "      <th>OnlineSecurity</th>\n",
       "      <th>OnlineBackup</th>\n",
       "      <th>DeviceProtection</th>\n",
       "      <th>TechSupport</th>\n",
       "      <th>StreamingTV</th>\n",
       "      <th>StreamingMovies</th>\n",
       "      <th>MultipleLines</th>\n",
       "    </tr>\n",
       "  </thead>\n",
       "  <tbody>\n",
       "    <tr>\n",
       "      <th>0</th>\n",
       "      <td>7590-VHVEG</td>\n",
       "      <td>2020-01-01</td>\n",
       "      <td>No</td>\n",
       "      <td>Month-to-month</td>\n",
       "      <td>Yes</td>\n",
       "      <td>Electronic check</td>\n",
       "      <td>29.85</td>\n",
       "      <td>29.85</td>\n",
       "      <td>Female</td>\n",
       "      <td>0</td>\n",
       "      <td>Yes</td>\n",
       "      <td>No</td>\n",
       "      <td>DSL</td>\n",
       "      <td>No</td>\n",
       "      <td>Yes</td>\n",
       "      <td>No</td>\n",
       "      <td>No</td>\n",
       "      <td>No</td>\n",
       "      <td>No</td>\n",
       "      <td>NaN</td>\n",
       "    </tr>\n",
       "    <tr>\n",
       "      <th>3</th>\n",
       "      <td>7795-CFOCW</td>\n",
       "      <td>2016-05-01</td>\n",
       "      <td>No</td>\n",
       "      <td>One year</td>\n",
       "      <td>No</td>\n",
       "      <td>Bank transfer (automatic)</td>\n",
       "      <td>42.30</td>\n",
       "      <td>1840.75</td>\n",
       "      <td>Male</td>\n",
       "      <td>0</td>\n",
       "      <td>No</td>\n",
       "      <td>No</td>\n",
       "      <td>DSL</td>\n",
       "      <td>Yes</td>\n",
       "      <td>No</td>\n",
       "      <td>Yes</td>\n",
       "      <td>Yes</td>\n",
       "      <td>No</td>\n",
       "      <td>No</td>\n",
       "      <td>NaN</td>\n",
       "    </tr>\n",
       "    <tr>\n",
       "      <th>7</th>\n",
       "      <td>6713-OKOMC</td>\n",
       "      <td>2019-04-01</td>\n",
       "      <td>No</td>\n",
       "      <td>Month-to-month</td>\n",
       "      <td>No</td>\n",
       "      <td>Mailed check</td>\n",
       "      <td>29.75</td>\n",
       "      <td>301.90</td>\n",
       "      <td>Female</td>\n",
       "      <td>0</td>\n",
       "      <td>No</td>\n",
       "      <td>No</td>\n",
       "      <td>DSL</td>\n",
       "      <td>Yes</td>\n",
       "      <td>No</td>\n",
       "      <td>No</td>\n",
       "      <td>No</td>\n",
       "      <td>No</td>\n",
       "      <td>No</td>\n",
       "      <td>NaN</td>\n",
       "    </tr>\n",
       "    <tr>\n",
       "      <th>20</th>\n",
       "      <td>8779-QRDMV</td>\n",
       "      <td>2019-11-01</td>\n",
       "      <td>2019-12-01 00:00:00</td>\n",
       "      <td>Month-to-month</td>\n",
       "      <td>Yes</td>\n",
       "      <td>Electronic check</td>\n",
       "      <td>39.65</td>\n",
       "      <td>39.65</td>\n",
       "      <td>Male</td>\n",
       "      <td>1</td>\n",
       "      <td>No</td>\n",
       "      <td>No</td>\n",
       "      <td>DSL</td>\n",
       "      <td>No</td>\n",
       "      <td>No</td>\n",
       "      <td>Yes</td>\n",
       "      <td>No</td>\n",
       "      <td>No</td>\n",
       "      <td>Yes</td>\n",
       "      <td>NaN</td>\n",
       "    </tr>\n",
       "    <tr>\n",
       "      <th>27</th>\n",
       "      <td>8665-UTDHZ</td>\n",
       "      <td>2019-11-01</td>\n",
       "      <td>2019-12-01 00:00:00</td>\n",
       "      <td>Month-to-month</td>\n",
       "      <td>No</td>\n",
       "      <td>Electronic check</td>\n",
       "      <td>30.20</td>\n",
       "      <td>30.20</td>\n",
       "      <td>Male</td>\n",
       "      <td>0</td>\n",
       "      <td>Yes</td>\n",
       "      <td>Yes</td>\n",
       "      <td>DSL</td>\n",
       "      <td>No</td>\n",
       "      <td>Yes</td>\n",
       "      <td>No</td>\n",
       "      <td>No</td>\n",
       "      <td>No</td>\n",
       "      <td>No</td>\n",
       "      <td>NaN</td>\n",
       "    </tr>\n",
       "  </tbody>\n",
       "</table>\n",
       "</div>"
      ],
      "text/plain": [
       "    customerID  BeginDate              EndDate            Type  \\\n",
       "0   7590-VHVEG 2020-01-01                   No  Month-to-month   \n",
       "3   7795-CFOCW 2016-05-01                   No        One year   \n",
       "7   6713-OKOMC 2019-04-01                   No  Month-to-month   \n",
       "20  8779-QRDMV 2019-11-01  2019-12-01 00:00:00  Month-to-month   \n",
       "27  8665-UTDHZ 2019-11-01  2019-12-01 00:00:00  Month-to-month   \n",
       "\n",
       "   PaperlessBilling              PaymentMethod  MonthlyCharges  TotalCharges  \\\n",
       "0               Yes           Electronic check           29.85         29.85   \n",
       "3                No  Bank transfer (automatic)           42.30       1840.75   \n",
       "7                No               Mailed check           29.75        301.90   \n",
       "20              Yes           Electronic check           39.65         39.65   \n",
       "27               No           Electronic check           30.20         30.20   \n",
       "\n",
       "    gender  SeniorCitizen Partner Dependents InternetService OnlineSecurity  \\\n",
       "0   Female              0     Yes         No             DSL             No   \n",
       "3     Male              0      No         No             DSL            Yes   \n",
       "7   Female              0      No         No             DSL            Yes   \n",
       "20    Male              1      No         No             DSL             No   \n",
       "27    Male              0     Yes        Yes             DSL             No   \n",
       "\n",
       "   OnlineBackup DeviceProtection TechSupport StreamingTV StreamingMovies  \\\n",
       "0           Yes               No          No          No              No   \n",
       "3            No              Yes         Yes          No              No   \n",
       "7            No               No          No          No              No   \n",
       "20           No              Yes          No          No             Yes   \n",
       "27          Yes               No          No          No              No   \n",
       "\n",
       "   MultipleLines  \n",
       "0            NaN  \n",
       "3            NaN  \n",
       "7            NaN  \n",
       "20           NaN  \n",
       "27           NaN  "
      ]
     },
     "execution_count": 17,
     "metadata": {},
     "output_type": "execute_result"
    }
   ],
   "source": [
    "data_total.loc[data_total['MultipleLines'].isnull() == True].head()"
   ]
  },
  {
   "cell_type": "markdown",
   "id": "15494fa6",
   "metadata": {},
   "source": [
    "Тип интернет соединения в каждой строчке, где не заполнено наличие возможности ведения параллельных линий, - телефонная линия (DSL). Рассмотрим, чуть подробнее типы подключения."
   ]
  },
  {
   "cell_type": "code",
   "execution_count": 18,
   "id": "7637f30c",
   "metadata": {},
   "outputs": [
    {
     "name": "stdout",
     "output_type": "stream",
     "text": [
      "Тип соединения DSL и возможность проведения параллельных линий (кол-во пользователей) - 691\n",
      "Тип соединения DSL и отсутствие возможности проведения параллельных линий (кол-во пользователей) - 1048\n",
      "Тип соединения Fiber optic и возможность проведения параллельных линий (кол-во пользователей) - 1938\n",
      "Тип соединения Fiber optic и отсутствие возможности проведения параллельных линий (кол-во пользователей) - 1158\n"
     ]
    }
   ],
   "source": [
    "print('Тип соединения DSL и возможность проведения параллельных линий (кол-во пользователей) -',\n",
    "      data_total.query('InternetService == \"DSL\" & MultipleLines == \"Yes\"')['MultipleLines'].count())\n",
    "print('Тип соединения DSL и отсутствие возможности проведения параллельных линий (кол-во пользователей) -',\n",
    "      data_total.query('InternetService == \"DSL\" & MultipleLines == \"No\"')['MultipleLines'].count())\n",
    "\n",
    "print('Тип соединения Fiber optic и возможность проведения параллельных линий (кол-во пользователей) -',\n",
    "      data_total.query('InternetService == \"Fiber optic\" & MultipleLines == \"Yes\"')['MultipleLines'].count())\n",
    "print('Тип соединения Fiber optic и отсутствие возможности проведения параллельных линий (кол-во пользователей) -',\n",
    "      data_total.query('InternetService == \"Fiber optic\" & MultipleLines == \"No\"')['MultipleLines'].count())"
   ]
  },
  {
   "cell_type": "markdown",
   "id": "c7adba25",
   "metadata": {},
   "source": [
    "Как таковой зависимсти я здесь не вижу, скорее всего для части пользователей просто забыли заполнить столбец MultipleLines. Заполним пропущенные значения типом 'unknown', так как удалить почти 10% пользователей мы не можем, а четкая зависимось обнаружена не была и рандомное заполнение не правомерно."
   ]
  },
  {
   "cell_type": "code",
   "execution_count": 19,
   "id": "034822de",
   "metadata": {},
   "outputs": [
    {
     "data": {
      "image/png": "[encoded data removed]",
      "text/plain": [
       "<Figure size 360x288 with 1 Axes>"
      ]
     },
     "metadata": {},
     "output_type": "display_data"
    }
   ],
   "source": [
    "data_total.loc[data_total['MultipleLines'].isnull() == True, 'MultipleLines'] = 'unknown'\n",
    "\n",
    "plt.figure(figsize=(5,4))\n",
    "ax = sns.histplot(data_total['MultipleLines'])\n",
    "ax.set_title('Распределение количества пользователей по наличию параллельных линий', fontsize=14)\n",
    "ax.set(xlabel='Наличие параллельных линий (телефонная связь)',\n",
    "       ylabel='Количество пользователей')\n",
    "plt.grid()"
   ]
  },
  {
   "cell_type": "markdown",
   "id": "8399dbcd",
   "metadata": {},
   "source": [
    "Далее рассмотрим столбец InternetService и выведем строчки, где значения не заполнены."
   ]
  },
  {
   "cell_type": "code",
   "execution_count": 20,
   "id": "f5bb0ae9",
   "metadata": {},
   "outputs": [
    {
     "data": {
      "text/html": [
       "<div>\n",
       "<style scoped>\n",
       "    .dataframe tbody tr th:only-of-type {\n",
       "        vertical-align: middle;\n",
       "    }\n",
       "\n",
       "    .dataframe tbody tr th {\n",
       "        vertical-align: top;\n",
       "    }\n",
       "\n",
       "    .dataframe thead th {\n",
       "        text-align: right;\n",
       "    }\n",
       "</style>\n",
       "<table border=\"1\" class=\"dataframe\">\n",
       "  <thead>\n",
       "    <tr style=\"text-align: right;\">\n",
       "      <th></th>\n",
       "      <th>customerID</th>\n",
       "      <th>BeginDate</th>\n",
       "      <th>EndDate</th>\n",
       "      <th>Type</th>\n",
       "      <th>PaperlessBilling</th>\n",
       "      <th>PaymentMethod</th>\n",
       "      <th>MonthlyCharges</th>\n",
       "      <th>TotalCharges</th>\n",
       "      <th>gender</th>\n",
       "      <th>SeniorCitizen</th>\n",
       "      <th>Partner</th>\n",
       "      <th>Dependents</th>\n",
       "      <th>InternetService</th>\n",
       "      <th>OnlineSecurity</th>\n",
       "      <th>OnlineBackup</th>\n",
       "      <th>DeviceProtection</th>\n",
       "      <th>TechSupport</th>\n",
       "      <th>StreamingTV</th>\n",
       "      <th>StreamingMovies</th>\n",
       "      <th>MultipleLines</th>\n",
       "    </tr>\n",
       "  </thead>\n",
       "  <tbody>\n",
       "    <tr>\n",
       "      <th>11</th>\n",
       "      <td>7469-LKBCI</td>\n",
       "      <td>2018-10-01</td>\n",
       "      <td>No</td>\n",
       "      <td>Two year</td>\n",
       "      <td>No</td>\n",
       "      <td>Credit card (automatic)</td>\n",
       "      <td>18.95</td>\n",
       "      <td>326.80</td>\n",
       "      <td>Male</td>\n",
       "      <td>0</td>\n",
       "      <td>No</td>\n",
       "      <td>No</td>\n",
       "      <td>NaN</td>\n",
       "      <td>NaN</td>\n",
       "      <td>NaN</td>\n",
       "      <td>NaN</td>\n",
       "      <td>NaN</td>\n",
       "      <td>NaN</td>\n",
       "      <td>NaN</td>\n",
       "      <td>No</td>\n",
       "    </tr>\n",
       "    <tr>\n",
       "      <th>16</th>\n",
       "      <td>8191-XWSZG</td>\n",
       "      <td>2015-10-01</td>\n",
       "      <td>No</td>\n",
       "      <td>One year</td>\n",
       "      <td>No</td>\n",
       "      <td>Mailed check</td>\n",
       "      <td>20.65</td>\n",
       "      <td>1022.95</td>\n",
       "      <td>Female</td>\n",
       "      <td>0</td>\n",
       "      <td>No</td>\n",
       "      <td>No</td>\n",
       "      <td>NaN</td>\n",
       "      <td>NaN</td>\n",
       "      <td>NaN</td>\n",
       "      <td>NaN</td>\n",
       "      <td>NaN</td>\n",
       "      <td>NaN</td>\n",
       "      <td>NaN</td>\n",
       "      <td>No</td>\n",
       "    </tr>\n",
       "    <tr>\n",
       "      <th>21</th>\n",
       "      <td>1680-VDCWW</td>\n",
       "      <td>2019-02-01</td>\n",
       "      <td>No</td>\n",
       "      <td>One year</td>\n",
       "      <td>No</td>\n",
       "      <td>Bank transfer (automatic)</td>\n",
       "      <td>19.80</td>\n",
       "      <td>202.25</td>\n",
       "      <td>Male</td>\n",
       "      <td>0</td>\n",
       "      <td>Yes</td>\n",
       "      <td>No</td>\n",
       "      <td>NaN</td>\n",
       "      <td>NaN</td>\n",
       "      <td>NaN</td>\n",
       "      <td>NaN</td>\n",
       "      <td>NaN</td>\n",
       "      <td>NaN</td>\n",
       "      <td>NaN</td>\n",
       "      <td>No</td>\n",
       "    </tr>\n",
       "    <tr>\n",
       "      <th>22</th>\n",
       "      <td>1066-JKSGK</td>\n",
       "      <td>2019-11-01</td>\n",
       "      <td>2019-12-01 00:00:00</td>\n",
       "      <td>Month-to-month</td>\n",
       "      <td>No</td>\n",
       "      <td>Mailed check</td>\n",
       "      <td>20.15</td>\n",
       "      <td>20.15</td>\n",
       "      <td>Male</td>\n",
       "      <td>0</td>\n",
       "      <td>No</td>\n",
       "      <td>No</td>\n",
       "      <td>NaN</td>\n",
       "      <td>NaN</td>\n",
       "      <td>NaN</td>\n",
       "      <td>NaN</td>\n",
       "      <td>NaN</td>\n",
       "      <td>NaN</td>\n",
       "      <td>NaN</td>\n",
       "      <td>No</td>\n",
       "    </tr>\n",
       "    <tr>\n",
       "      <th>33</th>\n",
       "      <td>7310-EGVHZ</td>\n",
       "      <td>2020-01-01</td>\n",
       "      <td>No</td>\n",
       "      <td>Month-to-month</td>\n",
       "      <td>No</td>\n",
       "      <td>Bank transfer (automatic)</td>\n",
       "      <td>20.20</td>\n",
       "      <td>20.20</td>\n",
       "      <td>Male</td>\n",
       "      <td>0</td>\n",
       "      <td>No</td>\n",
       "      <td>No</td>\n",
       "      <td>NaN</td>\n",
       "      <td>NaN</td>\n",
       "      <td>NaN</td>\n",
       "      <td>NaN</td>\n",
       "      <td>NaN</td>\n",
       "      <td>NaN</td>\n",
       "      <td>NaN</td>\n",
       "      <td>No</td>\n",
       "    </tr>\n",
       "  </tbody>\n",
       "</table>\n",
       "</div>"
      ],
      "text/plain": [
       "    customerID  BeginDate              EndDate            Type  \\\n",
       "11  7469-LKBCI 2018-10-01                   No        Two year   \n",
       "16  8191-XWSZG 2015-10-01                   No        One year   \n",
       "21  1680-VDCWW 2019-02-01                   No        One year   \n",
       "22  1066-JKSGK 2019-11-01  2019-12-01 00:00:00  Month-to-month   \n",
       "33  7310-EGVHZ 2020-01-01                   No  Month-to-month   \n",
       "\n",
       "   PaperlessBilling              PaymentMethod  MonthlyCharges  TotalCharges  \\\n",
       "11               No    Credit card (automatic)           18.95        326.80   \n",
       "16               No               Mailed check           20.65       1022.95   \n",
       "21               No  Bank transfer (automatic)           19.80        202.25   \n",
       "22               No               Mailed check           20.15         20.15   \n",
       "33               No  Bank transfer (automatic)           20.20         20.20   \n",
       "\n",
       "    gender  SeniorCitizen Partner Dependents InternetService OnlineSecurity  \\\n",
       "11    Male              0      No         No             NaN            NaN   \n",
       "16  Female              0      No         No             NaN            NaN   \n",
       "21    Male              0     Yes         No             NaN            NaN   \n",
       "22    Male              0      No         No             NaN            NaN   \n",
       "33    Male              0      No         No             NaN            NaN   \n",
       "\n",
       "   OnlineBackup DeviceProtection TechSupport StreamingTV StreamingMovies  \\\n",
       "11          NaN              NaN         NaN         NaN             NaN   \n",
       "16          NaN              NaN         NaN         NaN             NaN   \n",
       "21          NaN              NaN         NaN         NaN             NaN   \n",
       "22          NaN              NaN         NaN         NaN             NaN   \n",
       "33          NaN              NaN         NaN         NaN             NaN   \n",
       "\n",
       "   MultipleLines  \n",
       "11            No  \n",
       "16            No  \n",
       "21            No  \n",
       "22            No  \n",
       "33            No  "
      ]
     },
     "execution_count": 20,
     "metadata": {},
     "output_type": "execute_result"
    }
   ],
   "source": [
    "data_total.loc[data_total['InternetService'].isnull() == True].head()"
   ]
  },
  {
   "cell_type": "markdown",
   "id": "8a704ce4",
   "metadata": {},
   "source": [
    "Если изучить все объекты из выборки выше, то видно, что если не заполнен столбец, где указано наличие интернет-соединения, то не заполнены столбцы блокировка небезопасных сайтов, облачное хранилище, антивирус, стриминговое телевидение и каталог фильмов.\n",
    "\n",
    "Мне кажется, это значит, что интернет не подключен, соответственно не подключены и все эти сервисы. Заполним все недостающие значения в этих столбцах на 'No'."
   ]
  },
  {
   "cell_type": "code",
   "execution_count": 21,
   "id": "ea1540a7",
   "metadata": {},
   "outputs": [],
   "source": [
    "data_total = data_total.fillna('No')"
   ]
  },
  {
   "cell_type": "code",
   "execution_count": 22,
   "id": "becc4d4c",
   "metadata": {
    "scrolled": false
   },
   "outputs": [
    {
     "data": {
      "image/png": "[encoded data removed]",
      "text/plain": [
       "<Figure size 1440x720 with 6 Axes>"
      ]
     },
     "metadata": {},
     "output_type": "display_data"
    },
    {
     "data": {
      "image/png": "[encoded data removed]",
      "text/plain": [
       "<Figure size 324x288 with 1 Axes>"
      ]
     },
     "metadata": {},
     "output_type": "display_data"
    }
   ],
   "source": [
    "internet_col = ['InternetService', 'OnlineSecurity', 'OnlineBackup', 'DeviceProtection', \n",
    "                'TechSupport', 'StreamingTV', 'StreamingMovies']\n",
    "\n",
    "fig, axes = plt.subplots(2,3, figsize=(20,10))\n",
    "fig.suptitle('Распределения количества пользователей', fontsize=20)\n",
    "\n",
    "ax1 = sns.histplot(data_total['InternetService'], ax=axes[0,0])\n",
    "ax1.set(xlabel='Тип подключения к интернету',\n",
    "       ylabel='Количество пользователей')\n",
    "\n",
    "ax2 = sns.histplot(data_total['OnlineSecurity'], ax=axes[0,1])\n",
    "ax2.set(xlabel='Блокировка небезопасных сайтов',\n",
    "       ylabel='Количество пользователей')\n",
    "\n",
    "ax3 = sns.histplot(data_total['OnlineBackup'], ax=axes[0,2])\n",
    "ax3.set(xlabel='Облачное хранилище файлов',\n",
    "       ylabel='Количество пользователей')\n",
    "\n",
    "ax4 = sns.histplot(data_total['DeviceProtection'], ax=axes[1,0])\n",
    "ax4.set(xlabel='Антивирус',\n",
    "       ylabel='Количество пользователей')\n",
    "\n",
    "ax5 = sns.histplot(data_total['TechSupport'], ax=axes[1,1])\n",
    "ax5.set(xlabel='Выделенная линия техн. подержки',\n",
    "       ylabel='Количество пользователей')\n",
    "\n",
    "ax6 = sns.histplot(data_total['StreamingTV'], ax=axes[1,2])\n",
    "ax6.set(xlabel='Стриминговое телевидение',\n",
    "       ylabel='Количество пользователей')\n",
    "\n",
    "plt.figure(figsize=(4.5,4))\n",
    "ax7 = sns.histplot(data_total['StreamingMovies'])\n",
    "ax7.set(xlabel='Каталог фильмов',\n",
    "       ylabel='Количество пользователей');"
   ]
  },
  {
   "cell_type": "code",
   "execution_count": 23,
   "id": "a7b83461",
   "metadata": {},
   "outputs": [
    {
     "name": "stdout",
     "output_type": "stream",
     "text": [
      "Кол-во пользователей с типом интернет-соединения DSL = 2421\n",
      "Кол-во пользователей с типом интернет-соединения Fiber optic = 3096\n"
     ]
    }
   ],
   "source": [
    "print('Кол-во пользователей с типом интернет-соединения DSL =',\n",
    "      data_total.query('InternetService == \"DSL\"')['InternetService'].count())\n",
    "print('Кол-во пользователей с типом интернет-соединения Fiber optic =',\n",
    "      data_total.query('InternetService == \"Fiber optic\"')['InternetService'].count())"
   ]
  },
  {
   "cell_type": "markdown",
   "id": "236d42d6",
   "metadata": {},
   "source": [
    "Около 44 % пользователей, указавших тип интернет-соединения выбирают DSL, остальные ~56% - Fiber optic.\n",
    "\n",
    "Услугами, связанными с интернетом пользуется от 30 до 40% пользователей (в зависимости от услуги)."
   ]
  },
  {
   "cell_type": "markdown",
   "id": "133845ca",
   "metadata": {},
   "source": [
    "## Промежуточные выводы"
   ]
  },
  {
   "cell_type": "markdown",
   "id": "3cbbded1",
   "metadata": {},
   "source": [
    "Данные были загружены, объединены в одну таблицу и проанализированы.\n",
    "\n",
    "1. В столбцах BeginDate и EndDate был изменен тип данных с object на datetime.   \n",
    "2. В столбце TotalCharges были заполнены пропущенные значения. Они были связаны с клиентами, присоединившимися к компании в день выгрузки данных. Также был заменен тип данных с object на float.\n",
    "3. В столбце MultipleLines не было найдено закономерностей для пропущенных значений и пропуски были обозначены типом 'unknown' (около 10%). \n",
    "4. В столбцах, связанных с интернет-соединением все пропуски были заменены на 'No', так как вероятнее всего у пользователей, не пользующихся интернетом просто не заполнили данную графу.\n",
    "\n",
    "\n",
    "Данные компании представлены с 2013 года. Кажый год количество клиентов понемногу росло. Большой скачок наблюдался в 2019 году, с октября 2019 года каждый месяц начали уходить пользователи (400-500 человек). \n",
    "\n",
    "Будем делать предсказание - уйдет клиент из компании или нет на датц выгрузки данных 1 февраля 2020 года.\n",
    "\n",
    "Для этого планируется разделить данные на тренировочный (75%) и тестовый датасеты (25%). Деление будет происходить со стратификацией. Затем данные будут закодированы (для классических алгоритмов). Будут строиться модели логистической регрессии и случайного леса. Также буду использовать CatBoost, предваритеьно указав какие признаки категориальные, а какие количественные.\n",
    "Качество бинарной классификации будем смотреть на auc-roc, после чего будет выбираться лучшая модель и тестироваться на тестовой выборке. Итоговый показатель по заданию заказчика должен быть выше 0.85."
   ]
  },
  {
   "cell_type": "markdown",
   "id": "584d270b",
   "metadata": {},
   "source": [
    "## Подготовка к построению модели"
   ]
  },
  {
   "cell_type": "markdown",
   "id": "d30b758e",
   "metadata": {},
   "source": [
    "Cоздадим столбец target на основе столбца EndDate: 1 - пользователь ушел (есть дата в столбце EndDate) и пользователь пользуется услугами компании на данный момент (No в столбце EndDate)."
   ]
  },
  {
   "cell_type": "code",
   "execution_count": 24,
   "id": "ae59c516",
   "metadata": {},
   "outputs": [],
   "source": [
    "data_total.loc[data_total['EndDate'] != 'No', 'target'] = 1\n",
    "data_total.loc[data_total['EndDate'] == 'No', 'target'] = 0"
   ]
  },
  {
   "cell_type": "markdown",
   "id": "b30a41e8",
   "metadata": {},
   "source": [
    "Создадим дополнительный признак.\n",
    "\n",
    "Для этого сначала вместо даты ухода клиента поставим заглушку - 1 февраля 2020 (дату выгрузки данных). Затем получим кол-во дней, которое клиент пользовался услугами компании."
   ]
  },
  {
   "cell_type": "code",
   "execution_count": 25,
   "id": "1a99a159",
   "metadata": {},
   "outputs": [],
   "source": [
    "data_total.loc[data_total['EndDate'] == 'No', 'EndDate'] = '2020-02-01 00:00:00'\n",
    "data_total['EndDate'] = pd.to_datetime(data_total['EndDate'], format='%Y-%m-%d %H:%M:%S')\n",
    "\n",
    "data_total['delta'] = data_total['EndDate'] - data_total['BeginDate']\n",
    "data_total['delta'] = data_total['delta'].dt.days"
   ]
  },
  {
   "cell_type": "markdown",
   "id": "93989850",
   "metadata": {},
   "source": [
    "Удалим столбцы BeginDate и EndDate."
   ]
  },
  {
   "cell_type": "code",
   "execution_count": 26,
   "id": "8eac6735",
   "metadata": {},
   "outputs": [],
   "source": [
    "data_total = data_total.drop(['BeginDate', 'EndDate'], axis=1)"
   ]
  },
  {
   "cell_type": "markdown",
   "id": "fecac1ed",
   "metadata": {},
   "source": [
    "Поделим данные на тренировочный и тестовый датасеты."
   ]
  },
  {
   "cell_type": "code",
   "execution_count": 27,
   "id": "9e5ecd2e",
   "metadata": {},
   "outputs": [],
   "source": [
    "features = data_total.drop(['target', 'customerID'], axis=1)\n",
    "target = data_total['target']\n",
    "\n",
    "features_train, features_test, target_train, target_test = train_test_split(features, target,\n",
    "                                                                            test_size=0.25,\n",
    "                                                                            random_state=RS,\n",
    "                                                                            stratify=target)"
   ]
  },
  {
   "cell_type": "markdown",
   "id": "3017fdb1",
   "metadata": {},
   "source": [
    "Проверим, насколько корректно данные разделились на выборки"
   ]
  },
  {
   "cell_type": "code",
   "execution_count": 28,
   "id": "159c6819",
   "metadata": {},
   "outputs": [
    {
     "name": "stdout",
     "output_type": "stream",
     "text": [
      "Процент ушедших из компании пользователей в тренировочной выборке = 27%\n",
      "Процент ушедших из компании пользователей в тестовой выборке = 27%\n"
     ]
    }
   ],
   "source": [
    "print('Процент ушедших из компании пользователей в тренировочной выборке = {:.0%}'.format(target_train.sum()/target_train.count()))\n",
    "print('Процент ушедших из компании пользователей в тестовой выборке = {:.0%}'.format(target_test.sum()/target_test.count()))"
   ]
  },
  {
   "cell_type": "markdown",
   "id": "d09c18c5",
   "metadata": {},
   "source": [
    "Скопируем датафреймы для кодирования категориальных признаков"
   ]
  },
  {
   "cell_type": "code",
   "execution_count": 29,
   "id": "110bd10d",
   "metadata": {},
   "outputs": [],
   "source": [
    "features_train_ohe = features_train.copy()\n",
    "features_test_ohe = features_test.copy()"
   ]
  },
  {
   "cell_type": "markdown",
   "id": "251e4c7c",
   "metadata": {},
   "source": [
    "Закодируем категориальные признаки (OneHotEncoder)"
   ]
  },
  {
   "cell_type": "code",
   "execution_count": 30,
   "id": "3cee488c",
   "metadata": {},
   "outputs": [],
   "source": [
    "columns_ohe = ['Type', 'PaperlessBilling', 'PaymentMethod', 'gender', 'SeniorCitizen', 'Partner', 'Dependents', \n",
    "               'InternetService', 'OnlineSecurity', 'OnlineBackup', 'DeviceProtection', 'TechSupport', \n",
    "               'StreamingTV', 'StreamingMovies', 'MultipleLines']\n",
    "\n",
    "encoder_ohe = OneHotEncoder()\n",
    "encoder_ohe.fit(features_train_ohe[columns_ohe])\n",
    "\n",
    "features_ohe_train = pd.DataFrame(encoder_ohe.transform(features_train_ohe[columns_ohe]).toarray(),\n",
    "                                  index=features_train_ohe.index)\n",
    "features_ohe_test = pd.DataFrame(encoder_ohe.transform(features_test_ohe[columns_ohe]).toarray(),\n",
    "                                 index=features_test_ohe.index)\n",
    "\n",
    "features_ohe_train.columns = encoder_ohe.get_feature_names(columns_ohe)\n",
    "features_ohe_test.columns = encoder_ohe.get_feature_names(columns_ohe)\n",
    "\n",
    "features_train_ohe = pd.concat([features_train_ohe, features_ohe_train], axis=1)\n",
    "features_test_ohe = pd.concat([features_test_ohe, features_ohe_test], axis=1)\n",
    "\n",
    "features_train_ohe = features_train_ohe.drop(columns_ohe, axis=1)\n",
    "features_test_ohe = features_test_ohe.drop(columns_ohe, axis=1)"
   ]
  },
  {
   "cell_type": "markdown",
   "id": "d33b7848",
   "metadata": {},
   "source": [
    "Посмотрим на данные после кодирования"
   ]
  },
  {
   "cell_type": "code",
   "execution_count": 31,
   "id": "cb1e10d6",
   "metadata": {},
   "outputs": [
    {
     "data": {
      "text/html": [
       "<div>\n",
       "<style scoped>\n",
       "    .dataframe tbody tr th:only-of-type {\n",
       "        vertical-align: middle;\n",
       "    }\n",
       "\n",
       "    .dataframe tbody tr th {\n",
       "        vertical-align: top;\n",
       "    }\n",
       "\n",
       "    .dataframe thead th {\n",
       "        text-align: right;\n",
       "    }\n",
       "</style>\n",
       "<table border=\"1\" class=\"dataframe\">\n",
       "  <thead>\n",
       "    <tr style=\"text-align: right;\">\n",
       "      <th></th>\n",
       "      <th>MonthlyCharges</th>\n",
       "      <th>TotalCharges</th>\n",
       "      <th>delta</th>\n",
       "      <th>Type_Month-to-month</th>\n",
       "      <th>Type_One year</th>\n",
       "      <th>Type_Two year</th>\n",
       "      <th>PaperlessBilling_No</th>\n",
       "      <th>PaperlessBilling_Yes</th>\n",
       "      <th>PaymentMethod_Bank transfer (automatic)</th>\n",
       "      <th>PaymentMethod_Credit card (automatic)</th>\n",
       "      <th>PaymentMethod_Electronic check</th>\n",
       "      <th>PaymentMethod_Mailed check</th>\n",
       "      <th>gender_Female</th>\n",
       "      <th>gender_Male</th>\n",
       "      <th>SeniorCitizen_0</th>\n",
       "      <th>SeniorCitizen_1</th>\n",
       "      <th>Partner_No</th>\n",
       "      <th>Partner_Yes</th>\n",
       "      <th>Dependents_No</th>\n",
       "      <th>Dependents_Yes</th>\n",
       "      <th>InternetService_DSL</th>\n",
       "      <th>InternetService_Fiber optic</th>\n",
       "      <th>InternetService_No</th>\n",
       "      <th>OnlineSecurity_No</th>\n",
       "      <th>OnlineSecurity_Yes</th>\n",
       "      <th>OnlineBackup_No</th>\n",
       "      <th>OnlineBackup_Yes</th>\n",
       "      <th>DeviceProtection_No</th>\n",
       "      <th>DeviceProtection_Yes</th>\n",
       "      <th>TechSupport_No</th>\n",
       "      <th>TechSupport_Yes</th>\n",
       "      <th>StreamingTV_No</th>\n",
       "      <th>StreamingTV_Yes</th>\n",
       "      <th>StreamingMovies_No</th>\n",
       "      <th>StreamingMovies_Yes</th>\n",
       "      <th>MultipleLines_No</th>\n",
       "      <th>MultipleLines_Yes</th>\n",
       "      <th>MultipleLines_unknown</th>\n",
       "    </tr>\n",
       "  </thead>\n",
       "  <tbody>\n",
       "    <tr>\n",
       "      <th>6661</th>\n",
       "      <td>53.65</td>\n",
       "      <td>3784.00</td>\n",
       "      <td>2191</td>\n",
       "      <td>0.0</td>\n",
       "      <td>0.0</td>\n",
       "      <td>1.0</td>\n",
       "      <td>1.0</td>\n",
       "      <td>0.0</td>\n",
       "      <td>0.0</td>\n",
       "      <td>1.0</td>\n",
       "      <td>0.0</td>\n",
       "      <td>0.0</td>\n",
       "      <td>1.0</td>\n",
       "      <td>0.0</td>\n",
       "      <td>1.0</td>\n",
       "      <td>0.0</td>\n",
       "      <td>0.0</td>\n",
       "      <td>1.0</td>\n",
       "      <td>0.0</td>\n",
       "      <td>1.0</td>\n",
       "      <td>1.0</td>\n",
       "      <td>0.0</td>\n",
       "      <td>0.0</td>\n",
       "      <td>1.0</td>\n",
       "      <td>0.0</td>\n",
       "      <td>0.0</td>\n",
       "      <td>1.0</td>\n",
       "      <td>1.0</td>\n",
       "      <td>0.0</td>\n",
       "      <td>0.0</td>\n",
       "      <td>1.0</td>\n",
       "      <td>0.0</td>\n",
       "      <td>1.0</td>\n",
       "      <td>0.0</td>\n",
       "      <td>1.0</td>\n",
       "      <td>0.0</td>\n",
       "      <td>0.0</td>\n",
       "      <td>1.0</td>\n",
       "    </tr>\n",
       "    <tr>\n",
       "      <th>4811</th>\n",
       "      <td>46.00</td>\n",
       "      <td>193.60</td>\n",
       "      <td>122</td>\n",
       "      <td>1.0</td>\n",
       "      <td>0.0</td>\n",
       "      <td>0.0</td>\n",
       "      <td>0.0</td>\n",
       "      <td>1.0</td>\n",
       "      <td>0.0</td>\n",
       "      <td>0.0</td>\n",
       "      <td>0.0</td>\n",
       "      <td>1.0</td>\n",
       "      <td>1.0</td>\n",
       "      <td>0.0</td>\n",
       "      <td>1.0</td>\n",
       "      <td>0.0</td>\n",
       "      <td>1.0</td>\n",
       "      <td>0.0</td>\n",
       "      <td>1.0</td>\n",
       "      <td>0.0</td>\n",
       "      <td>1.0</td>\n",
       "      <td>0.0</td>\n",
       "      <td>0.0</td>\n",
       "      <td>1.0</td>\n",
       "      <td>0.0</td>\n",
       "      <td>1.0</td>\n",
       "      <td>0.0</td>\n",
       "      <td>1.0</td>\n",
       "      <td>0.0</td>\n",
       "      <td>1.0</td>\n",
       "      <td>0.0</td>\n",
       "      <td>1.0</td>\n",
       "      <td>0.0</td>\n",
       "      <td>1.0</td>\n",
       "      <td>0.0</td>\n",
       "      <td>1.0</td>\n",
       "      <td>0.0</td>\n",
       "      <td>0.0</td>\n",
       "    </tr>\n",
       "    <tr>\n",
       "      <th>2193</th>\n",
       "      <td>21.20</td>\n",
       "      <td>1238.65</td>\n",
       "      <td>1706</td>\n",
       "      <td>0.0</td>\n",
       "      <td>1.0</td>\n",
       "      <td>0.0</td>\n",
       "      <td>0.0</td>\n",
       "      <td>1.0</td>\n",
       "      <td>0.0</td>\n",
       "      <td>0.0</td>\n",
       "      <td>0.0</td>\n",
       "      <td>1.0</td>\n",
       "      <td>0.0</td>\n",
       "      <td>1.0</td>\n",
       "      <td>1.0</td>\n",
       "      <td>0.0</td>\n",
       "      <td>1.0</td>\n",
       "      <td>0.0</td>\n",
       "      <td>0.0</td>\n",
       "      <td>1.0</td>\n",
       "      <td>0.0</td>\n",
       "      <td>0.0</td>\n",
       "      <td>1.0</td>\n",
       "      <td>1.0</td>\n",
       "      <td>0.0</td>\n",
       "      <td>1.0</td>\n",
       "      <td>0.0</td>\n",
       "      <td>1.0</td>\n",
       "      <td>0.0</td>\n",
       "      <td>1.0</td>\n",
       "      <td>0.0</td>\n",
       "      <td>1.0</td>\n",
       "      <td>0.0</td>\n",
       "      <td>1.0</td>\n",
       "      <td>0.0</td>\n",
       "      <td>1.0</td>\n",
       "      <td>0.0</td>\n",
       "      <td>0.0</td>\n",
       "    </tr>\n",
       "    <tr>\n",
       "      <th>1904</th>\n",
       "      <td>94.45</td>\n",
       "      <td>5124.60</td>\n",
       "      <td>1706</td>\n",
       "      <td>1.0</td>\n",
       "      <td>0.0</td>\n",
       "      <td>0.0</td>\n",
       "      <td>0.0</td>\n",
       "      <td>1.0</td>\n",
       "      <td>0.0</td>\n",
       "      <td>0.0</td>\n",
       "      <td>1.0</td>\n",
       "      <td>0.0</td>\n",
       "      <td>0.0</td>\n",
       "      <td>1.0</td>\n",
       "      <td>1.0</td>\n",
       "      <td>0.0</td>\n",
       "      <td>1.0</td>\n",
       "      <td>0.0</td>\n",
       "      <td>1.0</td>\n",
       "      <td>0.0</td>\n",
       "      <td>0.0</td>\n",
       "      <td>1.0</td>\n",
       "      <td>0.0</td>\n",
       "      <td>1.0</td>\n",
       "      <td>0.0</td>\n",
       "      <td>0.0</td>\n",
       "      <td>1.0</td>\n",
       "      <td>1.0</td>\n",
       "      <td>0.0</td>\n",
       "      <td>0.0</td>\n",
       "      <td>1.0</td>\n",
       "      <td>1.0</td>\n",
       "      <td>0.0</td>\n",
       "      <td>0.0</td>\n",
       "      <td>1.0</td>\n",
       "      <td>0.0</td>\n",
       "      <td>1.0</td>\n",
       "      <td>0.0</td>\n",
       "    </tr>\n",
       "    <tr>\n",
       "      <th>6667</th>\n",
       "      <td>79.55</td>\n",
       "      <td>723.40</td>\n",
       "      <td>275</td>\n",
       "      <td>1.0</td>\n",
       "      <td>0.0</td>\n",
       "      <td>0.0</td>\n",
       "      <td>0.0</td>\n",
       "      <td>1.0</td>\n",
       "      <td>0.0</td>\n",
       "      <td>0.0</td>\n",
       "      <td>1.0</td>\n",
       "      <td>0.0</td>\n",
       "      <td>1.0</td>\n",
       "      <td>0.0</td>\n",
       "      <td>1.0</td>\n",
       "      <td>0.0</td>\n",
       "      <td>1.0</td>\n",
       "      <td>0.0</td>\n",
       "      <td>1.0</td>\n",
       "      <td>0.0</td>\n",
       "      <td>0.0</td>\n",
       "      <td>1.0</td>\n",
       "      <td>0.0</td>\n",
       "      <td>1.0</td>\n",
       "      <td>0.0</td>\n",
       "      <td>1.0</td>\n",
       "      <td>0.0</td>\n",
       "      <td>1.0</td>\n",
       "      <td>0.0</td>\n",
       "      <td>1.0</td>\n",
       "      <td>0.0</td>\n",
       "      <td>1.0</td>\n",
       "      <td>0.0</td>\n",
       "      <td>0.0</td>\n",
       "      <td>1.0</td>\n",
       "      <td>1.0</td>\n",
       "      <td>0.0</td>\n",
       "      <td>0.0</td>\n",
       "    </tr>\n",
       "  </tbody>\n",
       "</table>\n",
       "</div>"
      ],
      "text/plain": [
       "      MonthlyCharges  TotalCharges  delta  Type_Month-to-month  Type_One year  \\\n",
       "6661           53.65       3784.00   2191                  0.0            0.0   \n",
       "4811           46.00        193.60    122                  1.0            0.0   \n",
       "2193           21.20       1238.65   1706                  0.0            1.0   \n",
       "1904           94.45       5124.60   1706                  1.0            0.0   \n",
       "6667           79.55        723.40    275                  1.0            0.0   \n",
       "\n",
       "      Type_Two year  PaperlessBilling_No  PaperlessBilling_Yes  \\\n",
       "6661            1.0                  1.0                   0.0   \n",
       "4811            0.0                  0.0                   1.0   \n",
       "2193            0.0                  0.0                   1.0   \n",
       "1904            0.0                  0.0                   1.0   \n",
       "6667            0.0                  0.0                   1.0   \n",
       "\n",
       "      PaymentMethod_Bank transfer (automatic)  \\\n",
       "6661                                      0.0   \n",
       "4811                                      0.0   \n",
       "2193                                      0.0   \n",
       "1904                                      0.0   \n",
       "6667                                      0.0   \n",
       "\n",
       "      PaymentMethod_Credit card (automatic)  PaymentMethod_Electronic check  \\\n",
       "6661                                    1.0                             0.0   \n",
       "4811                                    0.0                             0.0   \n",
       "2193                                    0.0                             0.0   \n",
       "1904                                    0.0                             1.0   \n",
       "6667                                    0.0                             1.0   \n",
       "\n",
       "      PaymentMethod_Mailed check  gender_Female  gender_Male  SeniorCitizen_0  \\\n",
       "6661                         0.0            1.0          0.0              1.0   \n",
       "4811                         1.0            1.0          0.0              1.0   \n",
       "2193                         1.0            0.0          1.0              1.0   \n",
       "1904                         0.0            0.0          1.0              1.0   \n",
       "6667                         0.0            1.0          0.0              1.0   \n",
       "\n",
       "      SeniorCitizen_1  Partner_No  Partner_Yes  Dependents_No  Dependents_Yes  \\\n",
       "6661              0.0         0.0          1.0            0.0             1.0   \n",
       "4811              0.0         1.0          0.0            1.0             0.0   \n",
       "2193              0.0         1.0          0.0            0.0             1.0   \n",
       "1904              0.0         1.0          0.0            1.0             0.0   \n",
       "6667              0.0         1.0          0.0            1.0             0.0   \n",
       "\n",
       "      InternetService_DSL  InternetService_Fiber optic  InternetService_No  \\\n",
       "6661                  1.0                          0.0                 0.0   \n",
       "4811                  1.0                          0.0                 0.0   \n",
       "2193                  0.0                          0.0                 1.0   \n",
       "1904                  0.0                          1.0                 0.0   \n",
       "6667                  0.0                          1.0                 0.0   \n",
       "\n",
       "      OnlineSecurity_No  OnlineSecurity_Yes  OnlineBackup_No  \\\n",
       "6661                1.0                 0.0              0.0   \n",
       "4811                1.0                 0.0              1.0   \n",
       "2193                1.0                 0.0              1.0   \n",
       "1904                1.0                 0.0              0.0   \n",
       "6667                1.0                 0.0              1.0   \n",
       "\n",
       "      OnlineBackup_Yes  DeviceProtection_No  DeviceProtection_Yes  \\\n",
       "6661               1.0                  1.0                   0.0   \n",
       "4811               0.0                  1.0                   0.0   \n",
       "2193               0.0                  1.0                   0.0   \n",
       "1904               1.0                  1.0                   0.0   \n",
       "6667               0.0                  1.0                   0.0   \n",
       "\n",
       "      TechSupport_No  TechSupport_Yes  StreamingTV_No  StreamingTV_Yes  \\\n",
       "6661             0.0              1.0             0.0              1.0   \n",
       "4811             1.0              0.0             1.0              0.0   \n",
       "2193             1.0              0.0             1.0              0.0   \n",
       "1904             0.0              1.0             1.0              0.0   \n",
       "6667             1.0              0.0             1.0              0.0   \n",
       "\n",
       "      StreamingMovies_No  StreamingMovies_Yes  MultipleLines_No  \\\n",
       "6661                 0.0                  1.0               0.0   \n",
       "4811                 1.0                  0.0               1.0   \n",
       "2193                 1.0                  0.0               1.0   \n",
       "1904                 0.0                  1.0               0.0   \n",
       "6667                 0.0                  1.0               1.0   \n",
       "\n",
       "      MultipleLines_Yes  MultipleLines_unknown  \n",
       "6661                0.0                    1.0  \n",
       "4811                0.0                    0.0  \n",
       "2193                0.0                    0.0  \n",
       "1904                1.0                    0.0  \n",
       "6667                0.0                    0.0  "
      ]
     },
     "execution_count": 31,
     "metadata": {},
     "output_type": "execute_result"
    }
   ],
   "source": [
    "features_train_ohe.head()"
   ]
  },
  {
   "cell_type": "markdown",
   "id": "37115ac1",
   "metadata": {},
   "source": [
    "## Построение моделей"
   ]
  },
  {
   "cell_type": "markdown",
   "id": "8a32e056",
   "metadata": {},
   "source": [
    "Будем работать с тремя моделями - LogisticRegression, RandomForestClassifier и CatBoostClassifier, подбирать гиперпараметры с помощью GridSearch."
   ]
  },
  {
   "cell_type": "markdown",
   "id": "6c1084da",
   "metadata": {},
   "source": [
    "### Логистическая регрессия"
   ]
  },
  {
   "cell_type": "code",
   "execution_count": 32,
   "id": "4dc43205",
   "metadata": {},
   "outputs": [
    {
     "name": "stdout",
     "output_type": "stream",
     "text": [
      "Лучшие параметры модели =  {'C': 1, 'solver': 'liblinear'}\n",
      "ROC-AUC модели = 0.84\n",
      "CPU times: user 1.13 s, sys: 1.03 s, total: 2.16 s\n",
      "Wall time: 2.17 s\n"
     ]
    }
   ],
   "source": [
    "%%time\n",
    "\n",
    "model_LR = LogisticRegression(random_state=RS, max_iter=200)\n",
    "parameters_LR = {'C':[1,10], 'solver':['liblinear']} \n",
    "grid_LR = GridSearchCV(model_LR, parameters_LR, cv=5, scoring='roc_auc')\n",
    "grid_LR.fit(features_train_ohe, target_train)\n",
    "\n",
    "print('Лучшие параметры модели = ', grid_LR.best_params_)\n",
    "print('ROC-AUC модели =', grid_LR.best_score_.round(2))"
   ]
  },
  {
   "cell_type": "markdown",
   "id": "2134dfde",
   "metadata": {},
   "source": [
    "### RandomForestClassifier"
   ]
  },
  {
   "cell_type": "code",
   "execution_count": 33,
   "id": "53ae3585",
   "metadata": {},
   "outputs": [
    {
     "name": "stdout",
     "output_type": "stream",
     "text": [
      "Лучшие параметры модели =  {'max_depth': 12, 'n_estimators': 1000}\n",
      "ROC-AUC модели = 0.85\n",
      "CPU times: user 22.2 s, sys: 270 ms, total: 22.4 s\n",
      "Wall time: 22.5 s\n"
     ]
    }
   ],
   "source": [
    "%%time\n",
    "\n",
    "model_forest = RandomForestClassifier(random_state=RS) \n",
    "parameters_forest = {'n_estimators':[1,1000,50], 'max_depth':[1,12]}\n",
    "grid_forest = GridSearchCV(model_forest, parameters_forest, cv=3, scoring='roc_auc')\n",
    "grid_forest.fit(features_train_ohe, target_train)\n",
    "\n",
    "print('Лучшие параметры модели = ', grid_forest.best_params_)\n",
    "print('ROC-AUC модели =', grid_forest.best_score_.round(2)) "
   ]
  },
  {
   "cell_type": "markdown",
   "id": "a8b16b79",
   "metadata": {},
   "source": [
    "### CatBoostClassifier"
   ]
  },
  {
   "cell_type": "code",
   "execution_count": 34,
   "id": "6cfaa4a5",
   "metadata": {
    "scrolled": true
   },
   "outputs": [
    {
     "name": "stdout",
     "output_type": "stream",
     "text": [
      "0:\tlearn: 0.6649553\ttotal: 49.1ms\tremaining: 1m 38s\n",
      "100:\tlearn: 0.8845338\ttotal: 234ms\tremaining: 4.4s\n",
      "200:\tlearn: 0.8969066\ttotal: 427ms\tremaining: 3.82s\n",
      "300:\tlearn: 0.9034954\ttotal: 610ms\tremaining: 3.44s\n",
      "400:\tlearn: 0.9085346\ttotal: 792ms\tremaining: 3.16s\n",
      "500:\tlearn: 0.9121948\ttotal: 972ms\tremaining: 2.91s\n",
      "600:\tlearn: 0.9164109\ttotal: 1.15s\tremaining: 2.68s\n",
      "700:\tlearn: 0.9189416\ttotal: 1.33s\tremaining: 2.47s\n",
      "800:\tlearn: 0.9216427\ttotal: 1.52s\tremaining: 2.28s\n",
      "900:\tlearn: 0.9237631\ttotal: 1.71s\tremaining: 2.08s\n",
      "1000:\tlearn: 0.9258453\ttotal: 1.89s\tremaining: 1.89s\n",
      "1100:\tlearn: 0.9278743\ttotal: 2.08s\tremaining: 1.7s\n",
      "1200:\tlearn: 0.9296659\ttotal: 2.26s\tremaining: 1.51s\n",
      "1300:\tlearn: 0.9310051\ttotal: 2.45s\tremaining: 1.31s\n",
      "1400:\tlearn: 0.9324340\ttotal: 2.63s\tremaining: 1.12s\n",
      "1500:\tlearn: 0.9337153\ttotal: 2.81s\tremaining: 933ms\n",
      "1600:\tlearn: 0.9347976\ttotal: 2.98s\tremaining: 744ms\n",
      "1700:\tlearn: 0.9363800\ttotal: 3.17s\tremaining: 557ms\n",
      "1800:\tlearn: 0.9374528\ttotal: 3.35s\tremaining: 371ms\n",
      "1900:\tlearn: 0.9383126\ttotal: 3.54s\tremaining: 184ms\n",
      "1999:\tlearn: 0.9395046\ttotal: 3.72s\tremaining: 0us\n",
      "0:\tlearn: 0.6595310\ttotal: 2.04ms\tremaining: 4.07s\n",
      "100:\tlearn: 0.8840056\ttotal: 195ms\tremaining: 3.67s\n",
      "200:\tlearn: 0.8951323\ttotal: 398ms\tremaining: 3.57s\n",
      "300:\tlearn: 0.9011550\ttotal: 583ms\tremaining: 3.29s\n",
      "400:\tlearn: 0.9060119\ttotal: 775ms\tremaining: 3.09s\n",
      "500:\tlearn: 0.9104477\ttotal: 959ms\tremaining: 2.87s\n",
      "600:\tlearn: 0.9144661\ttotal: 1.15s\tremaining: 2.67s\n",
      "700:\tlearn: 0.9173259\ttotal: 1.34s\tremaining: 2.49s\n",
      "800:\tlearn: 0.9200342\ttotal: 1.54s\tremaining: 2.3s\n",
      "900:\tlearn: 0.9221528\ttotal: 1.73s\tremaining: 2.11s\n",
      "1000:\tlearn: 0.9248882\ttotal: 1.91s\tremaining: 1.91s\n",
      "1100:\tlearn: 0.9269149\ttotal: 2.1s\tremaining: 1.72s\n",
      "1200:\tlearn: 0.9289743\ttotal: 2.29s\tremaining: 1.53s\n",
      "1300:\tlearn: 0.9305974\ttotal: 2.5s\tremaining: 1.34s\n",
      "1400:\tlearn: 0.9321937\ttotal: 2.69s\tremaining: 1.15s\n",
      "1500:\tlearn: 0.9341521\ttotal: 2.87s\tremaining: 955ms\n",
      "1600:\tlearn: 0.9357953\ttotal: 3.05s\tremaining: 760ms\n",
      "1700:\tlearn: 0.9373424\ttotal: 3.23s\tremaining: 569ms\n",
      "1800:\tlearn: 0.9382595\ttotal: 3.42s\tremaining: 378ms\n",
      "1900:\tlearn: 0.9394140\ttotal: 3.6s\tremaining: 187ms\n",
      "1999:\tlearn: 0.9406845\ttotal: 3.78s\tremaining: 0us\n",
      "0:\tlearn: 0.6774072\ttotal: 2.17ms\tremaining: 4.34s\n",
      "100:\tlearn: 0.8867722\ttotal: 190ms\tremaining: 3.57s\n",
      "200:\tlearn: 0.8958741\ttotal: 379ms\tremaining: 3.39s\n",
      "300:\tlearn: 0.9027526\ttotal: 564ms\tremaining: 3.18s\n",
      "400:\tlearn: 0.9076332\ttotal: 746ms\tremaining: 2.98s\n",
      "500:\tlearn: 0.9119220\ttotal: 929ms\tremaining: 2.78s\n",
      "600:\tlearn: 0.9155492\ttotal: 1.11s\tremaining: 2.59s\n",
      "700:\tlearn: 0.9185489\ttotal: 1.3s\tremaining: 2.4s\n",
      "800:\tlearn: 0.9212213\ttotal: 1.49s\tremaining: 2.23s\n",
      "900:\tlearn: 0.9232394\ttotal: 1.68s\tremaining: 2.05s\n",
      "1000:\tlearn: 0.9256149\ttotal: 1.87s\tremaining: 1.86s\n",
      "1100:\tlearn: 0.9290703\ttotal: 2.06s\tremaining: 1.68s\n",
      "1200:\tlearn: 0.9309079\ttotal: 2.24s\tremaining: 1.49s\n",
      "1300:\tlearn: 0.9328171\ttotal: 2.43s\tremaining: 1.3s\n",
      "1400:\tlearn: 0.9344857\ttotal: 2.61s\tremaining: 1.11s\n",
      "1500:\tlearn: 0.9354097\ttotal: 2.79s\tremaining: 928ms\n",
      "1600:\tlearn: 0.9367545\ttotal: 2.98s\tremaining: 742ms\n",
      "1700:\tlearn: 0.9384376\ttotal: 3.16s\tremaining: 556ms\n",
      "1800:\tlearn: 0.9397353\ttotal: 3.34s\tremaining: 369ms\n",
      "1900:\tlearn: 0.9411223\ttotal: 3.52s\tremaining: 183ms\n",
      "1999:\tlearn: 0.9421137\ttotal: 3.7s\tremaining: 0us\n",
      "0:\tlearn: 0.8356891\ttotal: 32.1ms\tremaining: 1m 4s\n",
      "100:\tlearn: 1.0000000\ttotal: 2.89s\tremaining: 54.4s\n",
      "200:\tlearn: 1.0000000\ttotal: 5.81s\tremaining: 52s\n",
      "300:\tlearn: 1.0000000\ttotal: 8.73s\tremaining: 49.3s\n",
      "400:\tlearn: 1.0000000\ttotal: 11.5s\tremaining: 45.8s\n",
      "500:\tlearn: 1.0000000\ttotal: 14.2s\tremaining: 42.6s\n",
      "600:\tlearn: 1.0000000\ttotal: 16.9s\tremaining: 39.3s\n",
      "700:\tlearn: 1.0000000\ttotal: 19.5s\tremaining: 36.1s\n",
      "800:\tlearn: 1.0000000\ttotal: 22.1s\tremaining: 33s\n",
      "900:\tlearn: 1.0000000\ttotal: 24.6s\tremaining: 30s\n",
      "1000:\tlearn: 1.0000000\ttotal: 27.2s\tremaining: 27.1s\n",
      "1100:\tlearn: 1.0000000\ttotal: 29.8s\tremaining: 24.3s\n",
      "1200:\tlearn: 1.0000000\ttotal: 32.5s\tremaining: 21.7s\n",
      "1300:\tlearn: 1.0000000\ttotal: 35.2s\tremaining: 18.9s\n",
      "1400:\tlearn: 1.0000000\ttotal: 38s\tremaining: 16.3s\n",
      "1500:\tlearn: 1.0000000\ttotal: 40.7s\tremaining: 13.5s\n",
      "1600:\tlearn: 1.0000000\ttotal: 43.4s\tremaining: 10.8s\n",
      "1700:\tlearn: 1.0000000\ttotal: 46.1s\tremaining: 8.11s\n",
      "1800:\tlearn: 1.0000000\ttotal: 48.8s\tremaining: 5.4s\n",
      "1900:\tlearn: 1.0000000\ttotal: 51.6s\tremaining: 2.69s\n",
      "1999:\tlearn: 1.0000000\ttotal: 54.3s\tremaining: 0us\n",
      "0:\tlearn: 0.8561826\ttotal: 27.4ms\tremaining: 54.7s\n",
      "100:\tlearn: 1.0000000\ttotal: 2.77s\tremaining: 52.2s\n",
      "200:\tlearn: 1.0000000\ttotal: 5.6s\tremaining: 50.2s\n",
      "300:\tlearn: 1.0000000\ttotal: 8.42s\tremaining: 47.5s\n",
      "400:\tlearn: 1.0000000\ttotal: 11.3s\tremaining: 44.9s\n",
      "500:\tlearn: 1.0000000\ttotal: 14.1s\tremaining: 42.1s\n",
      "600:\tlearn: 1.0000000\ttotal: 16.8s\tremaining: 39.1s\n",
      "700:\tlearn: 1.0000000\ttotal: 19.4s\tremaining: 36s\n",
      "800:\tlearn: 1.0000000\ttotal: 22.2s\tremaining: 33.2s\n",
      "900:\tlearn: 1.0000000\ttotal: 24.7s\tremaining: 30.2s\n",
      "1000:\tlearn: 1.0000000\ttotal: 27.4s\tremaining: 27.3s\n",
      "1100:\tlearn: 1.0000000\ttotal: 30.1s\tremaining: 24.6s\n",
      "1200:\tlearn: 1.0000000\ttotal: 32.9s\tremaining: 21.9s\n",
      "1300:\tlearn: 1.0000000\ttotal: 35.5s\tremaining: 19.1s\n",
      "1400:\tlearn: 1.0000000\ttotal: 38.2s\tremaining: 16.3s\n",
      "1500:\tlearn: 1.0000000\ttotal: 40.8s\tremaining: 13.6s\n",
      "1600:\tlearn: 1.0000000\ttotal: 43.4s\tremaining: 10.8s\n",
      "1700:\tlearn: 1.0000000\ttotal: 46s\tremaining: 8.08s\n",
      "1800:\tlearn: 1.0000000\ttotal: 48.8s\tremaining: 5.39s\n",
      "1900:\tlearn: 1.0000000\ttotal: 51.5s\tremaining: 2.68s\n",
      "1999:\tlearn: 1.0000000\ttotal: 54.4s\tremaining: 0us\n",
      "0:\tlearn: 0.8388262\ttotal: 27.9ms\tremaining: 55.8s\n",
      "100:\tlearn: 1.0000000\ttotal: 2.99s\tremaining: 56.3s\n",
      "200:\tlearn: 1.0000000\ttotal: 5.83s\tremaining: 52.2s\n",
      "300:\tlearn: 1.0000000\ttotal: 8.66s\tremaining: 48.9s\n",
      "400:\tlearn: 1.0000000\ttotal: 11.6s\tremaining: 46.1s\n",
      "500:\tlearn: 1.0000000\ttotal: 14.5s\tremaining: 43.3s\n",
      "600:\tlearn: 1.0000000\ttotal: 17.4s\tremaining: 40.6s\n",
      "700:\tlearn: 1.0000000\ttotal: 20.3s\tremaining: 37.6s\n",
      "800:\tlearn: 1.0000000\ttotal: 23s\tremaining: 34.5s\n",
      "900:\tlearn: 1.0000000\ttotal: 25.6s\tremaining: 31.3s\n",
      "1000:\tlearn: 1.0000000\ttotal: 28.3s\tremaining: 28.2s\n",
      "1100:\tlearn: 1.0000000\ttotal: 31.1s\tremaining: 25.4s\n",
      "1200:\tlearn: 1.0000000\ttotal: 33.7s\tremaining: 22.4s\n",
      "1300:\tlearn: 1.0000000\ttotal: 36.4s\tremaining: 19.6s\n",
      "1400:\tlearn: 1.0000000\ttotal: 39.1s\tremaining: 16.7s\n",
      "1500:\tlearn: 1.0000000\ttotal: 41.9s\tremaining: 13.9s\n",
      "1600:\tlearn: 1.0000000\ttotal: 44.8s\tremaining: 11.2s\n",
      "1700:\tlearn: 1.0000000\ttotal: 47.6s\tremaining: 8.36s\n",
      "1800:\tlearn: 1.0000000\ttotal: 50.2s\tremaining: 5.55s\n",
      "1900:\tlearn: 1.0000000\ttotal: 52.9s\tremaining: 2.76s\n",
      "1999:\tlearn: 1.0000000\ttotal: 55.7s\tremaining: 0us\n",
      "0:\tlearn: 0.6733519\ttotal: 3.4ms\tremaining: 6.8s\n",
      "100:\tlearn: 0.8828856\ttotal: 297ms\tremaining: 5.59s\n",
      "200:\tlearn: 0.8935017\ttotal: 577ms\tremaining: 5.17s\n",
      "300:\tlearn: 0.8992087\ttotal: 869ms\tremaining: 4.91s\n",
      "400:\tlearn: 0.9031652\ttotal: 1.16s\tremaining: 4.61s\n",
      "500:\tlearn: 0.9070768\ttotal: 1.42s\tremaining: 4.26s\n",
      "600:\tlearn: 0.9101701\ttotal: 1.69s\tremaining: 3.93s\n",
      "700:\tlearn: 0.9127636\ttotal: 1.96s\tremaining: 3.63s\n",
      "800:\tlearn: 0.9152748\ttotal: 2.23s\tremaining: 3.33s\n",
      "900:\tlearn: 0.9172103\ttotal: 2.5s\tremaining: 3.05s\n",
      "1000:\tlearn: 0.9189356\ttotal: 2.76s\tremaining: 2.76s\n",
      "1100:\tlearn: 0.9218046\ttotal: 3.03s\tremaining: 2.48s\n",
      "1200:\tlearn: 0.9236271\ttotal: 3.29s\tremaining: 2.19s\n",
      "1300:\tlearn: 0.9255431\ttotal: 3.55s\tremaining: 1.91s\n",
      "1400:\tlearn: 0.9271210\ttotal: 3.81s\tremaining: 1.63s\n",
      "1500:\tlearn: 0.9289097\ttotal: 4.07s\tremaining: 1.35s\n",
      "1600:\tlearn: 0.9304179\ttotal: 4.34s\tremaining: 1.08s\n",
      "1700:\tlearn: 0.9323064\ttotal: 4.6s\tremaining: 809ms\n",
      "1800:\tlearn: 0.9334172\ttotal: 4.86s\tremaining: 537ms\n",
      "1900:\tlearn: 0.9346606\ttotal: 5.13s\tremaining: 267ms\n",
      "1999:\tlearn: 0.9351774\ttotal: 5.39s\tremaining: 0us\n",
      "Лучшие параметры модели =  {'depth': 1, 'learning_rate': 1, 'n_estimators': 2000}\n",
      "ROC-AUC модели = 0.9\n",
      "CPU times: user 3min, sys: 3.18 s, total: 3min 4s\n",
      "Wall time: 3min 13s\n"
     ]
    }
   ],
   "source": [
    "%%time\n",
    "\n",
    "model_CBC = CatBoostClassifier(random_state=RS, verbose=100, eval_metric='AUC:hints=skip_train~false',\n",
    "                               cat_features=['Type', 'PaperlessBilling', 'PaymentMethod', 'gender', 'SeniorCitizen',\n",
    "                                             'Partner', 'Dependents', 'InternetService', 'OnlineSecurity',\n",
    "                                             'OnlineBackup', 'DeviceProtection', 'TechSupport', 'StreamingTV',\n",
    "                                             'StreamingMovies', 'MultipleLines'])\n",
    "parameters_CBC = {'depth':[1,10], 'n_estimators':[0,2000], 'learning_rate':[1]}\n",
    "grid_CBC = GridSearchCV(model_CBC, parameters_CBC, cv=3, scoring='roc_auc')\n",
    "grid_CBC.fit(features_train, target_train)\n",
    "\n",
    "print('Лучшие параметры модели = ', grid_CBC.best_params_)\n",
    "print('ROC-AUC модели =', grid_CBC.best_score_.round(2))"
   ]
  },
  {
   "cell_type": "markdown",
   "id": "dbc2a4a5",
   "metadata": {},
   "source": [
    "Сравним модели"
   ]
  },
  {
   "cell_type": "code",
   "execution_count": 35,
   "id": "90b43f32",
   "metadata": {},
   "outputs": [
    {
     "data": {
      "text/html": [
       "<div>\n",
       "<style scoped>\n",
       "    .dataframe tbody tr th:only-of-type {\n",
       "        vertical-align: middle;\n",
       "    }\n",
       "\n",
       "    .dataframe tbody tr th {\n",
       "        vertical-align: top;\n",
       "    }\n",
       "\n",
       "    .dataframe thead th {\n",
       "        text-align: right;\n",
       "    }\n",
       "</style>\n",
       "<table border=\"1\" class=\"dataframe\">\n",
       "  <thead>\n",
       "    <tr style=\"text-align: right;\">\n",
       "      <th></th>\n",
       "      <th>LogisticRegression</th>\n",
       "      <th>RandomForestClassifier</th>\n",
       "      <th>CatBoostClassifier</th>\n",
       "    </tr>\n",
       "  </thead>\n",
       "  <tbody>\n",
       "    <tr>\n",
       "      <th>ROC-AUC модели</th>\n",
       "      <td>0.84</td>\n",
       "      <td>0.85</td>\n",
       "      <td>0.9</td>\n",
       "    </tr>\n",
       "  </tbody>\n",
       "</table>\n",
       "</div>"
      ],
      "text/plain": [
       "                LogisticRegression  RandomForestClassifier  CatBoostClassifier\n",
       "ROC-AUC модели                0.84                    0.85                 0.9"
      ]
     },
     "execution_count": 35,
     "metadata": {},
     "output_type": "execute_result"
    }
   ],
   "source": [
    "column=['ROC-AUC модели']\n",
    "\n",
    "result = pd.DataFrame(index=column,\n",
    "                      columns=['LogisticRegression','RandomForestClassifier',\n",
    "                                'CatBoostClassifier'])\n",
    "result['LogisticRegression'] = grid_LR.best_score_.round(2)\n",
    "result['RandomForestClassifier'] = grid_forest.best_score_.round(2)\n",
    "result['CatBoostClassifier'] = grid_CBC.best_score_.round(2) \n",
    "\n",
    "result"
   ]
  },
  {
   "cell_type": "markdown",
   "id": "0e91aa4b",
   "metadata": {},
   "source": [
    "Из таблицы можно увидеть, что лучшая модель - CatBoostClassifier. Будем тестировать ее."
   ]
  },
  {
   "cell_type": "markdown",
   "id": "ec641625",
   "metadata": {},
   "source": [
    "## Тестирование модели"
   ]
  },
  {
   "cell_type": "code",
   "execution_count": 36,
   "id": "133cd1d9",
   "metadata": {},
   "outputs": [
    {
     "data": {
      "application/vnd.jupyter.widget-view+json": {
       "model_id": "8ba175b0ccdc407993490c736507a120",
       "version_major": 2,
       "version_minor": 0
      },
      "text/plain": [
       "MetricVisualizer(layout=Layout(align_self='stretch', height='500px'))"
      ]
     },
     "metadata": {},
     "output_type": "display_data"
    },
    {
     "name": "stdout",
     "output_type": "stream",
     "text": [
      "0:\tlearn: 0.6733519\ttotal: 2.58ms\tremaining: 5.16s\n",
      "100:\tlearn: 0.8828856\ttotal: 280ms\tremaining: 5.25s\n",
      "200:\tlearn: 0.8935017\ttotal: 544ms\tremaining: 4.87s\n",
      "300:\tlearn: 0.8992087\ttotal: 809ms\tremaining: 4.57s\n",
      "400:\tlearn: 0.9031652\ttotal: 1.06s\tremaining: 4.25s\n",
      "500:\tlearn: 0.9070768\ttotal: 1.33s\tremaining: 3.97s\n",
      "600:\tlearn: 0.9101701\ttotal: 1.61s\tremaining: 3.74s\n",
      "700:\tlearn: 0.9127636\ttotal: 1.91s\tremaining: 3.54s\n",
      "800:\tlearn: 0.9152748\ttotal: 2.2s\tremaining: 3.29s\n",
      "900:\tlearn: 0.9172103\ttotal: 2.5s\tremaining: 3.05s\n",
      "1000:\tlearn: 0.9189356\ttotal: 2.77s\tremaining: 2.76s\n",
      "1100:\tlearn: 0.9218046\ttotal: 3.04s\tremaining: 2.48s\n",
      "1200:\tlearn: 0.9236271\ttotal: 3.32s\tremaining: 2.21s\n",
      "1300:\tlearn: 0.9255431\ttotal: 3.6s\tremaining: 1.93s\n",
      "1400:\tlearn: 0.9271210\ttotal: 3.87s\tremaining: 1.65s\n",
      "1500:\tlearn: 0.9289097\ttotal: 4.17s\tremaining: 1.38s\n",
      "1600:\tlearn: 0.9304179\ttotal: 4.43s\tremaining: 1.1s\n",
      "1700:\tlearn: 0.9323064\ttotal: 4.7s\tremaining: 827ms\n",
      "1800:\tlearn: 0.9334172\ttotal: 4.97s\tremaining: 550ms\n",
      "1900:\tlearn: 0.9346606\ttotal: 5.29s\tremaining: 275ms\n",
      "1999:\tlearn: 0.9351774\ttotal: 5.55s\tremaining: 0us\n",
      "auc-roc на тестовой выборке = 0.9\n"
     ]
    }
   ],
   "source": [
    "model_CBC = CatBoostClassifier(random_state=RS, verbose=100, depth=1, n_estimators=2000, learning_rate=1, \n",
    "                               eval_metric='AUC:hints=skip_train~false', custom_loss=['AUC'],\n",
    "                               cat_features=['Type', 'PaperlessBilling', 'PaymentMethod', 'gender', 'SeniorCitizen',\n",
    "                                             'Partner', 'Dependents', 'InternetService', 'OnlineSecurity',\n",
    "                                             'OnlineBackup', 'DeviceProtection', 'TechSupport', 'StreamingTV',\n",
    "                                             'StreamingMovies', 'MultipleLines'])\n",
    "model_CBC.fit(features_train, target_train, plot=True) \n",
    "predictions_test_cat = model_CBC.predict(features_test)\n",
    "\n",
    "probabilities_test_cat = model_CBC.predict_proba(features_test)\n",
    "probabilities_one_test_cat = probabilities_test_cat[:, 1]\n",
    "auc_roc_cat = roc_auc_score(target_test, probabilities_one_test_cat)\n",
    "\n",
    "print('auc-roc на тестовой выборке =', auc_roc_cat.round(2))"
   ]
  },
  {
   "cell_type": "markdown",
   "id": "f3a8396b",
   "metadata": {},
   "source": [
    "Построим ROC кривую и матрицу ошибок."
   ]
  },
  {
   "cell_type": "code",
   "execution_count": 37,
   "id": "93dec7b7",
   "metadata": {},
   "outputs": [
    {
     "data": {
      "image/png": "[encoded data removed]",
      "text/plain": [
       "<Figure size 576x432 with 1 Axes>"
      ]
     },
     "metadata": {},
     "output_type": "display_data"
    }
   ],
   "source": [
    "fpr, tpr, thresholds = roc_curve(target_test, probabilities_one_test_cat)\n",
    "plt.figure(figsize=(8,6))\n",
    "ax = sns.lineplot(fpr,tpr)\n",
    "ax = sns.lineplot([0, 1], [0, 1], linestyle='--') # ROC-кривая случайной модели\n",
    "ax.set(xlim=(-0.01, 1.0))\n",
    "ax.set(ylim=(0.0, 1.01))\n",
    "ax.set_title('ROC-кривая', fontsize=17)\n",
    "ax.set(xlabel='Доля ложно положительных ответов',\n",
    "       ylabel='Доля истинно положительных ответов')\n",
    "plt.grid();"
   ]
  },
  {
   "cell_type": "markdown",
   "id": "a6f93065",
   "metadata": {},
   "source": [
    "На графике изображена ROC-кривая нашей модели и кривая модели, которая отвечает случайно (пунктирная линия). Она сильно выше случайной модели, что говорит о неплохом качестве предсказаний нашей модели CatBoost."
   ]
  },
  {
   "cell_type": "code",
   "execution_count": 38,
   "id": "38421a5e",
   "metadata": {},
   "outputs": [
    {
     "data": {
      "image/png": "[encoded data removed]",
      "text/plain": [
       "<Figure size 432x360 with 2 Axes>"
      ]
     },
     "metadata": {},
     "output_type": "display_data"
    }
   ],
   "source": [
    "plt.figure(figsize=(6, 5))\n",
    "ax = sns.heatmap(confusion_matrix(target_test, predictions_test_cat), \n",
    "                 annot=True,\n",
    "                 fmt='d')\n",
    "ax.set_title('Матрица ошибок', fontsize=16)\n",
    "ax.set(xlabel='Предсказания',\n",
    "       ylabel='Правильные ответы');"
   ]
  },
  {
   "cell_type": "markdown",
   "id": "499854e6",
   "metadata": {},
   "source": [
    "Исходя из матицы ошибок, видно, что 1491 ответов мы предсказали верно. 198 человек (FN) ушли из компании, хотя мы предсказали, что они останутся, а 78 человек (FP) наоборот - остались, хотя мы предсказали, что они покинут компанию. \n",
    "\n",
    "Получается, что в зависимости от того, что будет важнее для компании - не потерять клиента или не раздать лишних промокодов (для тех, кто собирается уйти), мы сможем подобрать наилучший порог. "
   ]
  },
  {
   "cell_type": "markdown",
   "id": "e2b552a1",
   "metadata": {},
   "source": [
    "## Важность признаков моделей"
   ]
  },
  {
   "cell_type": "markdown",
   "id": "c347f9a8",
   "metadata": {},
   "source": [
    "Проведем анализ важности признаков лучшей модели"
   ]
  },
  {
   "cell_type": "code",
   "execution_count": 39,
   "id": "10c97ae3",
   "metadata": {},
   "outputs": [
    {
     "data": {
      "text/html": [
       "<div>\n",
       "<style scoped>\n",
       "    .dataframe tbody tr th:only-of-type {\n",
       "        vertical-align: middle;\n",
       "    }\n",
       "\n",
       "    .dataframe tbody tr th {\n",
       "        vertical-align: top;\n",
       "    }\n",
       "\n",
       "    .dataframe thead th {\n",
       "        text-align: right;\n",
       "    }\n",
       "</style>\n",
       "<table border=\"1\" class=\"dataframe\">\n",
       "  <thead>\n",
       "    <tr style=\"text-align: right;\">\n",
       "      <th></th>\n",
       "      <th>Feature Id</th>\n",
       "      <th>Importances</th>\n",
       "    </tr>\n",
       "  </thead>\n",
       "  <tbody>\n",
       "    <tr>\n",
       "      <th>0</th>\n",
       "      <td>delta</td>\n",
       "      <td>57.097439</td>\n",
       "    </tr>\n",
       "    <tr>\n",
       "      <th>1</th>\n",
       "      <td>InternetService</td>\n",
       "      <td>13.919382</td>\n",
       "    </tr>\n",
       "    <tr>\n",
       "      <th>2</th>\n",
       "      <td>Type</td>\n",
       "      <td>10.355409</td>\n",
       "    </tr>\n",
       "    <tr>\n",
       "      <th>3</th>\n",
       "      <td>TotalCharges</td>\n",
       "      <td>6.804104</td>\n",
       "    </tr>\n",
       "    <tr>\n",
       "      <th>4</th>\n",
       "      <td>MonthlyCharges</td>\n",
       "      <td>4.677785</td>\n",
       "    </tr>\n",
       "    <tr>\n",
       "      <th>5</th>\n",
       "      <td>MultipleLines</td>\n",
       "      <td>1.961945</td>\n",
       "    </tr>\n",
       "    <tr>\n",
       "      <th>6</th>\n",
       "      <td>StreamingMovies</td>\n",
       "      <td>1.930651</td>\n",
       "    </tr>\n",
       "    <tr>\n",
       "      <th>7</th>\n",
       "      <td>PaperlessBilling</td>\n",
       "      <td>1.468526</td>\n",
       "    </tr>\n",
       "    <tr>\n",
       "      <th>8</th>\n",
       "      <td>PaymentMethod</td>\n",
       "      <td>0.877107</td>\n",
       "    </tr>\n",
       "    <tr>\n",
       "      <th>9</th>\n",
       "      <td>StreamingTV</td>\n",
       "      <td>0.254845</td>\n",
       "    </tr>\n",
       "    <tr>\n",
       "      <th>10</th>\n",
       "      <td>OnlineSecurity</td>\n",
       "      <td>0.219942</td>\n",
       "    </tr>\n",
       "    <tr>\n",
       "      <th>11</th>\n",
       "      <td>TechSupport</td>\n",
       "      <td>0.133948</td>\n",
       "    </tr>\n",
       "    <tr>\n",
       "      <th>12</th>\n",
       "      <td>Dependents</td>\n",
       "      <td>0.109845</td>\n",
       "    </tr>\n",
       "    <tr>\n",
       "      <th>13</th>\n",
       "      <td>SeniorCitizen</td>\n",
       "      <td>0.109050</td>\n",
       "    </tr>\n",
       "    <tr>\n",
       "      <th>14</th>\n",
       "      <td>OnlineBackup</td>\n",
       "      <td>0.047795</td>\n",
       "    </tr>\n",
       "    <tr>\n",
       "      <th>15</th>\n",
       "      <td>Partner</td>\n",
       "      <td>0.024815</td>\n",
       "    </tr>\n",
       "    <tr>\n",
       "      <th>16</th>\n",
       "      <td>gender</td>\n",
       "      <td>0.005259</td>\n",
       "    </tr>\n",
       "    <tr>\n",
       "      <th>17</th>\n",
       "      <td>DeviceProtection</td>\n",
       "      <td>0.002155</td>\n",
       "    </tr>\n",
       "  </tbody>\n",
       "</table>\n",
       "</div>"
      ],
      "text/plain": [
       "          Feature Id  Importances\n",
       "0              delta    57.097439\n",
       "1    InternetService    13.919382\n",
       "2               Type    10.355409\n",
       "3       TotalCharges     6.804104\n",
       "4     MonthlyCharges     4.677785\n",
       "5      MultipleLines     1.961945\n",
       "6    StreamingMovies     1.930651\n",
       "7   PaperlessBilling     1.468526\n",
       "8      PaymentMethod     0.877107\n",
       "9        StreamingTV     0.254845\n",
       "10    OnlineSecurity     0.219942\n",
       "11       TechSupport     0.133948\n",
       "12        Dependents     0.109845\n",
       "13     SeniorCitizen     0.109050\n",
       "14      OnlineBackup     0.047795\n",
       "15           Partner     0.024815\n",
       "16            gender     0.005259\n",
       "17  DeviceProtection     0.002155"
      ]
     },
     "metadata": {},
     "output_type": "display_data"
    },
    {
     "data": {
      "image/png": "[encoded data removed]",
      "text/plain": [
       "<Figure size 1440x720 with 1 Axes>"
      ]
     },
     "metadata": {},
     "output_type": "display_data"
    }
   ],
   "source": [
    "train_dataset = Pool(features_train,\n",
    "                     target_train,\n",
    "                     cat_features=['Type', 'PaperlessBilling', 'PaymentMethod', 'gender', 'SeniorCitizen',\n",
    "                                   'Partner', 'Dependents', 'InternetService', 'OnlineSecurity',\n",
    "                                   'OnlineBackup', 'DeviceProtection', 'TechSupport', 'StreamingTV',\n",
    "                                   'StreamingMovies', 'MultipleLines'])\n",
    "feature_importance = model_CBC.get_feature_importance(train_dataset, prettified = True)\n",
    "display(feature_importance)\n",
    "\n",
    "\n",
    "feature_importance.plot.barh(x='Feature Id', y='Importances', figsize=(20,10));\n",
    "plt.xlim([-0.5, 60])\n",
    "plt.xlabel('Важность признака', fontsize=16)\n",
    "plt.ylabel('Признаки', fontsize=16)\n",
    "plt.title('Важность признаков модели', fontsize=20)\n",
    "plt.grid();"
   ]
  },
  {
   "cell_type": "markdown",
   "id": "d06583d3",
   "metadata": {},
   "source": [
    "Самым важным признаком является delta - время, которое клиент пользовался услугами компании. Затем идут InternetService и Type, TotalCharges и MonthlyCharges. Отсальные признаки сильно менее важны."
   ]
  },
  {
   "cell_type": "markdown",
   "id": "359aff83",
   "metadata": {},
   "source": [
    "## Выводы"
   ]
  },
  {
   "cell_type": "markdown",
   "id": "f8af822b",
   "metadata": {},
   "source": [
    "Данные были загружены, объединены в одну таблицу и проанализированы. В нескольких стролбцах изменены типы данных, пропущенные значения заполнены.\n",
    "\n",
    "На этапе подготовки к построению модели на основе столбца EndDate был создан целевой столбец.\n",
    "Также был создан дополнительный признак - столбец delta (на основе столбцов BeginDate и EndDate). Это кол-во дней, которое пользователь пользуется услугами компании. После были удалены столбцы BeginDate и EndDate. \n",
    "\n",
    "Далее данные были поделены на тренировочный и тестовый датасеты в отношении 75/25 со стратификацией \n",
    "и закодированы, посредством OneHotEncoder. \n",
    "\n",
    "Были обучены модели LogisticRegression, RandomForestClassifier и CatBoostClassifier. Гиперпараметры подбирались с помощью гридсерча.\n",
    "\n",
    "После модели сравнивались между собой, лучшей была выбрана модель CatBoostClassifier с гиперпараметрами:\n",
    "- depth=1\n",
    "- n_estimators=2000\n",
    "- learning_rate=1.\n",
    "\n",
    "Затем модель прогонялась через тестовые данные, на которых метрика roc-auc достигла значения 0.9. Были построены roc-кривые и матрица ошибок. Также был проведен анализ важности признаков - наиболее важными признаками являются - время, которое клиент пользовался услугами компании (delta), наличие подключения к интернету (InternetService) и его тип (Type), а также итоговая и помесячная сумма платежа (TotalCharges и MonthlyCharges)."
   ]
  }
 ],
 "metadata": {
  "ExecuteTimeLog": [
   {
    "duration": 48,
    "start_time": "2023-04-11T07:17:13.630Z"
   },
   {
    "duration": 1896,
    "start_time": "2023-04-11T07:17:17.810Z"
   },
   {
    "duration": 333,
    "start_time": "2023-04-11T07:17:19.708Z"
   },
   {
    "duration": 32,
    "start_time": "2023-04-11T07:17:21.708Z"
   },
   {
    "duration": 54,
    "start_time": "2023-04-11T07:19:33.669Z"
   },
   {
    "duration": 2,
    "start_time": "2023-04-11T07:20:02.597Z"
   },
   {
    "duration": 63,
    "start_time": "2023-04-11T07:20:04.954Z"
   },
   {
    "duration": 25,
    "start_time": "2023-04-11T07:21:02.634Z"
   },
   {
    "duration": 64,
    "start_time": "2023-04-11T07:21:57.952Z"
   },
   {
    "duration": 33,
    "start_time": "2023-04-11T07:22:21.534Z"
   },
   {
    "duration": 33,
    "start_time": "2023-04-11T07:22:26.419Z"
   },
   {
    "duration": 103,
    "start_time": "2023-04-11T07:22:53.276Z"
   },
   {
    "duration": 29,
    "start_time": "2023-04-11T07:23:03.656Z"
   },
   {
    "duration": 3,
    "start_time": "2023-04-11T07:23:12.010Z"
   },
   {
    "duration": 28,
    "start_time": "2023-04-11T07:23:17.512Z"
   },
   {
    "duration": 28,
    "start_time": "2023-04-11T07:23:22.973Z"
   },
   {
    "duration": 51,
    "start_time": "2023-04-11T07:23:53.888Z"
   },
   {
    "duration": 55,
    "start_time": "2023-04-11T07:24:06.975Z"
   },
   {
    "duration": 57,
    "start_time": "2023-04-11T07:24:16.744Z"
   },
   {
    "duration": 34,
    "start_time": "2023-04-11T07:25:09.406Z"
   },
   {
    "duration": 27,
    "start_time": "2023-04-11T07:28:30.318Z"
   },
   {
    "duration": 52,
    "start_time": "2023-04-11T07:28:42.565Z"
   },
   {
    "duration": 28,
    "start_time": "2023-04-11T07:28:57.262Z"
   },
   {
    "duration": 55,
    "start_time": "2023-04-11T07:29:13.214Z"
   },
   {
    "duration": 97,
    "start_time": "2023-04-11T07:33:01.664Z"
   },
   {
    "duration": 50,
    "start_time": "2023-04-11T07:33:12.214Z"
   },
   {
    "duration": 51,
    "start_time": "2023-04-11T07:33:17.997Z"
   },
   {
    "duration": 92,
    "start_time": "2023-04-11T07:43:05.468Z"
   },
   {
    "duration": 20,
    "start_time": "2023-04-11T08:05:18.592Z"
   },
   {
    "duration": 2,
    "start_time": "2023-04-11T08:05:40.787Z"
   },
   {
    "duration": 19,
    "start_time": "2023-04-11T08:05:45.457Z"
   },
   {
    "duration": 77,
    "start_time": "2023-04-11T08:06:45.342Z"
   },
   {
    "duration": 16,
    "start_time": "2023-04-11T08:07:14.859Z"
   },
   {
    "duration": 15,
    "start_time": "2023-04-11T08:07:43.868Z"
   },
   {
    "duration": 20,
    "start_time": "2023-04-11T08:07:56.986Z"
   },
   {
    "duration": 20,
    "start_time": "2023-04-11T08:08:43.163Z"
   },
   {
    "duration": 18,
    "start_time": "2023-04-11T08:09:12.618Z"
   },
   {
    "duration": 51,
    "start_time": "2023-04-11T08:09:46.633Z"
   },
   {
    "duration": 60,
    "start_time": "2023-04-11T08:10:18.183Z"
   },
   {
    "duration": 33,
    "start_time": "2023-04-11T08:11:18.723Z"
   },
   {
    "duration": 35,
    "start_time": "2023-04-11T08:11:32.844Z"
   },
   {
    "duration": 36,
    "start_time": "2023-04-11T08:11:41.163Z"
   },
   {
    "duration": 64,
    "start_time": "2023-04-11T08:11:50.966Z"
   },
   {
    "duration": 48,
    "start_time": "2023-04-11T08:12:39.716Z"
   },
   {
    "duration": 11,
    "start_time": "2023-04-11T14:38:55.215Z"
   },
   {
    "duration": 49,
    "start_time": "2023-04-11T14:39:03.992Z"
   },
   {
    "duration": 20,
    "start_time": "2023-04-11T14:39:21.128Z"
   },
   {
    "duration": 5,
    "start_time": "2023-04-11T14:39:27.519Z"
   },
   {
    "duration": 19,
    "start_time": "2023-04-11T14:39:29.308Z"
   },
   {
    "duration": 8628,
    "start_time": "2023-04-11T14:47:49.108Z"
   },
   {
    "duration": 10,
    "start_time": "2023-04-11T14:48:42.045Z"
   },
   {
    "duration": 9,
    "start_time": "2023-04-11T14:49:56.458Z"
   },
   {
    "duration": 9192,
    "start_time": "2023-04-11T14:50:00.699Z"
   },
   {
    "duration": 9850,
    "start_time": "2023-04-11T14:50:31.369Z"
   },
   {
    "duration": 134,
    "start_time": "2023-04-11T14:51:31.806Z"
   },
   {
    "duration": 120,
    "start_time": "2023-04-11T14:52:17.349Z"
   },
   {
    "duration": 24048,
    "start_time": "2023-04-11T14:55:29.891Z"
   },
   {
    "duration": 163,
    "start_time": "2023-04-11T14:56:22.130Z"
   },
   {
    "duration": 237,
    "start_time": "2023-04-11T14:56:25.667Z"
   },
   {
    "duration": 14,
    "start_time": "2023-04-11T14:56:42.186Z"
   },
   {
    "duration": 190,
    "start_time": "2023-04-11T14:57:01.757Z"
   },
   {
    "duration": 21,
    "start_time": "2023-04-11T14:57:38.301Z"
   },
   {
    "duration": 33,
    "start_time": "2023-04-11T14:59:58.556Z"
   },
   {
    "duration": 23,
    "start_time": "2023-04-11T15:00:26.387Z"
   },
   {
    "duration": 92601,
    "start_time": "2023-04-11T15:00:39.994Z"
   },
   {
    "duration": 17,
    "start_time": "2023-04-11T15:04:55.413Z"
   },
   {
    "duration": 22,
    "start_time": "2023-04-11T15:05:04.892Z"
   },
   {
    "duration": 17,
    "start_time": "2023-04-11T15:05:39.959Z"
   },
   {
    "duration": 166,
    "start_time": "2023-04-11T15:06:31.077Z"
   },
   {
    "duration": 154,
    "start_time": "2023-04-11T15:06:38.685Z"
   },
   {
    "duration": 15,
    "start_time": "2023-04-11T15:07:57.747Z"
   },
   {
    "duration": 231,
    "start_time": "2023-04-11T15:09:02.371Z"
   },
   {
    "duration": 233,
    "start_time": "2023-04-11T15:11:16.081Z"
   },
   {
    "duration": 148,
    "start_time": "2023-04-11T15:11:37.399Z"
   },
   {
    "duration": 158,
    "start_time": "2023-04-11T15:13:52.202Z"
   },
   {
    "duration": 202,
    "start_time": "2023-04-11T15:14:21.602Z"
   },
   {
    "duration": 193,
    "start_time": "2023-04-11T15:14:32.376Z"
   },
   {
    "duration": 179,
    "start_time": "2023-04-11T15:14:37.951Z"
   },
   {
    "duration": 183,
    "start_time": "2023-04-11T15:14:44.130Z"
   },
   {
    "duration": 154,
    "start_time": "2023-04-11T15:14:51.213Z"
   },
   {
    "duration": 187,
    "start_time": "2023-04-11T15:24:35.634Z"
   },
   {
    "duration": 151,
    "start_time": "2023-04-11T15:25:52.094Z"
   },
   {
    "duration": 128,
    "start_time": "2023-04-11T15:26:55.175Z"
   },
   {
    "duration": 182,
    "start_time": "2023-04-11T15:27:30.912Z"
   },
   {
    "duration": 243,
    "start_time": "2023-04-11T15:32:19.142Z"
   },
   {
    "duration": 177,
    "start_time": "2023-04-11T15:34:24.152Z"
   },
   {
    "duration": 18,
    "start_time": "2023-04-11T15:34:37.926Z"
   },
   {
    "duration": 19,
    "start_time": "2023-04-11T15:34:53.256Z"
   },
   {
    "duration": 290,
    "start_time": "2023-04-11T15:36:03.609Z"
   },
   {
    "duration": 190,
    "start_time": "2023-04-11T15:36:07.022Z"
   },
   {
    "duration": 543,
    "start_time": "2023-04-11T15:36:21.570Z"
   },
   {
    "duration": 249,
    "start_time": "2023-04-11T15:36:36.524Z"
   },
   {
    "duration": 175,
    "start_time": "2023-04-11T15:36:41.915Z"
   },
   {
    "duration": 192,
    "start_time": "2023-04-11T15:37:35.297Z"
   },
   {
    "duration": 150,
    "start_time": "2023-04-11T15:37:40.256Z"
   },
   {
    "duration": 165,
    "start_time": "2023-04-11T15:37:45.115Z"
   },
   {
    "duration": 191,
    "start_time": "2023-04-11T15:37:49.020Z"
   },
   {
    "duration": 194,
    "start_time": "2023-04-11T15:37:57.252Z"
   },
   {
    "duration": 205,
    "start_time": "2023-04-11T15:38:12.937Z"
   },
   {
    "duration": 262,
    "start_time": "2023-04-11T15:48:55.934Z"
   },
   {
    "duration": 183,
    "start_time": "2023-04-11T15:49:03.218Z"
   },
   {
    "duration": 14,
    "start_time": "2023-04-11T15:52:37.394Z"
   },
   {
    "duration": 125,
    "start_time": "2023-04-11T15:53:28.807Z"
   },
   {
    "duration": 104,
    "start_time": "2023-04-11T15:53:33.412Z"
   },
   {
    "duration": 166,
    "start_time": "2023-04-11T15:53:41.634Z"
   },
   {
    "duration": 111,
    "start_time": "2023-04-11T15:53:44.750Z"
   },
   {
    "duration": 151,
    "start_time": "2023-04-11T15:57:40.404Z"
   },
   {
    "duration": 186,
    "start_time": "2023-04-11T15:57:46.107Z"
   },
   {
    "duration": 195,
    "start_time": "2023-04-11T15:57:58.338Z"
   },
   {
    "duration": 185,
    "start_time": "2023-04-11T15:58:11.215Z"
   },
   {
    "duration": 204,
    "start_time": "2023-04-11T15:59:45.698Z"
   },
   {
    "duration": 20,
    "start_time": "2023-04-11T16:02:53.857Z"
   },
   {
    "duration": 243,
    "start_time": "2023-04-11T16:06:15.302Z"
   },
   {
    "duration": 9,
    "start_time": "2023-04-11T16:09:40.259Z"
   },
   {
    "duration": 179,
    "start_time": "2023-04-11T16:11:08.819Z"
   },
   {
    "duration": 149,
    "start_time": "2023-04-11T16:11:16.751Z"
   },
   {
    "duration": 132,
    "start_time": "2023-04-11T16:11:48.595Z"
   },
   {
    "duration": 1874,
    "start_time": "2023-04-12T15:56:26.089Z"
   },
   {
    "duration": 6,
    "start_time": "2023-04-12T15:56:27.965Z"
   },
   {
    "duration": 446,
    "start_time": "2023-04-12T15:56:27.972Z"
   },
   {
    "duration": 80,
    "start_time": "2023-04-12T15:56:28.420Z"
   },
   {
    "duration": 46,
    "start_time": "2023-04-12T15:56:28.502Z"
   },
   {
    "duration": 19,
    "start_time": "2023-04-12T15:56:28.551Z"
   },
   {
    "duration": 89,
    "start_time": "2023-04-12T15:56:28.572Z"
   },
   {
    "duration": 81,
    "start_time": "2023-04-12T15:56:28.662Z"
   },
   {
    "duration": 21,
    "start_time": "2023-04-12T15:56:28.745Z"
   },
   {
    "duration": 251,
    "start_time": "2023-04-12T15:56:28.770Z"
   },
   {
    "duration": 346,
    "start_time": "2023-04-12T15:56:29.023Z"
   },
   {
    "duration": 250,
    "start_time": "2023-04-12T15:56:29.371Z"
   },
   {
    "duration": 29,
    "start_time": "2023-04-12T15:56:29.623Z"
   },
   {
    "duration": 155,
    "start_time": "2023-04-12T15:56:41.062Z"
   },
   {
    "duration": 206,
    "start_time": "2023-04-12T15:56:54.191Z"
   },
   {
    "duration": 151,
    "start_time": "2023-04-12T15:56:58.325Z"
   },
   {
    "duration": 195,
    "start_time": "2023-04-12T15:57:12.720Z"
   },
   {
    "duration": 251,
    "start_time": "2023-04-12T15:57:15.969Z"
   },
   {
    "duration": 153,
    "start_time": "2023-04-12T15:57:18.880Z"
   },
   {
    "duration": 131,
    "start_time": "2023-04-12T15:57:22.365Z"
   },
   {
    "duration": 67,
    "start_time": "2023-04-12T19:12:08.608Z"
   },
   {
    "duration": 1661,
    "start_time": "2023-04-12T19:12:16.928Z"
   },
   {
    "duration": 3,
    "start_time": "2023-04-12T19:12:18.592Z"
   },
   {
    "duration": 481,
    "start_time": "2023-04-12T19:12:18.597Z"
   },
   {
    "duration": 70,
    "start_time": "2023-04-12T19:12:19.080Z"
   },
   {
    "duration": 19,
    "start_time": "2023-04-12T19:12:19.152Z"
   },
   {
    "duration": 49,
    "start_time": "2023-04-12T19:12:19.173Z"
   },
   {
    "duration": 52,
    "start_time": "2023-04-12T19:12:19.223Z"
   },
   {
    "duration": 83,
    "start_time": "2023-04-12T19:12:19.277Z"
   },
   {
    "duration": 12,
    "start_time": "2023-04-12T19:12:19.362Z"
   },
   {
    "duration": 225,
    "start_time": "2023-04-12T19:12:19.377Z"
   },
   {
    "duration": 315,
    "start_time": "2023-04-12T19:12:19.603Z"
   },
   {
    "duration": 231,
    "start_time": "2023-04-12T19:12:19.920Z"
   },
   {
    "duration": 149,
    "start_time": "2023-04-12T19:12:20.153Z"
   },
   {
    "duration": 155,
    "start_time": "2023-04-12T19:12:20.304Z"
   },
   {
    "duration": 17,
    "start_time": "2023-04-12T19:12:20.460Z"
   },
   {
    "duration": 134,
    "start_time": "2023-04-12T19:12:49.659Z"
   },
   {
    "duration": 140,
    "start_time": "2023-04-12T19:12:55.335Z"
   },
   {
    "duration": 148,
    "start_time": "2023-04-12T19:20:30.284Z"
   },
   {
    "duration": 145,
    "start_time": "2023-04-12T19:20:34.124Z"
   },
   {
    "duration": 140,
    "start_time": "2023-04-12T19:20:37.720Z"
   },
   {
    "duration": 151,
    "start_time": "2023-04-12T19:20:41.086Z"
   },
   {
    "duration": 147,
    "start_time": "2023-04-12T19:20:56.083Z"
   },
   {
    "duration": 140,
    "start_time": "2023-04-12T19:22:16.864Z"
   },
   {
    "duration": 167,
    "start_time": "2023-04-12T19:22:21.906Z"
   },
   {
    "duration": 145,
    "start_time": "2023-04-12T19:22:34.663Z"
   },
   {
    "duration": 135,
    "start_time": "2023-04-12T19:22:43.881Z"
   },
   {
    "duration": 138,
    "start_time": "2023-04-12T19:23:18.308Z"
   },
   {
    "duration": 345,
    "start_time": "2023-04-12T19:24:17.720Z"
   },
   {
    "duration": 78,
    "start_time": "2023-04-12T19:25:46.468Z"
   },
   {
    "duration": 168,
    "start_time": "2023-04-12T19:26:20.089Z"
   },
   {
    "duration": 3,
    "start_time": "2023-04-12T19:28:41.296Z"
   },
   {
    "duration": 216,
    "start_time": "2023-04-12T19:28:59.636Z"
   },
   {
    "duration": 215,
    "start_time": "2023-04-12T19:29:13.423Z"
   },
   {
    "duration": 211,
    "start_time": "2023-04-12T19:29:18.289Z"
   },
   {
    "duration": 209,
    "start_time": "2023-04-12T19:33:24.937Z"
   },
   {
    "duration": 175,
    "start_time": "2023-04-12T19:34:40.230Z"
   },
   {
    "duration": 298,
    "start_time": "2023-04-12T19:34:49.414Z"
   },
   {
    "duration": 350,
    "start_time": "2023-04-12T19:35:13.816Z"
   },
   {
    "duration": 1565,
    "start_time": "2023-04-12T19:39:46.874Z"
   },
   {
    "duration": 3,
    "start_time": "2023-04-12T19:39:48.442Z"
   },
   {
    "duration": 135,
    "start_time": "2023-04-12T19:39:48.446Z"
   },
   {
    "duration": 84,
    "start_time": "2023-04-12T19:39:48.583Z"
   },
   {
    "duration": 50,
    "start_time": "2023-04-12T19:39:48.669Z"
   },
   {
    "duration": 17,
    "start_time": "2023-04-12T19:39:48.721Z"
   },
   {
    "duration": 81,
    "start_time": "2023-04-12T19:39:48.740Z"
   },
   {
    "duration": 57,
    "start_time": "2023-04-12T19:39:48.823Z"
   },
   {
    "duration": 36,
    "start_time": "2023-04-12T19:39:48.881Z"
   },
   {
    "duration": 226,
    "start_time": "2023-04-12T19:39:48.920Z"
   },
   {
    "duration": 319,
    "start_time": "2023-04-12T19:39:49.148Z"
   },
   {
    "duration": 238,
    "start_time": "2023-04-12T19:39:49.469Z"
   },
   {
    "duration": 145,
    "start_time": "2023-04-12T19:39:49.709Z"
   },
   {
    "duration": 152,
    "start_time": "2023-04-12T19:39:49.857Z"
   },
   {
    "duration": 221,
    "start_time": "2023-04-12T19:39:50.018Z"
   },
   {
    "duration": 359,
    "start_time": "2023-04-12T19:39:50.241Z"
   },
   {
    "duration": 95816,
    "start_time": "2023-04-12T19:39:50.602Z"
   },
   {
    "duration": 19,
    "start_time": "2023-04-12T19:41:26.420Z"
   },
   {
    "duration": 31,
    "start_time": "2023-04-12T19:42:29.282Z"
   },
   {
    "duration": 6,
    "start_time": "2023-04-12T19:42:44.628Z"
   },
   {
    "duration": 2022,
    "start_time": "2023-04-12T19:43:05.213Z"
   },
   {
    "duration": 307,
    "start_time": "2023-04-12T19:43:26.902Z"
   },
   {
    "duration": 298,
    "start_time": "2023-04-12T19:43:33.372Z"
   },
   {
    "duration": 253,
    "start_time": "2023-04-12T19:46:01.372Z"
   },
   {
    "duration": 233,
    "start_time": "2023-04-12T19:46:06.933Z"
   },
   {
    "duration": 482,
    "start_time": "2023-04-12T19:48:31.977Z"
   },
   {
    "duration": 456,
    "start_time": "2023-04-12T19:48:43.009Z"
   },
   {
    "duration": 313,
    "start_time": "2023-04-12T20:00:06.787Z"
   },
   {
    "duration": 319,
    "start_time": "2023-04-12T20:00:16.662Z"
   },
   {
    "duration": 307,
    "start_time": "2023-04-12T20:00:24.697Z"
   },
   {
    "duration": 318,
    "start_time": "2023-04-12T20:00:43.368Z"
   },
   {
    "duration": 323,
    "start_time": "2023-04-12T20:01:32.163Z"
   },
   {
    "duration": 255,
    "start_time": "2023-04-12T20:02:39.796Z"
   },
   {
    "duration": 748,
    "start_time": "2023-04-12T20:08:01.639Z"
   },
   {
    "duration": 675,
    "start_time": "2023-04-12T20:08:37.392Z"
   },
   {
    "duration": 649,
    "start_time": "2023-04-12T20:09:03.510Z"
   },
   {
    "duration": 273,
    "start_time": "2023-04-12T20:09:15.596Z"
   },
   {
    "duration": 137,
    "start_time": "2023-04-12T20:09:34.340Z"
   },
   {
    "duration": 245,
    "start_time": "2023-04-12T20:09:38.978Z"
   },
   {
    "duration": 138,
    "start_time": "2023-04-12T20:10:13.883Z"
   },
   {
    "duration": 708,
    "start_time": "2023-04-12T20:10:26.811Z"
   },
   {
    "duration": 302,
    "start_time": "2023-04-12T20:10:38.163Z"
   },
   {
    "duration": 229,
    "start_time": "2023-04-12T20:12:38.325Z"
   },
   {
    "duration": 231,
    "start_time": "2023-04-12T20:13:16.383Z"
   },
   {
    "duration": 344,
    "start_time": "2023-04-12T20:13:27.009Z"
   },
   {
    "duration": 509,
    "start_time": "2023-04-12T20:13:38.477Z"
   },
   {
    "duration": 571,
    "start_time": "2023-04-12T20:13:49.478Z"
   },
   {
    "duration": 556,
    "start_time": "2023-04-12T20:14:18.687Z"
   },
   {
    "duration": 396,
    "start_time": "2023-04-12T20:14:24.428Z"
   },
   {
    "duration": 407,
    "start_time": "2023-04-12T20:14:28.601Z"
   },
   {
    "duration": 549,
    "start_time": "2023-04-12T20:15:42.777Z"
   },
   {
    "duration": 776,
    "start_time": "2023-04-12T20:16:10.533Z"
   },
   {
    "duration": 851,
    "start_time": "2023-04-12T20:16:47.986Z"
   },
   {
    "duration": 841,
    "start_time": "2023-04-12T20:16:55.677Z"
   },
   {
    "duration": 1171,
    "start_time": "2023-04-12T20:18:58.690Z"
   },
   {
    "duration": 4,
    "start_time": "2023-04-12T20:20:16.174Z"
   },
   {
    "duration": 969,
    "start_time": "2023-04-12T20:20:18.408Z"
   },
   {
    "duration": 1006,
    "start_time": "2023-04-12T20:20:53.217Z"
   },
   {
    "duration": 553,
    "start_time": "2023-04-12T20:31:10.995Z"
   },
   {
    "duration": 679,
    "start_time": "2023-04-12T20:31:18.929Z"
   },
   {
    "duration": 594,
    "start_time": "2023-04-12T20:31:25.738Z"
   },
   {
    "duration": 609,
    "start_time": "2023-04-12T20:31:32.880Z"
   },
   {
    "duration": 653,
    "start_time": "2023-04-12T20:31:38.762Z"
   },
   {
    "duration": 759,
    "start_time": "2023-04-12T20:31:45.895Z"
   },
   {
    "duration": 695,
    "start_time": "2023-04-12T20:32:16.037Z"
   },
   {
    "duration": 666,
    "start_time": "2023-04-12T20:34:22.334Z"
   },
   {
    "duration": 746,
    "start_time": "2023-04-12T20:34:28.413Z"
   },
   {
    "duration": 658,
    "start_time": "2023-04-12T20:34:49.210Z"
   },
   {
    "duration": 682,
    "start_time": "2023-04-12T20:34:52.839Z"
   },
   {
    "duration": 226,
    "start_time": "2023-04-12T20:35:35.071Z"
   },
   {
    "duration": 327,
    "start_time": "2023-04-12T20:35:42.153Z"
   },
   {
    "duration": 267,
    "start_time": "2023-04-12T20:35:58.827Z"
   },
   {
    "duration": 3,
    "start_time": "2023-04-12T20:35:59.435Z"
   },
   {
    "duration": 300,
    "start_time": "2023-04-12T20:36:08.700Z"
   },
   {
    "duration": 260,
    "start_time": "2023-04-12T20:36:13.696Z"
   },
   {
    "duration": 279,
    "start_time": "2023-04-12T20:36:25.026Z"
   },
   {
    "duration": 1276,
    "start_time": "2023-04-12T20:36:46.502Z"
   },
   {
    "duration": 317,
    "start_time": "2023-04-12T20:36:54.178Z"
   },
   {
    "duration": 265,
    "start_time": "2023-04-12T20:37:09.143Z"
   },
   {
    "duration": 265,
    "start_time": "2023-04-12T20:37:25.444Z"
   },
   {
    "duration": 19,
    "start_time": "2023-04-12T20:37:33.645Z"
   },
   {
    "duration": 290,
    "start_time": "2023-04-12T20:37:55.172Z"
   },
   {
    "duration": 158,
    "start_time": "2023-04-12T20:39:32.011Z"
   },
   {
    "duration": 164,
    "start_time": "2023-04-12T20:39:48.996Z"
   },
   {
    "duration": 311,
    "start_time": "2023-04-12T20:39:53.943Z"
   },
   {
    "duration": 112,
    "start_time": "2023-04-12T20:40:32.700Z"
   },
   {
    "duration": 280,
    "start_time": "2023-04-12T20:40:35.340Z"
   },
   {
    "duration": 2322,
    "start_time": "2023-04-12T20:41:09.175Z"
   },
   {
    "duration": 280,
    "start_time": "2023-04-12T20:41:26.591Z"
   },
   {
    "duration": 286,
    "start_time": "2023-04-12T20:41:44.482Z"
   },
   {
    "duration": 33,
    "start_time": "2023-04-12T20:42:07.718Z"
   },
   {
    "duration": 19,
    "start_time": "2023-04-12T20:42:18.592Z"
   },
   {
    "duration": 19,
    "start_time": "2023-04-12T20:42:29.772Z"
   },
   {
    "duration": 16,
    "start_time": "2023-04-12T20:42:59.896Z"
   },
   {
    "duration": 408,
    "start_time": "2023-04-12T20:43:45.143Z"
   },
   {
    "duration": 591,
    "start_time": "2023-04-12T20:44:23.371Z"
   },
   {
    "duration": 467,
    "start_time": "2023-04-12T20:44:38.441Z"
   },
   {
    "duration": 464,
    "start_time": "2023-04-12T20:47:57.207Z"
   },
   {
    "duration": 644,
    "start_time": "2023-04-12T20:51:04.004Z"
   },
   {
    "duration": 673,
    "start_time": "2023-04-12T20:51:08.435Z"
   },
   {
    "duration": 627,
    "start_time": "2023-04-12T20:51:16.171Z"
   },
   {
    "duration": 897,
    "start_time": "2023-04-12T20:51:25.003Z"
   },
   {
    "duration": 575,
    "start_time": "2023-04-12T20:52:11.102Z"
   },
   {
    "duration": 695,
    "start_time": "2023-04-12T20:52:55.944Z"
   },
   {
    "duration": 797,
    "start_time": "2023-04-12T20:53:28.881Z"
   },
   {
    "duration": 911,
    "start_time": "2023-04-12T20:54:07.420Z"
   },
   {
    "duration": 1084,
    "start_time": "2023-04-12T20:54:26.973Z"
   },
   {
    "duration": 956,
    "start_time": "2023-04-12T20:54:41.730Z"
   },
   {
    "duration": 875,
    "start_time": "2023-04-12T20:54:47.187Z"
   },
   {
    "duration": 871,
    "start_time": "2023-04-12T20:54:53.540Z"
   },
   {
    "duration": 907,
    "start_time": "2023-04-12T20:56:10.591Z"
   },
   {
    "duration": 1076,
    "start_time": "2023-04-12T20:56:18.772Z"
   },
   {
    "duration": 826,
    "start_time": "2023-04-12T20:56:23.397Z"
   },
   {
    "duration": 815,
    "start_time": "2023-04-12T20:56:28.479Z"
   },
   {
    "duration": 792,
    "start_time": "2023-04-12T20:56:40.165Z"
   },
   {
    "duration": 1029,
    "start_time": "2023-04-12T20:56:50.611Z"
   },
   {
    "duration": 819,
    "start_time": "2023-04-12T20:56:55.280Z"
   },
   {
    "duration": 814,
    "start_time": "2023-04-12T20:57:29.503Z"
   },
   {
    "duration": 907,
    "start_time": "2023-04-12T20:57:42.671Z"
   },
   {
    "duration": 762,
    "start_time": "2023-04-12T20:58:25.187Z"
   },
   {
    "duration": 990,
    "start_time": "2023-04-12T20:58:44.257Z"
   },
   {
    "duration": 874,
    "start_time": "2023-04-12T20:58:56.817Z"
   },
   {
    "duration": 849,
    "start_time": "2023-04-12T20:59:05.213Z"
   },
   {
    "duration": 850,
    "start_time": "2023-04-12T21:01:57.025Z"
   },
   {
    "duration": 885,
    "start_time": "2023-04-12T21:02:42.044Z"
   },
   {
    "duration": 1235,
    "start_time": "2023-04-12T21:03:11.694Z"
   },
   {
    "duration": 719,
    "start_time": "2023-04-12T21:04:14.944Z"
   },
   {
    "duration": 763,
    "start_time": "2023-04-12T21:04:33.222Z"
   },
   {
    "duration": 2486,
    "start_time": "2023-04-16T08:48:54.998Z"
   },
   {
    "duration": 6,
    "start_time": "2023-04-16T08:48:57.487Z"
   },
   {
    "duration": 578,
    "start_time": "2023-04-16T08:48:57.496Z"
   },
   {
    "duration": 116,
    "start_time": "2023-04-16T08:48:58.077Z"
   },
   {
    "duration": 24,
    "start_time": "2023-04-16T08:48:58.195Z"
   },
   {
    "duration": 55,
    "start_time": "2023-04-16T08:48:58.221Z"
   },
   {
    "duration": 101,
    "start_time": "2023-04-16T08:48:58.278Z"
   },
   {
    "duration": 103,
    "start_time": "2023-04-16T08:48:58.382Z"
   },
   {
    "duration": 16,
    "start_time": "2023-04-16T08:48:58.493Z"
   },
   {
    "duration": 276,
    "start_time": "2023-04-16T08:48:58.512Z"
   },
   {
    "duration": 484,
    "start_time": "2023-04-16T08:48:58.796Z"
   },
   {
    "duration": 520,
    "start_time": "2023-04-16T08:48:59.282Z"
   },
   {
    "duration": 61,
    "start_time": "2023-04-16T08:48:59.805Z"
   },
   {
    "duration": 43,
    "start_time": "2023-04-16T08:48:59.873Z"
   },
   {
    "duration": 467,
    "start_time": "2023-04-16T08:48:59.919Z"
   },
   {
    "duration": 1217,
    "start_time": "2023-04-16T08:49:00.389Z"
   },
   {
    "duration": 49,
    "start_time": "2023-04-16T08:49:01.610Z"
   },
   {
    "duration": 387,
    "start_time": "2023-04-16T08:57:39.275Z"
   },
   {
    "duration": 375,
    "start_time": "2023-04-16T08:58:53.169Z"
   },
   {
    "duration": 524,
    "start_time": "2023-04-16T08:59:27.310Z"
   },
   {
    "duration": 377,
    "start_time": "2023-04-16T08:59:40.103Z"
   },
   {
    "duration": 378,
    "start_time": "2023-04-16T08:59:44.094Z"
   },
   {
    "duration": 7,
    "start_time": "2023-04-16T09:11:41.921Z"
   },
   {
    "duration": 144,
    "start_time": "2023-04-16T09:11:47.444Z"
   },
   {
    "duration": 15,
    "start_time": "2023-04-16T09:11:55.668Z"
   },
   {
    "duration": 6,
    "start_time": "2023-04-16T09:12:14.975Z"
   },
   {
    "duration": 21,
    "start_time": "2023-04-16T09:14:54.099Z"
   },
   {
    "duration": 345,
    "start_time": "2023-04-16T09:14:58.481Z"
   },
   {
    "duration": 362,
    "start_time": "2023-04-16T09:15:19.131Z"
   },
   {
    "duration": 857,
    "start_time": "2023-04-16T09:15:32.875Z"
   },
   {
    "duration": 1341,
    "start_time": "2023-04-16T09:16:07.323Z"
   },
   {
    "duration": 1685,
    "start_time": "2023-04-16T09:16:39.105Z"
   },
   {
    "duration": 406,
    "start_time": "2023-04-16T09:17:22.902Z"
   },
   {
    "duration": 1776,
    "start_time": "2023-04-16T09:17:32.530Z"
   },
   {
    "duration": 1366,
    "start_time": "2023-04-16T09:17:39.840Z"
   },
   {
    "duration": 1527,
    "start_time": "2023-04-16T09:17:49.794Z"
   },
   {
    "duration": 709,
    "start_time": "2023-04-16T09:18:02.172Z"
   },
   {
    "duration": 732,
    "start_time": "2023-04-16T09:19:04.869Z"
   },
   {
    "duration": 660,
    "start_time": "2023-04-16T09:19:38.372Z"
   },
   {
    "duration": 1031,
    "start_time": "2023-04-16T09:20:01.321Z"
   },
   {
    "duration": 699,
    "start_time": "2023-04-16T09:20:23.466Z"
   },
   {
    "duration": 694,
    "start_time": "2023-04-16T09:20:57.542Z"
   },
   {
    "duration": 705,
    "start_time": "2023-04-16T09:21:20.084Z"
   },
   {
    "duration": 779,
    "start_time": "2023-04-16T09:21:35.281Z"
   },
   {
    "duration": 693,
    "start_time": "2023-04-16T09:22:02.828Z"
   },
   {
    "duration": 739,
    "start_time": "2023-04-16T09:22:13.381Z"
   },
   {
    "duration": 951,
    "start_time": "2023-04-16T09:22:19.300Z"
   },
   {
    "duration": 8,
    "start_time": "2023-04-16T09:40:23.273Z"
   },
   {
    "duration": 28,
    "start_time": "2023-04-16T09:40:29.041Z"
   },
   {
    "duration": 16,
    "start_time": "2023-04-16T09:46:32.417Z"
   },
   {
    "duration": 16,
    "start_time": "2023-04-16T09:47:30.672Z"
   },
   {
    "duration": 133,
    "start_time": "2023-04-16T09:51:38.236Z"
   },
   {
    "duration": 82,
    "start_time": "2023-04-16T09:52:40.816Z"
   },
   {
    "duration": 29,
    "start_time": "2023-04-16T09:55:01.371Z"
   },
   {
    "duration": 538,
    "start_time": "2023-04-16T09:56:53.274Z"
   },
   {
    "duration": 13,
    "start_time": "2023-04-16T09:58:03.182Z"
   },
   {
    "duration": 26,
    "start_time": "2023-04-16T09:58:47.910Z"
   },
   {
    "duration": 36,
    "start_time": "2023-04-16T09:59:11.741Z"
   },
   {
    "duration": 169,
    "start_time": "2023-04-16T10:00:55.152Z"
   },
   {
    "duration": 176,
    "start_time": "2023-04-16T10:01:07.504Z"
   },
   {
    "duration": 176,
    "start_time": "2023-04-16T10:01:18.733Z"
   },
   {
    "duration": 40,
    "start_time": "2023-04-16T10:01:55.028Z"
   },
   {
    "duration": 61,
    "start_time": "2023-04-16T10:02:59.829Z"
   },
   {
    "duration": 11,
    "start_time": "2023-04-16T10:05:00.218Z"
   },
   {
    "duration": 27,
    "start_time": "2023-04-16T10:05:08.066Z"
   },
   {
    "duration": 3,
    "start_time": "2023-04-16T10:07:08.195Z"
   },
   {
    "duration": 953,
    "start_time": "2023-04-16T10:07:43.406Z"
   },
   {
    "duration": 944,
    "start_time": "2023-04-16T10:07:47.561Z"
   },
   {
    "duration": 1207,
    "start_time": "2023-04-16T10:08:43.758Z"
   },
   {
    "duration": 636,
    "start_time": "2023-04-16T10:09:01.576Z"
   },
   {
    "duration": 897,
    "start_time": "2023-04-16T10:09:59.922Z"
   },
   {
    "duration": 713,
    "start_time": "2023-04-16T10:10:14.685Z"
   },
   {
    "duration": 871,
    "start_time": "2023-04-16T10:10:57.050Z"
   },
   {
    "duration": 1117,
    "start_time": "2023-04-16T10:11:08.913Z"
   },
   {
    "duration": 784,
    "start_time": "2023-04-16T10:11:32.933Z"
   },
   {
    "duration": 873,
    "start_time": "2023-04-16T10:12:03.476Z"
   },
   {
    "duration": 848,
    "start_time": "2023-04-16T10:12:18.256Z"
   },
   {
    "duration": 161,
    "start_time": "2023-04-16T10:14:34.528Z"
   },
   {
    "duration": 83,
    "start_time": "2023-04-16T10:14:48.057Z"
   },
   {
    "duration": 209,
    "start_time": "2023-04-16T10:14:52.318Z"
   },
   {
    "duration": 1344,
    "start_time": "2023-04-16T10:15:14.219Z"
   },
   {
    "duration": 104,
    "start_time": "2023-04-16T10:15:24.307Z"
   },
   {
    "duration": 16,
    "start_time": "2023-04-16T10:15:27.989Z"
   },
   {
    "duration": 11,
    "start_time": "2023-04-16T10:15:41.499Z"
   },
   {
    "duration": 9,
    "start_time": "2023-04-16T10:18:43.601Z"
   },
   {
    "duration": 17,
    "start_time": "2023-04-16T10:19:08.256Z"
   },
   {
    "duration": 8,
    "start_time": "2023-04-16T10:27:59.422Z"
   },
   {
    "duration": 12,
    "start_time": "2023-04-16T10:28:44.792Z"
   },
   {
    "duration": 9,
    "start_time": "2023-04-16T10:29:01.888Z"
   },
   {
    "duration": 22,
    "start_time": "2023-04-16T10:29:10.709Z"
   },
   {
    "duration": 17,
    "start_time": "2023-04-16T10:30:40.439Z"
   },
   {
    "duration": 16,
    "start_time": "2023-04-16T10:30:57.764Z"
   },
   {
    "duration": 6,
    "start_time": "2023-04-16T10:31:43.463Z"
   },
   {
    "duration": 59,
    "start_time": "2023-04-16T10:31:58.597Z"
   },
   {
    "duration": 73,
    "start_time": "2023-04-16T10:32:26.153Z"
   },
   {
    "duration": 20,
    "start_time": "2023-04-16T10:32:47.318Z"
   },
   {
    "duration": 73,
    "start_time": "2023-04-16T10:32:54.815Z"
   },
   {
    "duration": 1999,
    "start_time": "2023-04-16T10:33:49.082Z"
   },
   {
    "duration": 29699,
    "start_time": "2023-04-16T10:34:23.316Z"
   },
   {
    "duration": 279168,
    "start_time": "2023-04-16T10:35:49.402Z"
   },
   {
    "duration": 85569,
    "start_time": "2023-04-16T10:40:54.425Z"
   },
   {
    "duration": 4,
    "start_time": "2023-04-16T10:52:26.123Z"
   },
   {
    "duration": 95,
    "start_time": "2023-04-16T10:53:01.966Z"
   },
   {
    "duration": 469,
    "start_time": "2023-04-16T10:53:27.760Z"
   },
   {
    "duration": 423,
    "start_time": "2023-04-16T10:53:31.838Z"
   },
   {
    "duration": 440,
    "start_time": "2023-04-16T10:54:03.116Z"
   },
   {
    "duration": 526,
    "start_time": "2023-04-16T10:55:06.898Z"
   },
   {
    "duration": 24,
    "start_time": "2023-04-16T11:04:19.670Z"
   },
   {
    "duration": 134,
    "start_time": "2023-04-16T11:04:58.003Z"
   },
   {
    "duration": 12147,
    "start_time": "2023-04-16T11:05:34.699Z"
   },
   {
    "duration": 12841,
    "start_time": "2023-04-16T11:07:42.210Z"
   },
   {
    "duration": 285705,
    "start_time": "2023-04-16T11:08:23.425Z"
   },
   {
    "duration": 116,
    "start_time": "2023-04-16T11:13:09.133Z"
   },
   {
    "duration": 0,
    "start_time": "2023-04-16T11:13:09.252Z"
   },
   {
    "duration": 12337,
    "start_time": "2023-04-16T11:13:13.308Z"
   },
   {
    "duration": 198,
    "start_time": "2023-04-16T11:13:29.105Z"
   },
   {
    "duration": 330,
    "start_time": "2023-04-16T11:13:31.703Z"
   },
   {
    "duration": 491,
    "start_time": "2023-04-16T11:13:34.457Z"
   },
   {
    "duration": 1701,
    "start_time": "2023-04-17T07:56:40.826Z"
   },
   {
    "duration": 3,
    "start_time": "2023-04-17T07:56:42.529Z"
   },
   {
    "duration": 338,
    "start_time": "2023-04-17T07:56:42.534Z"
   },
   {
    "duration": 91,
    "start_time": "2023-04-17T07:56:42.874Z"
   },
   {
    "duration": 49,
    "start_time": "2023-04-17T07:56:42.967Z"
   },
   {
    "duration": 21,
    "start_time": "2023-04-17T07:56:43.018Z"
   },
   {
    "duration": 79,
    "start_time": "2023-04-17T07:56:43.041Z"
   },
   {
    "duration": 61,
    "start_time": "2023-04-17T07:56:43.122Z"
   },
   {
    "duration": 33,
    "start_time": "2023-04-17T07:56:43.185Z"
   },
   {
    "duration": 240,
    "start_time": "2023-04-17T07:56:43.220Z"
   },
   {
    "duration": 388,
    "start_time": "2023-04-17T07:56:43.462Z"
   },
   {
    "duration": 333,
    "start_time": "2023-04-17T07:56:43.852Z"
   },
   {
    "duration": 40,
    "start_time": "2023-04-17T07:56:44.187Z"
   },
   {
    "duration": 5,
    "start_time": "2023-04-17T07:56:44.230Z"
   },
   {
    "duration": 330,
    "start_time": "2023-04-17T07:56:44.236Z"
   },
   {
    "duration": 899,
    "start_time": "2023-04-17T07:56:44.568Z"
   },
   {
    "duration": 20,
    "start_time": "2023-04-17T07:56:45.469Z"
   },
   {
    "duration": 38,
    "start_time": "2023-04-17T07:56:45.491Z"
   },
   {
    "duration": 144,
    "start_time": "2023-04-17T07:56:45.531Z"
   },
   {
    "duration": 23,
    "start_time": "2023-04-17T07:56:45.677Z"
   },
   {
    "duration": 12,
    "start_time": "2023-04-17T07:56:45.712Z"
   },
   {
    "duration": 847,
    "start_time": "2023-04-17T07:56:45.726Z"
   },
   {
    "duration": 20,
    "start_time": "2023-04-17T07:56:46.575Z"
   },
   {
    "duration": 20,
    "start_time": "2023-04-17T07:56:46.597Z"
   },
   {
    "duration": 12,
    "start_time": "2023-04-17T07:56:46.619Z"
   },
   {
    "duration": 6,
    "start_time": "2023-04-17T07:56:46.633Z"
   },
   {
    "duration": 11,
    "start_time": "2023-04-17T07:56:46.641Z"
   },
   {
    "duration": 6,
    "start_time": "2023-04-17T07:56:46.654Z"
   },
   {
    "duration": 10,
    "start_time": "2023-04-17T07:56:46.662Z"
   },
   {
    "duration": 67,
    "start_time": "2023-04-17T07:56:46.711Z"
   },
   {
    "duration": 55,
    "start_time": "2023-04-17T07:56:46.780Z"
   },
   {
    "duration": 2092,
    "start_time": "2023-04-17T07:56:46.840Z"
   },
   {
    "duration": 22878,
    "start_time": "2023-04-17T07:56:48.935Z"
   },
   {
    "duration": 213586,
    "start_time": "2023-04-17T07:57:11.814Z"
   },
   {
    "duration": 20,
    "start_time": "2023-04-17T08:00:45.402Z"
   },
   {
    "duration": 8610,
    "start_time": "2023-04-17T08:00:45.425Z"
   },
   {
    "duration": 200,
    "start_time": "2023-04-17T08:00:54.036Z"
   },
   {
    "duration": 252,
    "start_time": "2023-04-17T08:00:54.238Z"
   },
   {
    "duration": 399,
    "start_time": "2023-04-17T08:00:54.492Z"
   },
   {
    "duration": 113217,
    "start_time": "2023-04-17T08:03:32.433Z"
   },
   {
    "duration": 4438,
    "start_time": "2023-04-17T08:06:13.330Z"
   },
   {
    "duration": 1160,
    "start_time": "2023-04-17T08:09:33.529Z"
   },
   {
    "duration": 7,
    "start_time": "2023-04-17T08:09:48.928Z"
   },
   {
    "duration": 23,
    "start_time": "2023-04-17T08:09:48.937Z"
   },
   {
    "duration": 141,
    "start_time": "2023-04-17T08:09:48.963Z"
   },
   {
    "duration": 84,
    "start_time": "2023-04-17T08:09:49.106Z"
   },
   {
    "duration": 37,
    "start_time": "2023-04-17T08:09:49.214Z"
   },
   {
    "duration": 24,
    "start_time": "2023-04-17T08:09:49.253Z"
   },
   {
    "duration": 97,
    "start_time": "2023-04-17T08:09:49.279Z"
   },
   {
    "duration": 91,
    "start_time": "2023-04-17T08:09:49.378Z"
   },
   {
    "duration": 21,
    "start_time": "2023-04-17T08:09:49.474Z"
   },
   {
    "duration": 200,
    "start_time": "2023-04-17T08:09:50.778Z"
   },
   {
    "duration": 203,
    "start_time": "2023-04-17T08:10:04.968Z"
   },
   {
    "duration": 203,
    "start_time": "2023-04-17T08:10:13.978Z"
   },
   {
    "duration": 340,
    "start_time": "2023-04-17T08:10:22.035Z"
   },
   {
    "duration": 202,
    "start_time": "2023-04-17T08:10:29.581Z"
   },
   {
    "duration": 241,
    "start_time": "2023-04-17T08:27:58.111Z"
   },
   {
    "duration": 261,
    "start_time": "2023-04-17T08:30:01.820Z"
   },
   {
    "duration": 220,
    "start_time": "2023-04-17T08:30:07.080Z"
   },
   {
    "duration": 232,
    "start_time": "2023-04-17T08:30:19.220Z"
   },
   {
    "duration": 233,
    "start_time": "2023-04-17T08:30:26.013Z"
   },
   {
    "duration": 244,
    "start_time": "2023-04-17T08:31:10.809Z"
   },
   {
    "duration": 207,
    "start_time": "2023-04-17T08:31:21.480Z"
   },
   {
    "duration": 208,
    "start_time": "2023-04-17T08:31:54.234Z"
   },
   {
    "duration": 317,
    "start_time": "2023-04-17T08:32:16.706Z"
   },
   {
    "duration": 235,
    "start_time": "2023-04-17T08:32:26.609Z"
   },
   {
    "duration": 220,
    "start_time": "2023-04-17T08:32:59.522Z"
   },
   {
    "duration": 221,
    "start_time": "2023-04-17T08:33:03.958Z"
   },
   {
    "duration": 216,
    "start_time": "2023-04-17T08:33:06.662Z"
   },
   {
    "duration": 239,
    "start_time": "2023-04-17T08:34:26.353Z"
   },
   {
    "duration": 218,
    "start_time": "2023-04-17T08:34:43.801Z"
   },
   {
    "duration": 237,
    "start_time": "2023-04-17T08:34:57.627Z"
   },
   {
    "duration": 408,
    "start_time": "2023-04-17T08:36:18.876Z"
   },
   {
    "duration": 447,
    "start_time": "2023-04-17T08:36:27.870Z"
   },
   {
    "duration": 318,
    "start_time": "2023-04-17T08:36:50.096Z"
   },
   {
    "duration": 336,
    "start_time": "2023-04-17T08:36:55.106Z"
   },
   {
    "duration": 355,
    "start_time": "2023-04-17T08:37:01.709Z"
   },
   {
    "duration": 337,
    "start_time": "2023-04-17T08:37:10.026Z"
   },
   {
    "duration": 522,
    "start_time": "2023-04-17T08:37:13.010Z"
   },
   {
    "duration": 265,
    "start_time": "2023-04-17T08:37:18.292Z"
   },
   {
    "duration": 331,
    "start_time": "2023-04-17T08:40:22.333Z"
   },
   {
    "duration": 26,
    "start_time": "2023-04-17T08:40:26.341Z"
   },
   {
    "duration": 6,
    "start_time": "2023-04-17T08:40:29.151Z"
   },
   {
    "duration": 340,
    "start_time": "2023-04-17T08:40:32.006Z"
   },
   {
    "duration": 372,
    "start_time": "2023-04-17T08:40:59.548Z"
   },
   {
    "duration": 343,
    "start_time": "2023-04-17T08:41:05.297Z"
   },
   {
    "duration": 473,
    "start_time": "2023-04-17T08:41:09.171Z"
   },
   {
    "duration": 391,
    "start_time": "2023-04-17T08:41:12.525Z"
   },
   {
    "duration": 823,
    "start_time": "2023-04-17T08:53:50.955Z"
   },
   {
    "duration": 874,
    "start_time": "2023-04-17T08:54:15.887Z"
   },
   {
    "duration": 1097,
    "start_time": "2023-04-17T08:56:15.097Z"
   },
   {
    "duration": 1022,
    "start_time": "2023-04-17T08:57:18.921Z"
   },
   {
    "duration": 903,
    "start_time": "2023-04-17T08:57:25.132Z"
   },
   {
    "duration": 938,
    "start_time": "2023-04-17T08:57:30.525Z"
   },
   {
    "duration": 646,
    "start_time": "2023-04-17T08:58:50.832Z"
   },
   {
    "duration": 522,
    "start_time": "2023-04-17T09:00:01.731Z"
   },
   {
    "duration": 592,
    "start_time": "2023-04-17T09:00:24.653Z"
   },
   {
    "duration": 962,
    "start_time": "2023-04-17T09:01:13.401Z"
   },
   {
    "duration": 696,
    "start_time": "2023-04-17T09:01:56.273Z"
   },
   {
    "duration": 509,
    "start_time": "2023-04-17T09:02:11.341Z"
   },
   {
    "duration": 517,
    "start_time": "2023-04-17T09:02:21.718Z"
   },
   {
    "duration": 519,
    "start_time": "2023-04-17T09:03:17.713Z"
   },
   {
    "duration": 481,
    "start_time": "2023-04-17T09:03:20.801Z"
   },
   {
    "duration": 997,
    "start_time": "2023-04-17T09:03:23.917Z"
   },
   {
    "duration": 908,
    "start_time": "2023-04-17T09:03:59.767Z"
   },
   {
    "duration": 1031,
    "start_time": "2023-04-17T09:04:38.049Z"
   },
   {
    "duration": 1032,
    "start_time": "2023-04-17T09:04:51.833Z"
   },
   {
    "duration": 935,
    "start_time": "2023-04-17T09:05:04.632Z"
   },
   {
    "duration": 915,
    "start_time": "2023-04-17T09:05:55.928Z"
   },
   {
    "duration": 852,
    "start_time": "2023-04-17T09:06:39.151Z"
   },
   {
    "duration": 1020,
    "start_time": "2023-04-17T09:07:10.081Z"
   },
   {
    "duration": 834,
    "start_time": "2023-04-17T09:07:45.626Z"
   },
   {
    "duration": 857,
    "start_time": "2023-04-17T09:09:37.923Z"
   },
   {
    "duration": 874,
    "start_time": "2023-04-17T09:09:56.437Z"
   },
   {
    "duration": 1153,
    "start_time": "2023-04-17T09:11:31.861Z"
   },
   {
    "duration": 1067,
    "start_time": "2023-04-17T09:13:46.872Z"
   },
   {
    "duration": 1303,
    "start_time": "2023-04-17T09:13:55.263Z"
   },
   {
    "duration": 44,
    "start_time": "2023-04-17T09:14:34.007Z"
   },
   {
    "duration": 1088,
    "start_time": "2023-04-17T09:14:40.481Z"
   },
   {
    "duration": 925,
    "start_time": "2023-04-17T09:18:03.075Z"
   },
   {
    "duration": 859,
    "start_time": "2023-04-17T09:20:45.275Z"
   },
   {
    "duration": 1123,
    "start_time": "2023-04-17T09:27:38.189Z"
   },
   {
    "duration": 873,
    "start_time": "2023-04-17T09:27:57.467Z"
   },
   {
    "duration": 876,
    "start_time": "2023-04-17T09:29:10.309Z"
   },
   {
    "duration": 978,
    "start_time": "2023-04-17T09:30:07.136Z"
   },
   {
    "duration": 896,
    "start_time": "2023-04-17T09:30:23.291Z"
   },
   {
    "duration": 828,
    "start_time": "2023-04-17T09:31:22.817Z"
   },
   {
    "duration": 782,
    "start_time": "2023-04-17T09:31:45.718Z"
   },
   {
    "duration": 1024,
    "start_time": "2023-04-17T09:31:55.309Z"
   },
   {
    "duration": 1002,
    "start_time": "2023-04-17T09:32:29.771Z"
   },
   {
    "duration": 950,
    "start_time": "2023-04-17T09:32:38.677Z"
   },
   {
    "duration": 876,
    "start_time": "2023-04-17T09:32:50.852Z"
   },
   {
    "duration": 1020,
    "start_time": "2023-04-17T09:33:01.019Z"
   },
   {
    "duration": 829,
    "start_time": "2023-04-17T09:33:45.221Z"
   },
   {
    "duration": 953,
    "start_time": "2023-04-17T09:33:56.096Z"
   },
   {
    "duration": 929,
    "start_time": "2023-04-17T09:34:16.018Z"
   },
   {
    "duration": 863,
    "start_time": "2023-04-17T09:34:33.093Z"
   },
   {
    "duration": 133,
    "start_time": "2023-04-17T09:36:55.498Z"
   },
   {
    "duration": 158,
    "start_time": "2023-04-17T09:37:04.141Z"
   },
   {
    "duration": 157,
    "start_time": "2023-04-17T09:37:11.125Z"
   },
   {
    "duration": 156,
    "start_time": "2023-04-17T09:37:26.181Z"
   },
   {
    "duration": 850,
    "start_time": "2023-04-17T09:37:55.772Z"
   },
   {
    "duration": 969,
    "start_time": "2023-04-17T09:38:02.192Z"
   },
   {
    "duration": 153,
    "start_time": "2023-04-17T09:38:18.024Z"
   },
   {
    "duration": 159,
    "start_time": "2023-04-17T09:38:22.105Z"
   },
   {
    "duration": 607,
    "start_time": "2023-04-17T09:40:42.541Z"
   },
   {
    "duration": 20,
    "start_time": "2023-04-17T09:40:58.336Z"
   },
   {
    "duration": 10,
    "start_time": "2023-04-17T09:41:01.745Z"
   },
   {
    "duration": 671,
    "start_time": "2023-04-17T09:41:04.194Z"
   },
   {
    "duration": 862,
    "start_time": "2023-04-17T09:43:20.213Z"
   },
   {
    "duration": 704,
    "start_time": "2023-04-17T09:43:39.043Z"
   },
   {
    "duration": 715,
    "start_time": "2023-04-17T09:44:03.603Z"
   },
   {
    "duration": 711,
    "start_time": "2023-04-17T09:45:29.874Z"
   },
   {
    "duration": 853,
    "start_time": "2023-04-17T09:46:12.075Z"
   },
   {
    "duration": 12,
    "start_time": "2023-04-17T09:48:18.177Z"
   },
   {
    "duration": 2993,
    "start_time": "2023-04-17T09:51:19.781Z"
   },
   {
    "duration": 3056,
    "start_time": "2023-04-17T09:51:53.728Z"
   },
   {
    "duration": 3016,
    "start_time": "2023-04-17T09:52:12.668Z"
   },
   {
    "duration": 3133,
    "start_time": "2023-04-17T09:53:18.560Z"
   },
   {
    "duration": 2931,
    "start_time": "2023-04-17T09:53:35.816Z"
   },
   {
    "duration": 2972,
    "start_time": "2023-04-17T09:54:45.339Z"
   },
   {
    "duration": 3081,
    "start_time": "2023-04-17T09:55:08.566Z"
   },
   {
    "duration": 3057,
    "start_time": "2023-04-17T09:55:36.782Z"
   },
   {
    "duration": 3049,
    "start_time": "2023-04-17T09:56:27.395Z"
   },
   {
    "duration": 3002,
    "start_time": "2023-04-17T09:56:37.090Z"
   },
   {
    "duration": 2982,
    "start_time": "2023-04-17T09:56:43.636Z"
   },
   {
    "duration": 3002,
    "start_time": "2023-04-17T09:57:20.126Z"
   },
   {
    "duration": 267,
    "start_time": "2023-04-17T09:57:51.911Z"
   },
   {
    "duration": 268,
    "start_time": "2023-04-17T09:57:57.111Z"
   },
   {
    "duration": 267,
    "start_time": "2023-04-17T09:58:08.410Z"
   },
   {
    "duration": 410,
    "start_time": "2023-04-17T09:58:15.191Z"
   },
   {
    "duration": 298,
    "start_time": "2023-04-17T10:00:55.504Z"
   },
   {
    "duration": 290,
    "start_time": "2023-04-17T10:01:06.810Z"
   },
   {
    "duration": 305,
    "start_time": "2023-04-17T10:01:09.784Z"
   },
   {
    "duration": 3063,
    "start_time": "2023-04-17T10:07:02.277Z"
   },
   {
    "duration": 2993,
    "start_time": "2023-04-17T10:07:19.125Z"
   },
   {
    "duration": 338,
    "start_time": "2023-04-17T10:22:05.042Z"
   },
   {
    "duration": 282,
    "start_time": "2023-04-17T10:23:47.983Z"
   },
   {
    "duration": 287,
    "start_time": "2023-04-17T10:24:41.014Z"
   },
   {
    "duration": 286,
    "start_time": "2023-04-17T10:24:47.754Z"
   },
   {
    "duration": 291,
    "start_time": "2023-04-17T10:24:56.898Z"
   },
   {
    "duration": 333,
    "start_time": "2023-04-17T10:25:07.272Z"
   },
   {
    "duration": 345,
    "start_time": "2023-04-17T10:25:55.354Z"
   },
   {
    "duration": 512,
    "start_time": "2023-04-17T10:26:02.334Z"
   },
   {
    "duration": 335,
    "start_time": "2023-04-17T10:26:07.257Z"
   },
   {
    "duration": 327,
    "start_time": "2023-04-17T10:26:16.863Z"
   },
   {
    "duration": 351,
    "start_time": "2023-04-17T10:26:29.201Z"
   },
   {
    "duration": 206094,
    "start_time": "2023-04-17T10:27:39.488Z"
   },
   {
    "duration": 7701,
    "start_time": "2023-04-17T10:31:11.009Z"
   },
   {
    "duration": 3231,
    "start_time": "2023-04-17T10:31:20.778Z"
   },
   {
    "duration": 415,
    "start_time": "2023-04-17T10:31:27.161Z"
   },
   {
    "duration": 372,
    "start_time": "2023-04-17T10:31:46.344Z"
   },
   {
    "duration": 360,
    "start_time": "2023-04-17T10:35:40.927Z"
   },
   {
    "duration": 1459,
    "start_time": "2023-04-17T11:03:06.534Z"
   },
   {
    "duration": 3,
    "start_time": "2023-04-17T11:03:07.995Z"
   },
   {
    "duration": 134,
    "start_time": "2023-04-17T11:03:07.999Z"
   },
   {
    "duration": 82,
    "start_time": "2023-04-17T11:03:08.135Z"
   },
   {
    "duration": 17,
    "start_time": "2023-04-17T11:03:08.218Z"
   },
   {
    "duration": 15,
    "start_time": "2023-04-17T11:03:08.236Z"
   },
   {
    "duration": 78,
    "start_time": "2023-04-17T11:03:08.252Z"
   },
   {
    "duration": 51,
    "start_time": "2023-04-17T11:03:08.332Z"
   },
   {
    "duration": 32,
    "start_time": "2023-04-17T11:03:08.385Z"
   },
   {
    "duration": 223,
    "start_time": "2023-04-17T11:03:08.419Z"
   },
   {
    "duration": 308,
    "start_time": "2023-04-17T11:03:08.643Z"
   },
   {
    "duration": 427,
    "start_time": "2023-04-17T11:03:08.953Z"
   },
   {
    "duration": 33,
    "start_time": "2023-04-17T11:03:09.382Z"
   },
   {
    "duration": 5,
    "start_time": "2023-04-17T11:03:09.416Z"
   },
   {
    "duration": 331,
    "start_time": "2023-04-17T11:03:09.423Z"
   },
   {
    "duration": 821,
    "start_time": "2023-04-17T11:03:09.755Z"
   },
   {
    "duration": 21,
    "start_time": "2023-04-17T11:03:10.577Z"
   },
   {
    "duration": 20,
    "start_time": "2023-04-17T11:03:10.611Z"
   },
   {
    "duration": 166,
    "start_time": "2023-04-17T11:03:10.633Z"
   },
   {
    "duration": 26,
    "start_time": "2023-04-17T11:03:10.801Z"
   },
   {
    "duration": 10,
    "start_time": "2023-04-17T11:03:10.828Z"
   },
   {
    "duration": 705,
    "start_time": "2023-04-17T11:03:10.840Z"
   },
   {
    "duration": 15,
    "start_time": "2023-04-17T11:03:11.547Z"
   },
   {
    "duration": 6,
    "start_time": "2023-04-17T11:03:11.564Z"
   },
   {
    "duration": 12,
    "start_time": "2023-04-17T11:03:11.571Z"
   },
   {
    "duration": 30,
    "start_time": "2023-04-17T11:03:11.584Z"
   },
   {
    "duration": 13,
    "start_time": "2023-04-17T11:03:11.616Z"
   },
   {
    "duration": 5,
    "start_time": "2023-04-17T11:03:11.634Z"
   },
   {
    "duration": 8,
    "start_time": "2023-04-17T11:03:11.641Z"
   },
   {
    "duration": 64,
    "start_time": "2023-04-17T11:03:11.650Z"
   },
   {
    "duration": 37,
    "start_time": "2023-04-17T11:03:11.716Z"
   },
   {
    "duration": 2173,
    "start_time": "2023-04-17T11:03:11.754Z"
   },
   {
    "duration": 22455,
    "start_time": "2023-04-17T11:03:13.928Z"
   },
   {
    "duration": 193490,
    "start_time": "2023-04-17T11:03:36.385Z"
   },
   {
    "duration": 15,
    "start_time": "2023-04-17T11:06:49.877Z"
   },
   {
    "duration": 7450,
    "start_time": "2023-04-17T11:06:49.896Z"
   },
   {
    "duration": 3099,
    "start_time": "2023-04-17T11:06:57.348Z"
   },
   {
    "duration": 296,
    "start_time": "2023-04-17T11:07:00.449Z"
   },
   {
    "duration": 500,
    "start_time": "2023-04-17T11:07:00.747Z"
   }
  ],
  "kernelspec": {
   "display_name": "Python 3 (ipykernel)",
   "language": "python",
   "name": "python3"
  },
  "language_info": {
   "codemirror_mode": {
    "name": "ipython",
    "version": 3
   },
   "file_extension": ".py",
   "mimetype": "text/x-python",
   "name": "python",
   "nbconvert_exporter": "python",
   "pygments_lexer": "ipython3",
   "version": "3.9.5"
  },
  "toc": {
   "base_numbering": 1,
   "nav_menu": {},
   "number_sections": true,
   "sideBar": true,
   "skip_h1_title": true,
   "title_cell": "Table of Contents",
   "title_sidebar": "Contents",
   "toc_cell": false,
   "toc_position": {
    "height": "calc(100% - 180px)",
    "left": "10px",
    "top": "150px",
    "width": "239.5px"
   },
   "toc_section_display": true,
   "toc_window_display": true
  }
 },
 "nbformat": 4,
 "nbformat_minor": 5
}
